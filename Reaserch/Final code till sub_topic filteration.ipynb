{
 "cells": [
  {
   "cell_type": "markdown",
   "metadata": {},
   "source": [
    "## Word to word similarity of questions:"
   ]
  },
  {
   "cell_type": "markdown",
   "metadata": {},
   "source": [
    "#### Importing the libraries:"
   ]
  },
  {
   "cell_type": "code",
   "execution_count": 1,
   "metadata": {},
   "outputs": [],
   "source": [
    "import pandas as pd\n",
    "import numpy as np\n",
    "import time\n",
    "import pandas_gbq\n",
    "from google.cloud import bigquery\n",
    "import os,os.path\n",
    "from xmlrpc import client\n",
    "import db_dtypes"
   ]
  },
  {
   "cell_type": "code",
   "execution_count": 2,
   "metadata": {},
   "outputs": [],
   "source": [
    "# Estrablishing connection:\n",
    "auth_json_path = \"D:\\iamneo.ai\\dup-ques-w2w-iamneo\\examly-events-26d60ca289a0.json\"\n",
    "\n",
    "os.environ['GOOGLE_APPLICATION_CREDENTIALS']=os.path.expanduser(auth_json_path)"
   ]
  },
  {
   "cell_type": "code",
   "execution_count": 3,
   "metadata": {},
   "outputs": [],
   "source": [
    "client = bigquery.Client()\n",
    "\n",
    "query = '''\n",
    "SELECT\n",
    "*,\n",
    "(select qb_name from `examly-events.examly_warehouse_mysql_replica.question_banks` where qb_id = dup.qb_id) as qb_name\n",
    "FROM `examly-events.schema_testing_views.questions_dup_view` dup\n",
    "'''"
   ]
  },
  {
   "cell_type": "markdown",
   "metadata": {},
   "source": [
    "#### Fetching all the data"
   ]
  },
  {
   "cell_type": "code",
   "execution_count": 4,
   "metadata": {
    "scrolled": true
   },
   "outputs": [
    {
     "name": "stderr",
     "output_type": "stream",
     "text": [
      "Downloading: 100%|██████████████████████████████████████████████████████| 9279104/9279104 [06:31<00:00, 23713.72rows/s]\n"
     ]
    }
   ],
   "source": [
    "whole_data = pandas_gbq.read_gbq(query, use_bqstorage_api=True,dialect=\"standard\")"
   ]
  },
  {
   "cell_type": "code",
   "execution_count": 5,
   "metadata": {},
   "outputs": [
    {
     "data": {
      "text/plain": [
       "19"
      ]
     },
     "execution_count": 5,
     "metadata": {},
     "output_type": "execute_result"
    }
   ],
   "source": [
    "# Number of question type present in the data\n",
    "whole_data[\"question_type\"].nunique()"
   ]
  },
  {
   "cell_type": "markdown",
   "metadata": {},
   "source": [
    "# Data Insights:"
   ]
  },
  {
   "cell_type": "code",
   "execution_count": 6,
   "metadata": {},
   "outputs": [
    {
     "data": {
      "text/plain": [
       "mcq_single_correct                 8567512\n",
       "programming                         393877\n",
       "descriptive_answer_writing          153574\n",
       "fillup_single_correct               110533\n",
       "essay_email_writing                  11656\n",
       "file_upload_questions                 9401\n",
       "descriptive_answer_writing_text       9172\n",
       "mcq_multiple_correct                  8061\n",
       "programming_file_based                7690\n",
       "html_css_js                           4964\n",
       "frontend_technology                   1042\n",
       "project_question                       922\n",
       "diagram                                389\n",
       "video_answer_speaking                  189\n",
       "classification                          74\n",
       "cloud_question                          17\n",
       "question_paper_upload                   15\n",
       "block_programming                        9\n",
       "                                         7\n",
       "Name: question_type, dtype: int64"
      ]
     },
     "execution_count": 6,
     "metadata": {},
     "output_type": "execute_result"
    }
   ],
   "source": [
    "# \n",
    "whole_data[\"question_type\"].value_counts()"
   ]
  },
  {
   "cell_type": "code",
   "execution_count": 7,
   "metadata": {},
   "outputs": [],
   "source": [
    "#whole_data[\"question_type\"].value_counts().to_excel(\"q_type_contribution.xlsx\")"
   ]
  },
  {
   "cell_type": "code",
   "execution_count": 7,
   "metadata": {},
   "outputs": [],
   "source": [
    "#filtering the mcq_single_correct data as it has the maximum contribution.\n",
    "mcq_single_correct_data = whole_data.iloc[np.where(whole_data[\"question_type\"] == \"mcq_single_correct\")]"
   ]
  },
  {
   "cell_type": "code",
   "execution_count": 8,
   "metadata": {},
   "outputs": [
    {
     "data": {
      "text/html": [
       "<div>\n",
       "<style scoped>\n",
       "    .dataframe tbody tr th:only-of-type {\n",
       "        vertical-align: middle;\n",
       "    }\n",
       "\n",
       "    .dataframe tbody tr th {\n",
       "        vertical-align: top;\n",
       "    }\n",
       "\n",
       "    .dataframe thead th {\n",
       "        text-align: right;\n",
       "    }\n",
       "</style>\n",
       "<table border=\"1\" class=\"dataframe\">\n",
       "  <thead>\n",
       "    <tr style=\"text-align: right;\">\n",
       "      <th></th>\n",
       "      <th>qb_id</th>\n",
       "      <th>q_id</th>\n",
       "      <th>question_data</th>\n",
       "      <th>manual_difficulty</th>\n",
       "      <th>question_type</th>\n",
       "      <th>imported</th>\n",
       "      <th>subject_id</th>\n",
       "      <th>topic_id</th>\n",
       "      <th>sub_topic_id</th>\n",
       "      <th>subject</th>\n",
       "      <th>topic</th>\n",
       "      <th>sub_topic</th>\n",
       "      <th>createdAt</th>\n",
       "      <th>school_id</th>\n",
       "      <th>q_deletedAt</th>\n",
       "      <th>qb_deletedAt</th>\n",
       "      <th>school_code</th>\n",
       "      <th>mcq_questions_options</th>\n",
       "      <th>mcq_questions_answer</th>\n",
       "      <th>qb_name</th>\n",
       "    </tr>\n",
       "  </thead>\n",
       "  <tbody>\n",
       "    <tr>\n",
       "      <th>1</th>\n",
       "      <td>447a7ce9-476a-48ec-b5c4-40d495ae0087</td>\n",
       "      <td>0c45b707-2917-4a37-aaf1-3908d92f2048</td>\n",
       "      <td>&lt;p&gt;In an LLG fault, the zero sequence and nega...</td>\n",
       "      <td>Easy</td>\n",
       "      <td>mcq_single_correct</td>\n",
       "      <td>original_question</td>\n",
       "      <td>5e2f4532-bf80-4a29-8599-16f91a09d478</td>\n",
       "      <td>2015798e-92bd-46f8-ae4a-8c5969744bfe</td>\n",
       "      <td>ac3f5f5b-635b-4a1b-834f-61b784e197b6</td>\n",
       "      <td>Engineering</td>\n",
       "      <td>Electrical</td>\n",
       "      <td>Power System</td>\n",
       "      <td>2019-10-15 05:48:03</td>\n",
       "      <td>ea3bf5eb-c116-420d-afa8-1585a2283c9d</td>\n",
       "      <td>NaT</td>\n",
       "      <td>NaT</td>\n",
       "      <td>cmrit977</td>\n",
       "      <td>[{\"text\":\"&lt;p&gt;Series  &lt;/p&gt;\",\"media\":\"\"},{\"text\"...</td>\n",
       "      <td>{\"args\":[\"&lt;p&gt;Parallel  &lt;/p&gt;\"],\"partial\":[]}</td>\n",
       "      <td>POWER SYSTEM ANALYSIS 1 15EE62</td>\n",
       "    </tr>\n",
       "  </tbody>\n",
       "</table>\n",
       "</div>"
      ],
      "text/plain": [
       "                                  qb_id                                  q_id  \\\n",
       "1  447a7ce9-476a-48ec-b5c4-40d495ae0087  0c45b707-2917-4a37-aaf1-3908d92f2048   \n",
       "\n",
       "                                       question_data manual_difficulty  \\\n",
       "1  <p>In an LLG fault, the zero sequence and nega...              Easy   \n",
       "\n",
       "        question_type           imported  \\\n",
       "1  mcq_single_correct  original_question   \n",
       "\n",
       "                             subject_id                              topic_id  \\\n",
       "1  5e2f4532-bf80-4a29-8599-16f91a09d478  2015798e-92bd-46f8-ae4a-8c5969744bfe   \n",
       "\n",
       "                           sub_topic_id      subject       topic  \\\n",
       "1  ac3f5f5b-635b-4a1b-834f-61b784e197b6  Engineering  Electrical   \n",
       "\n",
       "      sub_topic           createdAt                             school_id  \\\n",
       "1  Power System 2019-10-15 05:48:03  ea3bf5eb-c116-420d-afa8-1585a2283c9d   \n",
       "\n",
       "  q_deletedAt qb_deletedAt school_code  \\\n",
       "1         NaT          NaT    cmrit977   \n",
       "\n",
       "                               mcq_questions_options  \\\n",
       "1  [{\"text\":\"<p>Series  </p>\",\"media\":\"\"},{\"text\"...   \n",
       "\n",
       "                          mcq_questions_answer                         qb_name  \n",
       "1  {\"args\":[\"<p>Parallel  </p>\"],\"partial\":[]}  POWER SYSTEM ANALYSIS 1 15EE62  "
      ]
     },
     "execution_count": 8,
     "metadata": {},
     "output_type": "execute_result"
    }
   ],
   "source": [
    "mcq_single_correct_data.head(1)"
   ]
  },
  {
   "cell_type": "code",
   "execution_count": 9,
   "metadata": {},
   "outputs": [
    {
     "data": {
      "text/plain": [
       "array(['Engineering', 'Test Subject', 'Programming', 'bulk-imported',\n",
       "       'COE', 'Nandha', 'Commerce', 'MCQ', 'C8-Maths', 'Aptitude',\n",
       "       'End Semester', 'Soft Skills', 'Communication Skills',\n",
       "       'Logical skills', 'ECE', 'History', 'Mechanical',\n",
       "       'Environment and Ecology', 'Management', 'Essay', 'Social Justice',\n",
       "       'Indian Economy', 'TEACHING METHODOLOGY - PART 1',\n",
       "       'Java Full Stack Development', 'Art and Culture',\n",
       "       'Domain Training', 'CSAT', 'C++', 'Polity', 'Finance and Accounts',\n",
       "       'Personality', 'French', 'Geography', 'Technical',\n",
       "       'Computer Applications', 'Kongu', 'Java',\n",
       "       'International Relations', 'CSE',\n",
       "       'Database Management System (DBMS)', 'Science and Technology',\n",
       "       'Business Development and Sales', 'EEE', 'Linux', 'Data',\n",
       "       'Class 6 - Maths', 'BCM_Basic Civil and Mechanical Engineering',\n",
       "       'Civil', 'C6-Maths', None, 'Data Engineering (Python)',\n",
       "       'Web Technology and its Applications (WT)',\n",
       "       'Computer Networks (CN)', 'Machine Learning (Ml)',\n",
       "       'BPO and Customer Service', 'Software Engineer',\n",
       "       'Data Engineering (SQL)', 'Engineering Mathematics',\n",
       "       'Management and Entrepreneurship for IT Industry',\n",
       "       'BT_Biotechnology', 'Advanced Computer Architectures (ACA)',\n",
       "       'ENTREPRENEURSHIP', 'Preprimary TM', 'Disaster Management',\n",
       "       'Defence and Security', 'Data Engineering', 'Core Java',\n",
       "       'IT_Information Technology', 'Quantitative Skills',\n",
       "       'FINE MOTOR SKILL PART I', 'BCA-Computer Applications',\n",
       "       'Indian Society', 'Cloud Computing and its Applications (CC)',\n",
       "       'C7-Maths', 'VISTAS', 'Engineering Chemistry',\n",
       "       'BBA_Business Administration', 'CS_Computer Science',\n",
       "       'OE1: Dot Net Framework for Application Development (OE)'],\n",
       "      dtype=object)"
      ]
     },
     "execution_count": 9,
     "metadata": {},
     "output_type": "execute_result"
    }
   ],
   "source": [
    "mcq_single_correct_data[\"subject\"].unique()"
   ]
  },
  {
   "cell_type": "code",
   "execution_count": 10,
   "metadata": {},
   "outputs": [
    {
     "data": {
      "text/plain": [
       "79"
      ]
     },
     "execution_count": 10,
     "metadata": {},
     "output_type": "execute_result"
    }
   ],
   "source": [
    "len(list(mcq_single_correct_data[\"subject\"].unique()))"
   ]
  },
  {
   "cell_type": "code",
   "execution_count": 11,
   "metadata": {},
   "outputs": [
    {
     "data": {
      "text/plain": [
       "(8567512, 20)"
      ]
     },
     "execution_count": 11,
     "metadata": {},
     "output_type": "execute_result"
    }
   ],
   "source": [
    "mcq_single_correct_data.shape"
   ]
  },
  {
   "cell_type": "code",
   "execution_count": 12,
   "metadata": {},
   "outputs": [
    {
     "data": {
      "text/plain": [
       "26740"
      ]
     },
     "execution_count": 12,
     "metadata": {},
     "output_type": "execute_result"
    }
   ],
   "source": [
    "mcq_single_correct_data[\"mcq_questions_options\"].isna().sum()"
   ]
  },
  {
   "cell_type": "code",
   "execution_count": 13,
   "metadata": {},
   "outputs": [
    {
     "ename": "ValueError",
     "evalue": "The truth value of a Series is ambiguous. Use a.empty, a.bool(), a.item(), a.any() or a.all().",
     "output_type": "error",
     "traceback": [
      "\u001b[1;31m---------------------------------------------------------------------------\u001b[0m",
      "\u001b[1;31mValueError\u001b[0m                                Traceback (most recent call last)",
      "Input \u001b[1;32mIn [13]\u001b[0m, in \u001b[0;36m<cell line: 2>\u001b[1;34m()\u001b[0m\n\u001b[0;32m      1\u001b[0m \u001b[38;5;66;03m# mcq_questions_options with none values --> y\u001b[39;00m\n\u001b[1;32m----> 2\u001b[0m y \u001b[38;5;241m=\u001b[39m mcq_single_correct_data\u001b[38;5;241m.\u001b[39miloc[np\u001b[38;5;241m.\u001b[39mwhere(mcq_single_correct_data[\u001b[38;5;124m\"\u001b[39m\u001b[38;5;124mmcq_questions_options\u001b[39m\u001b[38;5;124m\"\u001b[39m]\u001b[38;5;241m.\u001b[39misna() \u001b[38;5;241m==\u001b[39m \u001b[38;5;28;01mTrue\u001b[39;00m \u001b[38;5;129;01mand\u001b[39;00m mcq_single_correct_data[\u001b[38;5;124m\"\u001b[39m\u001b[38;5;124mquestion_data\u001b[39m\u001b[38;5;124m\"\u001b[39m] \u001b[38;5;241m==\u001b[39m \u001b[38;5;124m'\u001b[39m\u001b[38;5;124m<p></p>\u001b[39m\u001b[38;5;124m'\u001b[39m)]\n",
      "File \u001b[1;32m~\\anaconda3\\lib\\site-packages\\pandas\\core\\generic.py:1537\u001b[0m, in \u001b[0;36mNDFrame.__nonzero__\u001b[1;34m(self)\u001b[0m\n\u001b[0;32m   1535\u001b[0m \u001b[38;5;129m@final\u001b[39m\n\u001b[0;32m   1536\u001b[0m \u001b[38;5;28;01mdef\u001b[39;00m \u001b[38;5;21m__nonzero__\u001b[39m(\u001b[38;5;28mself\u001b[39m):\n\u001b[1;32m-> 1537\u001b[0m     \u001b[38;5;28;01mraise\u001b[39;00m \u001b[38;5;167;01mValueError\u001b[39;00m(\n\u001b[0;32m   1538\u001b[0m         \u001b[38;5;124mf\u001b[39m\u001b[38;5;124m\"\u001b[39m\u001b[38;5;124mThe truth value of a \u001b[39m\u001b[38;5;132;01m{\u001b[39;00m\u001b[38;5;28mtype\u001b[39m(\u001b[38;5;28mself\u001b[39m)\u001b[38;5;241m.\u001b[39m\u001b[38;5;18m__name__\u001b[39m\u001b[38;5;132;01m}\u001b[39;00m\u001b[38;5;124m is ambiguous. \u001b[39m\u001b[38;5;124m\"\u001b[39m\n\u001b[0;32m   1539\u001b[0m         \u001b[38;5;124m\"\u001b[39m\u001b[38;5;124mUse a.empty, a.bool(), a.item(), a.any() or a.all().\u001b[39m\u001b[38;5;124m\"\u001b[39m\n\u001b[0;32m   1540\u001b[0m     )\n",
      "\u001b[1;31mValueError\u001b[0m: The truth value of a Series is ambiguous. Use a.empty, a.bool(), a.item(), a.any() or a.all()."
     ]
    }
   ],
   "source": [
    "# mcq_questions_options with none values --> y\n",
    "#y = mcq_single_correct_data.iloc[np.where(mcq_single_correct_data[\"mcq_questions_options\"].isna() == True)]"
   ]
  },
  {
   "cell_type": "code",
   "execution_count": 35,
   "metadata": {},
   "outputs": [
    {
     "data": {
      "text/plain": [
       "COE                      6200\n",
       "Aptitude                  903\n",
       "Programming               321\n",
       "Engineering                50\n",
       "VISTAS                     23\n",
       "Test Subject               18\n",
       "Data                        2\n",
       "MCQ                         2\n",
       "Computer Applications       1\n",
       "Name: subject, dtype: int64"
      ]
     },
     "execution_count": 35,
     "metadata": {},
     "output_type": "execute_result"
    }
   ],
   "source": [
    "#y[\"subject\"].value_counts()"
   ]
  },
  {
   "cell_type": "code",
   "execution_count": 12,
   "metadata": {},
   "outputs": [
    {
     "data": {
      "text/plain": [
       "26740"
      ]
     },
     "execution_count": 12,
     "metadata": {},
     "output_type": "execute_result"
    }
   ],
   "source": [
    "# Empty \n",
    "mcq_single_correct_data[\"mcq_questions_options\"].isnull().sum()"
   ]
  },
  {
   "cell_type": "code",
   "execution_count": 13,
   "metadata": {
    "scrolled": true
   },
   "outputs": [
    {
     "data": {
      "text/plain": [
       "(73140, 20)"
      ]
     },
     "execution_count": 13,
     "metadata": {},
     "output_type": "execute_result"
    }
   ],
   "source": [
    "# Empty question rows\n",
    "mcq_single_correct_data.iloc[np.where(mcq_single_correct_data[\"question_data\"] == '<p></p>')].shape"
   ]
  },
  {
   "cell_type": "code",
   "execution_count": 14,
   "metadata": {},
   "outputs": [],
   "source": [
    "# mcq_single_correct[question_data] having empty question --> x\n",
    "x = mcq_single_correct_data.iloc[np.where(mcq_single_correct_data[\"question_data\"] == '<p></p>')]"
   ]
  },
  {
   "cell_type": "code",
   "execution_count": 34,
   "metadata": {},
   "outputs": [],
   "source": [
    "idx = [] # empty mcq rows whose question deletion or qb deletion data is absent.\n",
    "for i in range(len(x[\"question_data\"])):\n",
    "    if x[\"q_deletedAt\"].iloc[i] is pd.NaT:\n",
    "        if x[\"qb_deletedAt\"].iloc[i] is pd.NaT:\n",
    "            if x[\"mcq_questions_options\"].iloc[i] == '[]':\n",
    "                idx.append(i)"
   ]
  },
  {
   "cell_type": "code",
   "execution_count": 35,
   "metadata": {},
   "outputs": [
    {
     "data": {
      "text/plain": [
       "1006"
      ]
     },
     "execution_count": 35,
     "metadata": {},
     "output_type": "execute_result"
    }
   ],
   "source": [
    "len(idx)"
   ]
  },
  {
   "cell_type": "code",
   "execution_count": 36,
   "metadata": {},
   "outputs": [
    {
     "data": {
      "text/html": [
       "<div>\n",
       "<style scoped>\n",
       "    .dataframe tbody tr th:only-of-type {\n",
       "        vertical-align: middle;\n",
       "    }\n",
       "\n",
       "    .dataframe tbody tr th {\n",
       "        vertical-align: top;\n",
       "    }\n",
       "\n",
       "    .dataframe thead th {\n",
       "        text-align: right;\n",
       "    }\n",
       "</style>\n",
       "<table border=\"1\" class=\"dataframe\">\n",
       "  <thead>\n",
       "    <tr style=\"text-align: right;\">\n",
       "      <th></th>\n",
       "      <th>qb_id</th>\n",
       "      <th>q_id</th>\n",
       "      <th>question_data</th>\n",
       "      <th>manual_difficulty</th>\n",
       "      <th>question_type</th>\n",
       "      <th>imported</th>\n",
       "      <th>subject_id</th>\n",
       "      <th>topic_id</th>\n",
       "      <th>sub_topic_id</th>\n",
       "      <th>subject</th>\n",
       "      <th>topic</th>\n",
       "      <th>sub_topic</th>\n",
       "      <th>createdAt</th>\n",
       "      <th>school_id</th>\n",
       "      <th>q_deletedAt</th>\n",
       "      <th>qb_deletedAt</th>\n",
       "      <th>school_code</th>\n",
       "      <th>mcq_questions_options</th>\n",
       "      <th>mcq_questions_answer</th>\n",
       "      <th>qb_name</th>\n",
       "    </tr>\n",
       "  </thead>\n",
       "  <tbody>\n",
       "    <tr>\n",
       "      <th>578782</th>\n",
       "      <td>966b29e0-0ceb-4f1f-af59-02acf4f8a5e9</td>\n",
       "      <td>d5fc848b-b972-453b-b61d-6fa2a2f82f85</td>\n",
       "      <td>&lt;p&gt;&lt;/p&gt;</td>\n",
       "      <td>Medium</td>\n",
       "      <td>mcq_single_correct</td>\n",
       "      <td>original_question</td>\n",
       "      <td>None</td>\n",
       "      <td>None</td>\n",
       "      <td>None</td>\n",
       "      <td>None</td>\n",
       "      <td>None</td>\n",
       "      <td>None</td>\n",
       "      <td>2020-10-16 05:18:01</td>\n",
       "      <td>3e4ea61d-dca6-4ec8-94d9-f5f632878764</td>\n",
       "      <td>NaT</td>\n",
       "      <td>NaT</td>\n",
       "      <td>siet826</td>\n",
       "      <td>[]</td>\n",
       "      <td>{}</td>\n",
       "      <td>CTS Topic-Wise QP 16.10.2020</td>\n",
       "    </tr>\n",
       "    <tr>\n",
       "      <th>579019</th>\n",
       "      <td>28c95a3a-a8b8-4648-abcb-0de17cebeeb7</td>\n",
       "      <td>5b69c33e-eb69-49bf-b2cc-4cb01e890622</td>\n",
       "      <td>&lt;p&gt;&lt;/p&gt;</td>\n",
       "      <td>Medium</td>\n",
       "      <td>mcq_single_correct</td>\n",
       "      <td>original_question</td>\n",
       "      <td>None</td>\n",
       "      <td>None</td>\n",
       "      <td>None</td>\n",
       "      <td>None</td>\n",
       "      <td>None</td>\n",
       "      <td>None</td>\n",
       "      <td>2020-11-18 11:14:20</td>\n",
       "      <td>1fbf5ae7-e849-4545-b49f-d0e1e7f4ed6d</td>\n",
       "      <td>NaT</td>\n",
       "      <td>NaT</td>\n",
       "      <td>hicet902</td>\n",
       "      <td>[]</td>\n",
       "      <td>{}</td>\n",
       "      <td>19MT3203_ Unit _V_Part A_DAMS</td>\n",
       "    </tr>\n",
       "    <tr>\n",
       "      <th>590810</th>\n",
       "      <td>26e3ed46-4df3-4749-ba21-a42091a65fb5</td>\n",
       "      <td>8637bd1b-a2bc-46eb-a297-788a6704bcec</td>\n",
       "      <td>&lt;p&gt;&lt;/p&gt;</td>\n",
       "      <td>Medium</td>\n",
       "      <td>mcq_single_correct</td>\n",
       "      <td>original_question</td>\n",
       "      <td>None</td>\n",
       "      <td>None</td>\n",
       "      <td>None</td>\n",
       "      <td>None</td>\n",
       "      <td>None</td>\n",
       "      <td>None</td>\n",
       "      <td>2020-11-21 05:46:49</td>\n",
       "      <td>1fbf5ae7-e849-4545-b49f-d0e1e7f4ed6d</td>\n",
       "      <td>NaT</td>\n",
       "      <td>NaT</td>\n",
       "      <td>hicet902</td>\n",
       "      <td>[]</td>\n",
       "      <td>{}</td>\n",
       "      <td>19ME3201_MFT I_U3_PART A</td>\n",
       "    </tr>\n",
       "    <tr>\n",
       "      <th>591576</th>\n",
       "      <td>2083120c-99d6-455e-bc28-af82d0106d19</td>\n",
       "      <td>e514f182-9234-4440-b801-94c6549cf368</td>\n",
       "      <td>&lt;p&gt;&lt;/p&gt;</td>\n",
       "      <td>Medium</td>\n",
       "      <td>mcq_single_correct</td>\n",
       "      <td>original_question</td>\n",
       "      <td>None</td>\n",
       "      <td>None</td>\n",
       "      <td>None</td>\n",
       "      <td>None</td>\n",
       "      <td>None</td>\n",
       "      <td>None</td>\n",
       "      <td>2020-10-23 08:39:00</td>\n",
       "      <td>3e4ea61d-dca6-4ec8-94d9-f5f632878764</td>\n",
       "      <td>NaT</td>\n",
       "      <td>NaT</td>\n",
       "      <td>siet826</td>\n",
       "      <td>[]</td>\n",
       "      <td>{}</td>\n",
       "      <td>Time Speed Distance</td>\n",
       "    </tr>\n",
       "    <tr>\n",
       "      <th>607131</th>\n",
       "      <td>a0fa672a-a332-4ca8-a6da-1f1cdad2b176</td>\n",
       "      <td>16a2b618-f9f1-46f7-884b-f64ca795667e</td>\n",
       "      <td>&lt;p&gt;&lt;/p&gt;</td>\n",
       "      <td>Medium</td>\n",
       "      <td>mcq_single_correct</td>\n",
       "      <td>original_question</td>\n",
       "      <td>None</td>\n",
       "      <td>None</td>\n",
       "      <td>None</td>\n",
       "      <td>None</td>\n",
       "      <td>None</td>\n",
       "      <td>None</td>\n",
       "      <td>2018-09-27 11:00:54</td>\n",
       "      <td>511d98eb-361f-4bdb-8cc9-f0f62cb96edd</td>\n",
       "      <td>NaT</td>\n",
       "      <td>NaT</td>\n",
       "      <td>spark327</td>\n",
       "      <td>[]</td>\n",
       "      <td>{}</td>\n",
       "      <td>Synonyms</td>\n",
       "    </tr>\n",
       "    <tr>\n",
       "      <th>...</th>\n",
       "      <td>...</td>\n",
       "      <td>...</td>\n",
       "      <td>...</td>\n",
       "      <td>...</td>\n",
       "      <td>...</td>\n",
       "      <td>...</td>\n",
       "      <td>...</td>\n",
       "      <td>...</td>\n",
       "      <td>...</td>\n",
       "      <td>...</td>\n",
       "      <td>...</td>\n",
       "      <td>...</td>\n",
       "      <td>...</td>\n",
       "      <td>...</td>\n",
       "      <td>...</td>\n",
       "      <td>...</td>\n",
       "      <td>...</td>\n",
       "      <td>...</td>\n",
       "      <td>...</td>\n",
       "      <td>...</td>\n",
       "    </tr>\n",
       "    <tr>\n",
       "      <th>5538922</th>\n",
       "      <td>13d7e80a-7571-435b-a30a-5c6633bd4a40</td>\n",
       "      <td>54baae24-d0ab-478e-bdc4-18a601b430bb</td>\n",
       "      <td>&lt;p&gt;&lt;/p&gt;</td>\n",
       "      <td>Medium</td>\n",
       "      <td>mcq_single_correct</td>\n",
       "      <td>original_question</td>\n",
       "      <td>None</td>\n",
       "      <td>None</td>\n",
       "      <td>None</td>\n",
       "      <td>None</td>\n",
       "      <td>None</td>\n",
       "      <td>None</td>\n",
       "      <td>2020-10-17 03:20:47</td>\n",
       "      <td>3e4ea61d-dca6-4ec8-94d9-f5f632878764</td>\n",
       "      <td>NaT</td>\n",
       "      <td>NaT</td>\n",
       "      <td>siet826</td>\n",
       "      <td>[]</td>\n",
       "      <td>{}</td>\n",
       "      <td>TCS Ages Numbers Profit Ratio</td>\n",
       "    </tr>\n",
       "    <tr>\n",
       "      <th>5538963</th>\n",
       "      <td>48012fc2-8c4b-4c85-b267-8b0f0059b3d1</td>\n",
       "      <td>df50aafc-2464-4714-b5d6-08977f400da7</td>\n",
       "      <td>&lt;p&gt;&lt;/p&gt;</td>\n",
       "      <td>Medium</td>\n",
       "      <td>mcq_single_correct</td>\n",
       "      <td>original_question</td>\n",
       "      <td>None</td>\n",
       "      <td>None</td>\n",
       "      <td>None</td>\n",
       "      <td>None</td>\n",
       "      <td>None</td>\n",
       "      <td>None</td>\n",
       "      <td>2020-10-17 03:24:39</td>\n",
       "      <td>3e4ea61d-dca6-4ec8-94d9-f5f632878764</td>\n",
       "      <td>NaT</td>\n",
       "      <td>NaT</td>\n",
       "      <td>siet826</td>\n",
       "      <td>[]</td>\n",
       "      <td>{}</td>\n",
       "      <td>TCS Logical Reasoning II</td>\n",
       "    </tr>\n",
       "    <tr>\n",
       "      <th>5555617</th>\n",
       "      <td>b9c0f255-d591-4624-95b4-80bf44d74bc7</td>\n",
       "      <td>92a49bb0-002d-4269-8c22-a3844e83727e</td>\n",
       "      <td>&lt;p&gt;&lt;/p&gt;</td>\n",
       "      <td>Medium</td>\n",
       "      <td>mcq_single_correct</td>\n",
       "      <td>original_question</td>\n",
       "      <td>None</td>\n",
       "      <td>None</td>\n",
       "      <td>None</td>\n",
       "      <td>None</td>\n",
       "      <td>None</td>\n",
       "      <td>None</td>\n",
       "      <td>2020-10-17 03:35:20</td>\n",
       "      <td>3e4ea61d-dca6-4ec8-94d9-f5f632878764</td>\n",
       "      <td>NaT</td>\n",
       "      <td>NaT</td>\n",
       "      <td>siet826</td>\n",
       "      <td>[]</td>\n",
       "      <td>{}</td>\n",
       "      <td>TCS Permutation</td>\n",
       "    </tr>\n",
       "    <tr>\n",
       "      <th>5620802</th>\n",
       "      <td>fa0852cd-ee46-4ee9-9d8f-1c5c3c84f5dd</td>\n",
       "      <td>859871ab-7eaf-4bdb-b139-f2370f8b1ea4</td>\n",
       "      <td>&lt;p&gt;&lt;/p&gt;</td>\n",
       "      <td>Medium</td>\n",
       "      <td>mcq_single_correct</td>\n",
       "      <td>original_question</td>\n",
       "      <td>None</td>\n",
       "      <td>None</td>\n",
       "      <td>None</td>\n",
       "      <td>None</td>\n",
       "      <td>None</td>\n",
       "      <td>None</td>\n",
       "      <td>2019-12-31 10:13:24</td>\n",
       "      <td>f8feb13d-df22-43ec-acb8-31f873d9d104</td>\n",
       "      <td>NaT</td>\n",
       "      <td>NaT</td>\n",
       "      <td>sixphrase111</td>\n",
       "      <td>[]</td>\n",
       "      <td>{}</td>\n",
       "      <td>FLUID MECHANICS AND MACHINERY</td>\n",
       "    </tr>\n",
       "    <tr>\n",
       "      <th>8275668</th>\n",
       "      <td>70fbdde4-f4c0-417e-a759-fbe39167ebd3</td>\n",
       "      <td>58763fe3-272c-4a79-806e-97380b8bf4b5</td>\n",
       "      <td>&lt;p&gt;&lt;/p&gt;</td>\n",
       "      <td>Medium</td>\n",
       "      <td>mcq_single_correct</td>\n",
       "      <td>original_question</td>\n",
       "      <td>e8a9b71a-8bdd-4208-a074-a3d62ab446c2</td>\n",
       "      <td>b05650e9-988e-4d43-ade1-5a0bad4489ae</td>\n",
       "      <td>c56e206c-4a5e-46b7-87ff-2fa53f7c6ab8</td>\n",
       "      <td>VISTAS</td>\n",
       "      <td>SemExam</td>\n",
       "      <td>Unit 1</td>\n",
       "      <td>2020-12-17 07:23:09</td>\n",
       "      <td>77a55a51-0698-4d26-9396-08c05d689274</td>\n",
       "      <td>NaT</td>\n",
       "      <td>NaT</td>\n",
       "      <td>vistas296</td>\n",
       "      <td>[]</td>\n",
       "      <td>{}</td>\n",
       "      <td>ESODD2020_18CMSO32_MCQ</td>\n",
       "    </tr>\n",
       "  </tbody>\n",
       "</table>\n",
       "<p>1006 rows × 20 columns</p>\n",
       "</div>"
      ],
      "text/plain": [
       "                                        qb_id  \\\n",
       "578782   966b29e0-0ceb-4f1f-af59-02acf4f8a5e9   \n",
       "579019   28c95a3a-a8b8-4648-abcb-0de17cebeeb7   \n",
       "590810   26e3ed46-4df3-4749-ba21-a42091a65fb5   \n",
       "591576   2083120c-99d6-455e-bc28-af82d0106d19   \n",
       "607131   a0fa672a-a332-4ca8-a6da-1f1cdad2b176   \n",
       "...                                       ...   \n",
       "5538922  13d7e80a-7571-435b-a30a-5c6633bd4a40   \n",
       "5538963  48012fc2-8c4b-4c85-b267-8b0f0059b3d1   \n",
       "5555617  b9c0f255-d591-4624-95b4-80bf44d74bc7   \n",
       "5620802  fa0852cd-ee46-4ee9-9d8f-1c5c3c84f5dd   \n",
       "8275668  70fbdde4-f4c0-417e-a759-fbe39167ebd3   \n",
       "\n",
       "                                         q_id question_data manual_difficulty  \\\n",
       "578782   d5fc848b-b972-453b-b61d-6fa2a2f82f85       <p></p>            Medium   \n",
       "579019   5b69c33e-eb69-49bf-b2cc-4cb01e890622       <p></p>            Medium   \n",
       "590810   8637bd1b-a2bc-46eb-a297-788a6704bcec       <p></p>            Medium   \n",
       "591576   e514f182-9234-4440-b801-94c6549cf368       <p></p>            Medium   \n",
       "607131   16a2b618-f9f1-46f7-884b-f64ca795667e       <p></p>            Medium   \n",
       "...                                       ...           ...               ...   \n",
       "5538922  54baae24-d0ab-478e-bdc4-18a601b430bb       <p></p>            Medium   \n",
       "5538963  df50aafc-2464-4714-b5d6-08977f400da7       <p></p>            Medium   \n",
       "5555617  92a49bb0-002d-4269-8c22-a3844e83727e       <p></p>            Medium   \n",
       "5620802  859871ab-7eaf-4bdb-b139-f2370f8b1ea4       <p></p>            Medium   \n",
       "8275668  58763fe3-272c-4a79-806e-97380b8bf4b5       <p></p>            Medium   \n",
       "\n",
       "              question_type           imported  \\\n",
       "578782   mcq_single_correct  original_question   \n",
       "579019   mcq_single_correct  original_question   \n",
       "590810   mcq_single_correct  original_question   \n",
       "591576   mcq_single_correct  original_question   \n",
       "607131   mcq_single_correct  original_question   \n",
       "...                     ...                ...   \n",
       "5538922  mcq_single_correct  original_question   \n",
       "5538963  mcq_single_correct  original_question   \n",
       "5555617  mcq_single_correct  original_question   \n",
       "5620802  mcq_single_correct  original_question   \n",
       "8275668  mcq_single_correct  original_question   \n",
       "\n",
       "                                   subject_id  \\\n",
       "578782                                   None   \n",
       "579019                                   None   \n",
       "590810                                   None   \n",
       "591576                                   None   \n",
       "607131                                   None   \n",
       "...                                       ...   \n",
       "5538922                                  None   \n",
       "5538963                                  None   \n",
       "5555617                                  None   \n",
       "5620802                                  None   \n",
       "8275668  e8a9b71a-8bdd-4208-a074-a3d62ab446c2   \n",
       "\n",
       "                                     topic_id  \\\n",
       "578782                                   None   \n",
       "579019                                   None   \n",
       "590810                                   None   \n",
       "591576                                   None   \n",
       "607131                                   None   \n",
       "...                                       ...   \n",
       "5538922                                  None   \n",
       "5538963                                  None   \n",
       "5555617                                  None   \n",
       "5620802                                  None   \n",
       "8275668  b05650e9-988e-4d43-ade1-5a0bad4489ae   \n",
       "\n",
       "                                 sub_topic_id subject    topic sub_topic  \\\n",
       "578782                                   None    None     None      None   \n",
       "579019                                   None    None     None      None   \n",
       "590810                                   None    None     None      None   \n",
       "591576                                   None    None     None      None   \n",
       "607131                                   None    None     None      None   \n",
       "...                                       ...     ...      ...       ...   \n",
       "5538922                                  None    None     None      None   \n",
       "5538963                                  None    None     None      None   \n",
       "5555617                                  None    None     None      None   \n",
       "5620802                                  None    None     None      None   \n",
       "8275668  c56e206c-4a5e-46b7-87ff-2fa53f7c6ab8  VISTAS  SemExam    Unit 1   \n",
       "\n",
       "                  createdAt                             school_id q_deletedAt  \\\n",
       "578782  2020-10-16 05:18:01  3e4ea61d-dca6-4ec8-94d9-f5f632878764         NaT   \n",
       "579019  2020-11-18 11:14:20  1fbf5ae7-e849-4545-b49f-d0e1e7f4ed6d         NaT   \n",
       "590810  2020-11-21 05:46:49  1fbf5ae7-e849-4545-b49f-d0e1e7f4ed6d         NaT   \n",
       "591576  2020-10-23 08:39:00  3e4ea61d-dca6-4ec8-94d9-f5f632878764         NaT   \n",
       "607131  2018-09-27 11:00:54  511d98eb-361f-4bdb-8cc9-f0f62cb96edd         NaT   \n",
       "...                     ...                                   ...         ...   \n",
       "5538922 2020-10-17 03:20:47  3e4ea61d-dca6-4ec8-94d9-f5f632878764         NaT   \n",
       "5538963 2020-10-17 03:24:39  3e4ea61d-dca6-4ec8-94d9-f5f632878764         NaT   \n",
       "5555617 2020-10-17 03:35:20  3e4ea61d-dca6-4ec8-94d9-f5f632878764         NaT   \n",
       "5620802 2019-12-31 10:13:24  f8feb13d-df22-43ec-acb8-31f873d9d104         NaT   \n",
       "8275668 2020-12-17 07:23:09  77a55a51-0698-4d26-9396-08c05d689274         NaT   \n",
       "\n",
       "        qb_deletedAt   school_code mcq_questions_options mcq_questions_answer  \\\n",
       "578782           NaT       siet826                    []                   {}   \n",
       "579019           NaT      hicet902                    []                   {}   \n",
       "590810           NaT      hicet902                    []                   {}   \n",
       "591576           NaT       siet826                    []                   {}   \n",
       "607131           NaT      spark327                    []                   {}   \n",
       "...              ...           ...                   ...                  ...   \n",
       "5538922          NaT       siet826                    []                   {}   \n",
       "5538963          NaT       siet826                    []                   {}   \n",
       "5555617          NaT       siet826                    []                   {}   \n",
       "5620802          NaT  sixphrase111                    []                   {}   \n",
       "8275668          NaT     vistas296                    []                   {}   \n",
       "\n",
       "                                qb_name  \n",
       "578782     CTS Topic-Wise QP 16.10.2020  \n",
       "579019    19MT3203_ Unit _V_Part A_DAMS  \n",
       "590810        19ME3201_MFT I_U3_PART A   \n",
       "591576              Time Speed Distance  \n",
       "607131                         Synonyms  \n",
       "...                                 ...  \n",
       "5538922   TCS Ages Numbers Profit Ratio  \n",
       "5538963       TCS Logical Reasoning II   \n",
       "5555617                TCS Permutation   \n",
       "5620802  FLUID MECHANICS AND MACHINERY   \n",
       "8275668          ESODD2020_18CMSO32_MCQ  \n",
       "\n",
       "[1006 rows x 20 columns]"
      ]
     },
     "execution_count": 36,
     "metadata": {},
     "output_type": "execute_result"
    }
   ],
   "source": [
    "x.iloc[idx] # data with empty question data, empty question deleted data, empty qb deleted data and empty options data.\n",
    "# mostly created before 2021, can be ignored."
   ]
  },
  {
   "cell_type": "code",
   "execution_count": 20,
   "metadata": {},
   "outputs": [],
   "source": [
    "x.iloc[idx].to_excel(\"Question_qDelete_qbDelete_options_empty_inMCQ.xlsx\")"
   ]
  },
  {
   "cell_type": "code",
   "execution_count": 37,
   "metadata": {},
   "outputs": [],
   "source": [
    "x = x.drop(index=x.iloc[idx].index)"
   ]
  },
  {
   "cell_type": "code",
   "execution_count": 38,
   "metadata": {},
   "outputs": [
    {
     "data": {
      "text/plain": [
       "(72134, 20)"
      ]
     },
     "execution_count": 38,
     "metadata": {},
     "output_type": "execute_result"
    }
   ],
   "source": [
    "x.shape"
   ]
  },
  {
   "cell_type": "code",
   "execution_count": 39,
   "metadata": {},
   "outputs": [],
   "source": [
    "# removing all the questions from mcq_single correct data whose data is deleted or is empty:\n",
    "mcq_single_correct_data = mcq_single_correct_data.drop(index=x.index)"
   ]
  },
  {
   "cell_type": "code",
   "execution_count": 40,
   "metadata": {},
   "outputs": [
    {
     "data": {
      "text/plain": [
       "(8495378, 20)"
      ]
     },
     "execution_count": 40,
     "metadata": {},
     "output_type": "execute_result"
    }
   ],
   "source": [
    "mcq_single_correct_data.shape"
   ]
  },
  {
   "cell_type": "code",
   "execution_count": 41,
   "metadata": {},
   "outputs": [
    {
     "data": {
      "text/plain": [
       "qb_id                          0\n",
       "q_id                           0\n",
       "question_data                  0\n",
       "manual_difficulty              0\n",
       "question_type                  0\n",
       "imported                       0\n",
       "subject_id               2550649\n",
       "topic_id                 2545212\n",
       "sub_topic_id             2545214\n",
       "subject                  2550649\n",
       "topic                    2545212\n",
       "sub_topic                2545214\n",
       "createdAt                      0\n",
       "school_id                  27918\n",
       "q_deletedAt              8009579\n",
       "qb_deletedAt             8176327\n",
       "school_code                27918\n",
       "mcq_questions_options      26698\n",
       "mcq_questions_answer       26698\n",
       "qb_name                        0\n",
       "dtype: int64"
      ]
     },
     "execution_count": 41,
     "metadata": {},
     "output_type": "execute_result"
    }
   ],
   "source": [
    "mcq_single_correct_data.isnull().sum()"
   ]
  },
  {
   "cell_type": "code",
   "execution_count": 42,
   "metadata": {},
   "outputs": [],
   "source": [
    "idx_whole = [] # empty mcq rows whose question deletion or qb deletion data is absent.\n",
    "for i in range(len(mcq_single_correct_data[\"question_data\"])):\n",
    "    if mcq_single_correct_data[\"q_deletedAt\"].iloc[i] is pd.NaT:\n",
    "        if mcq_single_correct_data[\"qb_deletedAt\"].iloc[i] is pd.NaT:\n",
    "            if mcq_single_correct_data[\"mcq_questions_options\"].iloc[i] == '[]':\n",
    "                idx_whole.append(i)"
   ]
  },
  {
   "cell_type": "code",
   "execution_count": 43,
   "metadata": {},
   "outputs": [
    {
     "data": {
      "text/plain": [
       "2320"
      ]
     },
     "execution_count": 43,
     "metadata": {},
     "output_type": "execute_result"
    }
   ],
   "source": [
    "len(idx_whole)"
   ]
  },
  {
   "cell_type": "code",
   "execution_count": 44,
   "metadata": {},
   "outputs": [
    {
     "data": {
      "text/html": [
       "<div>\n",
       "<style scoped>\n",
       "    .dataframe tbody tr th:only-of-type {\n",
       "        vertical-align: middle;\n",
       "    }\n",
       "\n",
       "    .dataframe tbody tr th {\n",
       "        vertical-align: top;\n",
       "    }\n",
       "\n",
       "    .dataframe thead th {\n",
       "        text-align: right;\n",
       "    }\n",
       "</style>\n",
       "<table border=\"1\" class=\"dataframe\">\n",
       "  <thead>\n",
       "    <tr style=\"text-align: right;\">\n",
       "      <th></th>\n",
       "      <th>qb_id</th>\n",
       "      <th>q_id</th>\n",
       "      <th>question_data</th>\n",
       "      <th>manual_difficulty</th>\n",
       "      <th>question_type</th>\n",
       "      <th>imported</th>\n",
       "      <th>subject_id</th>\n",
       "      <th>topic_id</th>\n",
       "      <th>sub_topic_id</th>\n",
       "      <th>subject</th>\n",
       "      <th>topic</th>\n",
       "      <th>sub_topic</th>\n",
       "      <th>createdAt</th>\n",
       "      <th>school_id</th>\n",
       "      <th>q_deletedAt</th>\n",
       "      <th>qb_deletedAt</th>\n",
       "      <th>school_code</th>\n",
       "      <th>mcq_questions_options</th>\n",
       "      <th>mcq_questions_answer</th>\n",
       "      <th>qb_name</th>\n",
       "    </tr>\n",
       "  </thead>\n",
       "  <tbody>\n",
       "    <tr>\n",
       "      <th>96862</th>\n",
       "      <td>419cd94b-ad18-4580-9dc0-b7c4bf825e11</td>\n",
       "      <td>18befd39-f8fb-479c-8365-b98044e3588e</td>\n",
       "      <td>&lt;p&gt;return 0; }&lt;/p&gt;</td>\n",
       "      <td>Medium</td>\n",
       "      <td>mcq_single_correct</td>\n",
       "      <td>original_question</td>\n",
       "      <td>fc9d8672-4f7a-4800-8f05-294dc460feda</td>\n",
       "      <td>b7425c21-2670-4bcd-ada4-24847c8c9408</td>\n",
       "      <td>55021f2e-e729-4ade-99d1-f8d14879e041</td>\n",
       "      <td>bulk-imported</td>\n",
       "      <td>bulk-imported</td>\n",
       "      <td>bulk-imported</td>\n",
       "      <td>2018-08-30 14:22:38</td>\n",
       "      <td>6ff9556e-0409-48a2-b834-9f740f56a5e6</td>\n",
       "      <td>NaT</td>\n",
       "      <td>NaT</td>\n",
       "      <td>talentio627</td>\n",
       "      <td>[]</td>\n",
       "      <td>{}</td>\n",
       "      <td>Capgemini QB  4 - technical</td>\n",
       "    </tr>\n",
       "    <tr>\n",
       "      <th>271223</th>\n",
       "      <td>daa576d4-93dc-4dad-b6b9-80ab2f26afab</td>\n",
       "      <td>521b9f3e-5071-46cb-9ab0-c68cd45bf722</td>\n",
       "      <td>&lt;p&gt;} }&lt;/p&gt;</td>\n",
       "      <td>Medium</td>\n",
       "      <td>mcq_single_correct</td>\n",
       "      <td>original_question</td>\n",
       "      <td>fc9d8672-4f7a-4800-8f05-294dc460feda</td>\n",
       "      <td>b7425c21-2670-4bcd-ada4-24847c8c9408</td>\n",
       "      <td>55021f2e-e729-4ade-99d1-f8d14879e041</td>\n",
       "      <td>bulk-imported</td>\n",
       "      <td>bulk-imported</td>\n",
       "      <td>bulk-imported</td>\n",
       "      <td>2018-09-05 09:04:05</td>\n",
       "      <td>6ff9556e-0409-48a2-b834-9f740f56a5e6</td>\n",
       "      <td>NaT</td>\n",
       "      <td>NaT</td>\n",
       "      <td>talentio627</td>\n",
       "      <td>[]</td>\n",
       "      <td>{}</td>\n",
       "      <td>Capgemini QB 5- Technical</td>\n",
       "    </tr>\n",
       "    <tr>\n",
       "      <th>375680</th>\n",
       "      <td>419cd94b-ad18-4580-9dc0-b7c4bf825e11</td>\n",
       "      <td>3d7713f4-be70-43c6-9a1a-589dc991a292</td>\n",
       "      <td>&lt;p&gt;}&lt;/p&gt;</td>\n",
       "      <td>Medium</td>\n",
       "      <td>mcq_single_correct</td>\n",
       "      <td>original_question</td>\n",
       "      <td>fc9d8672-4f7a-4800-8f05-294dc460feda</td>\n",
       "      <td>b7425c21-2670-4bcd-ada4-24847c8c9408</td>\n",
       "      <td>55021f2e-e729-4ade-99d1-f8d14879e041</td>\n",
       "      <td>bulk-imported</td>\n",
       "      <td>bulk-imported</td>\n",
       "      <td>bulk-imported</td>\n",
       "      <td>2018-08-30 14:22:39</td>\n",
       "      <td>6ff9556e-0409-48a2-b834-9f740f56a5e6</td>\n",
       "      <td>NaT</td>\n",
       "      <td>NaT</td>\n",
       "      <td>talentio627</td>\n",
       "      <td>[]</td>\n",
       "      <td>{}</td>\n",
       "      <td>Capgemini QB  4 - technical</td>\n",
       "    </tr>\n",
       "    <tr>\n",
       "      <th>469452</th>\n",
       "      <td>419cd94b-ad18-4580-9dc0-b7c4bf825e11</td>\n",
       "      <td>2a0f82e8-054f-4379-8aaf-a7a7f55f2bda</td>\n",
       "      <td>&lt;p&gt;printf(\"\"Now the letter is\"\");&lt;/p&gt;</td>\n",
       "      <td>Medium</td>\n",
       "      <td>mcq_single_correct</td>\n",
       "      <td>original_question</td>\n",
       "      <td>fc9d8672-4f7a-4800-8f05-294dc460feda</td>\n",
       "      <td>b7425c21-2670-4bcd-ada4-24847c8c9408</td>\n",
       "      <td>55021f2e-e729-4ade-99d1-f8d14879e041</td>\n",
       "      <td>bulk-imported</td>\n",
       "      <td>bulk-imported</td>\n",
       "      <td>bulk-imported</td>\n",
       "      <td>2018-08-30 14:22:38</td>\n",
       "      <td>6ff9556e-0409-48a2-b834-9f740f56a5e6</td>\n",
       "      <td>NaT</td>\n",
       "      <td>NaT</td>\n",
       "      <td>talentio627</td>\n",
       "      <td>[]</td>\n",
       "      <td>{}</td>\n",
       "      <td>Capgemini QB  4 - technical</td>\n",
       "    </tr>\n",
       "    <tr>\n",
       "      <th>578782</th>\n",
       "      <td>966b29e0-0ceb-4f1f-af59-02acf4f8a5e9</td>\n",
       "      <td>d5fc848b-b972-453b-b61d-6fa2a2f82f85</td>\n",
       "      <td>&lt;p&gt;&lt;/p&gt;</td>\n",
       "      <td>Medium</td>\n",
       "      <td>mcq_single_correct</td>\n",
       "      <td>original_question</td>\n",
       "      <td>None</td>\n",
       "      <td>None</td>\n",
       "      <td>None</td>\n",
       "      <td>None</td>\n",
       "      <td>None</td>\n",
       "      <td>None</td>\n",
       "      <td>2020-10-16 05:18:01</td>\n",
       "      <td>3e4ea61d-dca6-4ec8-94d9-f5f632878764</td>\n",
       "      <td>NaT</td>\n",
       "      <td>NaT</td>\n",
       "      <td>siet826</td>\n",
       "      <td>[]</td>\n",
       "      <td>{}</td>\n",
       "      <td>CTS Topic-Wise QP 16.10.2020</td>\n",
       "    </tr>\n",
       "    <tr>\n",
       "      <th>...</th>\n",
       "      <td>...</td>\n",
       "      <td>...</td>\n",
       "      <td>...</td>\n",
       "      <td>...</td>\n",
       "      <td>...</td>\n",
       "      <td>...</td>\n",
       "      <td>...</td>\n",
       "      <td>...</td>\n",
       "      <td>...</td>\n",
       "      <td>...</td>\n",
       "      <td>...</td>\n",
       "      <td>...</td>\n",
       "      <td>...</td>\n",
       "      <td>...</td>\n",
       "      <td>...</td>\n",
       "      <td>...</td>\n",
       "      <td>...</td>\n",
       "      <td>...</td>\n",
       "      <td>...</td>\n",
       "      <td>...</td>\n",
       "    </tr>\n",
       "    <tr>\n",
       "      <th>8436065</th>\n",
       "      <td>a934c494-1226-4068-8500-3dacc1a0ee82</td>\n",
       "      <td>6490dad6-9e66-4c52-83ca-fdce4a86bf56</td>\n",
       "      <td>&lt;p&gt;What are the military wastes mentioned by E...</td>\n",
       "      <td>Easy</td>\n",
       "      <td>mcq_single_correct</td>\n",
       "      <td>original_question</td>\n",
       "      <td>e8a9b71a-8bdd-4208-a074-a3d62ab446c2</td>\n",
       "      <td>b05650e9-988e-4d43-ade1-5a0bad4489ae</td>\n",
       "      <td>6912740f-6977-4423-bfe1-ede3197c5796</td>\n",
       "      <td>VISTAS</td>\n",
       "      <td>SemExam</td>\n",
       "      <td>Unit 2</td>\n",
       "      <td>2020-12-10 10:15:17</td>\n",
       "      <td>77a55a51-0698-4d26-9396-08c05d689274</td>\n",
       "      <td>NaT</td>\n",
       "      <td>NaT</td>\n",
       "      <td>vistas296</td>\n",
       "      <td>[]</td>\n",
       "      <td>{}</td>\n",
       "      <td>ESODD2020_18LENG21_DESC- BCOM AF</td>\n",
       "    </tr>\n",
       "    <tr>\n",
       "      <th>8456932</th>\n",
       "      <td>4d5534ab-4fd5-4f85-a5f7-0ca9fe32a803</td>\n",
       "      <td>f19eac0f-adde-4269-a57d-1e30921358b8</td>\n",
       "      <td>&lt;p&gt;Define the following terms:\\na)Acceptable l...</td>\n",
       "      <td>Easy</td>\n",
       "      <td>mcq_single_correct</td>\n",
       "      <td>original_question</td>\n",
       "      <td>e8a9b71a-8bdd-4208-a074-a3d62ab446c2</td>\n",
       "      <td>b05650e9-988e-4d43-ade1-5a0bad4489ae</td>\n",
       "      <td>03a71094-137d-4987-8d96-3ecd10a21346</td>\n",
       "      <td>VISTAS</td>\n",
       "      <td>SemExam</td>\n",
       "      <td>Unit 4</td>\n",
       "      <td>2020-12-10 08:41:13</td>\n",
       "      <td>77a55a51-0698-4d26-9396-08c05d689274</td>\n",
       "      <td>NaT</td>\n",
       "      <td>NaT</td>\n",
       "      <td>vistas296</td>\n",
       "      <td>[]</td>\n",
       "      <td>{}</td>\n",
       "      <td>ESODD2020_16CBAV54_DESC</td>\n",
       "    </tr>\n",
       "    <tr>\n",
       "      <th>8463344</th>\n",
       "      <td>e33ef61c-caad-409a-94a5-f4ebd4225190</td>\n",
       "      <td>de50656b-69ba-47f3-b78e-280ad5997df4</td>\n",
       "      <td>&lt;p&gt;Explain Types Of Licences and Ratings?- Air...</td>\n",
       "      <td>Easy</td>\n",
       "      <td>mcq_single_correct</td>\n",
       "      <td>original_question</td>\n",
       "      <td>e8a9b71a-8bdd-4208-a074-a3d62ab446c2</td>\n",
       "      <td>b05650e9-988e-4d43-ade1-5a0bad4489ae</td>\n",
       "      <td>03a71094-137d-4987-8d96-3ecd10a21346</td>\n",
       "      <td>VISTAS</td>\n",
       "      <td>SemExam</td>\n",
       "      <td>Unit 4</td>\n",
       "      <td>2020-12-10 06:48:04</td>\n",
       "      <td>77a55a51-0698-4d26-9396-08c05d689274</td>\n",
       "      <td>NaT</td>\n",
       "      <td>NaT</td>\n",
       "      <td>vistas296</td>\n",
       "      <td>[]</td>\n",
       "      <td>{}</td>\n",
       "      <td>ESODD2020_16CBAV31_DESC</td>\n",
       "    </tr>\n",
       "    <tr>\n",
       "      <th>8492234</th>\n",
       "      <td>1604127b-b4c7-4247-8e79-070ec8d3d0be</td>\n",
       "      <td>5d4f898c-cb5c-40b5-b354-031f184fc731</td>\n",
       "      <td>&lt;p&gt;List out the general functions of aminoacid...</td>\n",
       "      <td>Easy</td>\n",
       "      <td>mcq_single_correct</td>\n",
       "      <td>original_question</td>\n",
       "      <td>e8a9b71a-8bdd-4208-a074-a3d62ab446c2</td>\n",
       "      <td>b05650e9-988e-4d43-ade1-5a0bad4489ae</td>\n",
       "      <td>4999dca1-12f6-4c0f-9e8a-bb75efda54a8</td>\n",
       "      <td>VISTAS</td>\n",
       "      <td>SemExam</td>\n",
       "      <td>Unit 3</td>\n",
       "      <td>2020-12-10 10:53:51</td>\n",
       "      <td>77a55a51-0698-4d26-9396-08c05d689274</td>\n",
       "      <td>NaT</td>\n",
       "      <td>NaT</td>\n",
       "      <td>vistas296</td>\n",
       "      <td>[]</td>\n",
       "      <td>{}</td>\n",
       "      <td>ESODD2020_12CBBC31_DESC</td>\n",
       "    </tr>\n",
       "    <tr>\n",
       "      <th>8499531</th>\n",
       "      <td>1604127b-b4c7-4247-8e79-070ec8d3d0be</td>\n",
       "      <td>37077690-f71d-4dc0-b0f7-69d72d0e4331</td>\n",
       "      <td>&lt;p&gt;List out the functions of starch&lt;/p&gt;</td>\n",
       "      <td>Easy</td>\n",
       "      <td>mcq_single_correct</td>\n",
       "      <td>original_question</td>\n",
       "      <td>e8a9b71a-8bdd-4208-a074-a3d62ab446c2</td>\n",
       "      <td>b05650e9-988e-4d43-ade1-5a0bad4489ae</td>\n",
       "      <td>6912740f-6977-4423-bfe1-ede3197c5796</td>\n",
       "      <td>VISTAS</td>\n",
       "      <td>SemExam</td>\n",
       "      <td>Unit 2</td>\n",
       "      <td>2020-12-10 10:53:50</td>\n",
       "      <td>77a55a51-0698-4d26-9396-08c05d689274</td>\n",
       "      <td>NaT</td>\n",
       "      <td>NaT</td>\n",
       "      <td>vistas296</td>\n",
       "      <td>[]</td>\n",
       "      <td>{}</td>\n",
       "      <td>ESODD2020_12CBBC31_DESC</td>\n",
       "    </tr>\n",
       "  </tbody>\n",
       "</table>\n",
       "<p>2320 rows × 20 columns</p>\n",
       "</div>"
      ],
      "text/plain": [
       "                                        qb_id  \\\n",
       "96862    419cd94b-ad18-4580-9dc0-b7c4bf825e11   \n",
       "271223   daa576d4-93dc-4dad-b6b9-80ab2f26afab   \n",
       "375680   419cd94b-ad18-4580-9dc0-b7c4bf825e11   \n",
       "469452   419cd94b-ad18-4580-9dc0-b7c4bf825e11   \n",
       "578782   966b29e0-0ceb-4f1f-af59-02acf4f8a5e9   \n",
       "...                                       ...   \n",
       "8436065  a934c494-1226-4068-8500-3dacc1a0ee82   \n",
       "8456932  4d5534ab-4fd5-4f85-a5f7-0ca9fe32a803   \n",
       "8463344  e33ef61c-caad-409a-94a5-f4ebd4225190   \n",
       "8492234  1604127b-b4c7-4247-8e79-070ec8d3d0be   \n",
       "8499531  1604127b-b4c7-4247-8e79-070ec8d3d0be   \n",
       "\n",
       "                                         q_id  \\\n",
       "96862    18befd39-f8fb-479c-8365-b98044e3588e   \n",
       "271223   521b9f3e-5071-46cb-9ab0-c68cd45bf722   \n",
       "375680   3d7713f4-be70-43c6-9a1a-589dc991a292   \n",
       "469452   2a0f82e8-054f-4379-8aaf-a7a7f55f2bda   \n",
       "578782   d5fc848b-b972-453b-b61d-6fa2a2f82f85   \n",
       "...                                       ...   \n",
       "8436065  6490dad6-9e66-4c52-83ca-fdce4a86bf56   \n",
       "8456932  f19eac0f-adde-4269-a57d-1e30921358b8   \n",
       "8463344  de50656b-69ba-47f3-b78e-280ad5997df4   \n",
       "8492234  5d4f898c-cb5c-40b5-b354-031f184fc731   \n",
       "8499531  37077690-f71d-4dc0-b0f7-69d72d0e4331   \n",
       "\n",
       "                                             question_data manual_difficulty  \\\n",
       "96862                                   <p>return 0; }</p>            Medium   \n",
       "271223                                          <p>} }</p>            Medium   \n",
       "375680                                            <p>}</p>            Medium   \n",
       "469452               <p>printf(\"\"Now the letter is\"\");</p>            Medium   \n",
       "578782                                             <p></p>            Medium   \n",
       "...                                                    ...               ...   \n",
       "8436065  <p>What are the military wastes mentioned by E...              Easy   \n",
       "8456932  <p>Define the following terms:\\na)Acceptable l...              Easy   \n",
       "8463344  <p>Explain Types Of Licences and Ratings?- Air...              Easy   \n",
       "8492234  <p>List out the general functions of aminoacid...              Easy   \n",
       "8499531            <p>List out the functions of starch</p>              Easy   \n",
       "\n",
       "              question_type           imported  \\\n",
       "96862    mcq_single_correct  original_question   \n",
       "271223   mcq_single_correct  original_question   \n",
       "375680   mcq_single_correct  original_question   \n",
       "469452   mcq_single_correct  original_question   \n",
       "578782   mcq_single_correct  original_question   \n",
       "...                     ...                ...   \n",
       "8436065  mcq_single_correct  original_question   \n",
       "8456932  mcq_single_correct  original_question   \n",
       "8463344  mcq_single_correct  original_question   \n",
       "8492234  mcq_single_correct  original_question   \n",
       "8499531  mcq_single_correct  original_question   \n",
       "\n",
       "                                   subject_id  \\\n",
       "96862    fc9d8672-4f7a-4800-8f05-294dc460feda   \n",
       "271223   fc9d8672-4f7a-4800-8f05-294dc460feda   \n",
       "375680   fc9d8672-4f7a-4800-8f05-294dc460feda   \n",
       "469452   fc9d8672-4f7a-4800-8f05-294dc460feda   \n",
       "578782                                   None   \n",
       "...                                       ...   \n",
       "8436065  e8a9b71a-8bdd-4208-a074-a3d62ab446c2   \n",
       "8456932  e8a9b71a-8bdd-4208-a074-a3d62ab446c2   \n",
       "8463344  e8a9b71a-8bdd-4208-a074-a3d62ab446c2   \n",
       "8492234  e8a9b71a-8bdd-4208-a074-a3d62ab446c2   \n",
       "8499531  e8a9b71a-8bdd-4208-a074-a3d62ab446c2   \n",
       "\n",
       "                                     topic_id  \\\n",
       "96862    b7425c21-2670-4bcd-ada4-24847c8c9408   \n",
       "271223   b7425c21-2670-4bcd-ada4-24847c8c9408   \n",
       "375680   b7425c21-2670-4bcd-ada4-24847c8c9408   \n",
       "469452   b7425c21-2670-4bcd-ada4-24847c8c9408   \n",
       "578782                                   None   \n",
       "...                                       ...   \n",
       "8436065  b05650e9-988e-4d43-ade1-5a0bad4489ae   \n",
       "8456932  b05650e9-988e-4d43-ade1-5a0bad4489ae   \n",
       "8463344  b05650e9-988e-4d43-ade1-5a0bad4489ae   \n",
       "8492234  b05650e9-988e-4d43-ade1-5a0bad4489ae   \n",
       "8499531  b05650e9-988e-4d43-ade1-5a0bad4489ae   \n",
       "\n",
       "                                 sub_topic_id        subject          topic  \\\n",
       "96862    55021f2e-e729-4ade-99d1-f8d14879e041  bulk-imported  bulk-imported   \n",
       "271223   55021f2e-e729-4ade-99d1-f8d14879e041  bulk-imported  bulk-imported   \n",
       "375680   55021f2e-e729-4ade-99d1-f8d14879e041  bulk-imported  bulk-imported   \n",
       "469452   55021f2e-e729-4ade-99d1-f8d14879e041  bulk-imported  bulk-imported   \n",
       "578782                                   None           None           None   \n",
       "...                                       ...            ...            ...   \n",
       "8436065  6912740f-6977-4423-bfe1-ede3197c5796         VISTAS        SemExam   \n",
       "8456932  03a71094-137d-4987-8d96-3ecd10a21346         VISTAS        SemExam   \n",
       "8463344  03a71094-137d-4987-8d96-3ecd10a21346         VISTAS        SemExam   \n",
       "8492234  4999dca1-12f6-4c0f-9e8a-bb75efda54a8         VISTAS        SemExam   \n",
       "8499531  6912740f-6977-4423-bfe1-ede3197c5796         VISTAS        SemExam   \n",
       "\n",
       "             sub_topic           createdAt  \\\n",
       "96862    bulk-imported 2018-08-30 14:22:38   \n",
       "271223   bulk-imported 2018-09-05 09:04:05   \n",
       "375680   bulk-imported 2018-08-30 14:22:39   \n",
       "469452   bulk-imported 2018-08-30 14:22:38   \n",
       "578782            None 2020-10-16 05:18:01   \n",
       "...                ...                 ...   \n",
       "8436065         Unit 2 2020-12-10 10:15:17   \n",
       "8456932         Unit 4 2020-12-10 08:41:13   \n",
       "8463344         Unit 4 2020-12-10 06:48:04   \n",
       "8492234         Unit 3 2020-12-10 10:53:51   \n",
       "8499531         Unit 2 2020-12-10 10:53:50   \n",
       "\n",
       "                                    school_id q_deletedAt qb_deletedAt  \\\n",
       "96862    6ff9556e-0409-48a2-b834-9f740f56a5e6         NaT          NaT   \n",
       "271223   6ff9556e-0409-48a2-b834-9f740f56a5e6         NaT          NaT   \n",
       "375680   6ff9556e-0409-48a2-b834-9f740f56a5e6         NaT          NaT   \n",
       "469452   6ff9556e-0409-48a2-b834-9f740f56a5e6         NaT          NaT   \n",
       "578782   3e4ea61d-dca6-4ec8-94d9-f5f632878764         NaT          NaT   \n",
       "...                                       ...         ...          ...   \n",
       "8436065  77a55a51-0698-4d26-9396-08c05d689274         NaT          NaT   \n",
       "8456932  77a55a51-0698-4d26-9396-08c05d689274         NaT          NaT   \n",
       "8463344  77a55a51-0698-4d26-9396-08c05d689274         NaT          NaT   \n",
       "8492234  77a55a51-0698-4d26-9396-08c05d689274         NaT          NaT   \n",
       "8499531  77a55a51-0698-4d26-9396-08c05d689274         NaT          NaT   \n",
       "\n",
       "         school_code mcq_questions_options mcq_questions_answer  \\\n",
       "96862    talentio627                    []                   {}   \n",
       "271223   talentio627                    []                   {}   \n",
       "375680   talentio627                    []                   {}   \n",
       "469452   talentio627                    []                   {}   \n",
       "578782       siet826                    []                   {}   \n",
       "...              ...                   ...                  ...   \n",
       "8436065    vistas296                    []                   {}   \n",
       "8456932    vistas296                    []                   {}   \n",
       "8463344    vistas296                    []                   {}   \n",
       "8492234    vistas296                    []                   {}   \n",
       "8499531    vistas296                    []                   {}   \n",
       "\n",
       "                                   qb_name  \n",
       "96862          Capgemini QB  4 - technical  \n",
       "271223           Capgemini QB 5- Technical  \n",
       "375680         Capgemini QB  4 - technical  \n",
       "469452         Capgemini QB  4 - technical  \n",
       "578782        CTS Topic-Wise QP 16.10.2020  \n",
       "...                                    ...  \n",
       "8436065   ESODD2020_18LENG21_DESC- BCOM AF  \n",
       "8456932            ESODD2020_16CBAV54_DESC  \n",
       "8463344            ESODD2020_16CBAV31_DESC  \n",
       "8492234            ESODD2020_12CBBC31_DESC  \n",
       "8499531            ESODD2020_12CBBC31_DESC  \n",
       "\n",
       "[2320 rows x 20 columns]"
      ]
     },
     "execution_count": 44,
     "metadata": {},
     "output_type": "execute_result"
    }
   ],
   "source": [
    "mcq_single_correct_data.iloc[idx_whole]"
   ]
  },
  {
   "cell_type": "code",
   "execution_count": 45,
   "metadata": {},
   "outputs": [],
   "source": [
    "mcq_single_correct_data = mcq_single_correct_data.drop(index=mcq_single_correct_data.iloc[idx_whole].index)"
   ]
  },
  {
   "cell_type": "code",
   "execution_count": 46,
   "metadata": {},
   "outputs": [
    {
     "data": {
      "text/plain": [
       "(8493058, 20)"
      ]
     },
     "execution_count": 46,
     "metadata": {},
     "output_type": "execute_result"
    }
   ],
   "source": [
    "mcq_single_correct_data.shape"
   ]
  },
  {
   "cell_type": "code",
   "execution_count": 47,
   "metadata": {},
   "outputs": [],
   "source": [
    "idx_whole = [] # empty mcq rows whose question deletion or qb deletion data is absent.\n",
    "for i in range(len(mcq_single_correct_data[\"question_data\"])):\n",
    "    if mcq_single_correct_data[\"q_deletedAt\"].iloc[i] is pd.NaT:\n",
    "        if mcq_single_correct_data[\"qb_deletedAt\"].iloc[i] is pd.NaT:\n",
    "            if mcq_single_correct_data[\"mcq_questions_options\"].iloc[i] == '[]':\n",
    "                idx_whole.append(i)"
   ]
  },
  {
   "cell_type": "code",
   "execution_count": 48,
   "metadata": {},
   "outputs": [
    {
     "data": {
      "text/plain": [
       "0"
      ]
     },
     "execution_count": 48,
     "metadata": {},
     "output_type": "execute_result"
    }
   ],
   "source": [
    "len(idx_whole)# hence no mcq rows whose question deletion or qb deletion data is absent."
   ]
  },
  {
   "cell_type": "code",
   "execution_count": 36,
   "metadata": {},
   "outputs": [],
   "source": [
    "# question_data = <p></p> &  mcq_questions_options = [] --> z\n",
    "#z = x.iloc[np.where(x[\"mcq_questions_options\"]=='[]')]"
   ]
  },
  {
   "cell_type": "code",
   "execution_count": 37,
   "metadata": {
    "scrolled": true
   },
   "outputs": [
    {
     "data": {
      "text/html": [
       "<div>\n",
       "<style scoped>\n",
       "    .dataframe tbody tr th:only-of-type {\n",
       "        vertical-align: middle;\n",
       "    }\n",
       "\n",
       "    .dataframe tbody tr th {\n",
       "        vertical-align: top;\n",
       "    }\n",
       "\n",
       "    .dataframe thead th {\n",
       "        text-align: right;\n",
       "    }\n",
       "</style>\n",
       "<table border=\"1\" class=\"dataframe\">\n",
       "  <thead>\n",
       "    <tr style=\"text-align: right;\">\n",
       "      <th></th>\n",
       "      <th>qb_id</th>\n",
       "      <th>q_id</th>\n",
       "      <th>question_data</th>\n",
       "      <th>manual_difficulty</th>\n",
       "      <th>question_type</th>\n",
       "      <th>imported</th>\n",
       "      <th>subject_id</th>\n",
       "      <th>topic_id</th>\n",
       "      <th>sub_topic_id</th>\n",
       "      <th>subject</th>\n",
       "      <th>topic</th>\n",
       "      <th>sub_topic</th>\n",
       "      <th>createdAt</th>\n",
       "      <th>school_id</th>\n",
       "      <th>q_deletedAt</th>\n",
       "      <th>qb_deletedAt</th>\n",
       "      <th>school_code</th>\n",
       "      <th>mcq_questions_options</th>\n",
       "      <th>mcq_questions_answer</th>\n",
       "      <th>qb_name</th>\n",
       "    </tr>\n",
       "  </thead>\n",
       "  <tbody>\n",
       "    <tr>\n",
       "      <th>24572</th>\n",
       "      <td>96015345-0e43-48ee-84f7-88fae4aa1040</td>\n",
       "      <td>73470220-9f44-4207-a8e3-fd63bca12f2a</td>\n",
       "      <td>&lt;p&gt;&lt;/p&gt;</td>\n",
       "      <td>Medium</td>\n",
       "      <td>mcq_single_correct</td>\n",
       "      <td>original_question</td>\n",
       "      <td>fc9d8672-4f7a-4800-8f05-294dc460feda</td>\n",
       "      <td>b7425c21-2670-4bcd-ada4-24847c8c9408</td>\n",
       "      <td>55021f2e-e729-4ade-99d1-f8d14879e041</td>\n",
       "      <td>bulk-imported</td>\n",
       "      <td>bulk-imported</td>\n",
       "      <td>bulk-imported</td>\n",
       "      <td>2018-08-30 14:08:04</td>\n",
       "      <td>6ff9556e-0409-48a2-b834-9f740f56a5e6</td>\n",
       "      <td>NaT</td>\n",
       "      <td>2018-08-30 14:12:56</td>\n",
       "      <td>talentio627</td>\n",
       "      <td>[]</td>\n",
       "      <td>{}</td>\n",
       "      <td>Capgemini QB 4</td>\n",
       "    </tr>\n",
       "  </tbody>\n",
       "</table>\n",
       "</div>"
      ],
      "text/plain": [
       "                                      qb_id  \\\n",
       "24572  96015345-0e43-48ee-84f7-88fae4aa1040   \n",
       "\n",
       "                                       q_id question_data manual_difficulty  \\\n",
       "24572  73470220-9f44-4207-a8e3-fd63bca12f2a       <p></p>            Medium   \n",
       "\n",
       "            question_type           imported  \\\n",
       "24572  mcq_single_correct  original_question   \n",
       "\n",
       "                                 subject_id  \\\n",
       "24572  fc9d8672-4f7a-4800-8f05-294dc460feda   \n",
       "\n",
       "                                   topic_id  \\\n",
       "24572  b7425c21-2670-4bcd-ada4-24847c8c9408   \n",
       "\n",
       "                               sub_topic_id        subject          topic  \\\n",
       "24572  55021f2e-e729-4ade-99d1-f8d14879e041  bulk-imported  bulk-imported   \n",
       "\n",
       "           sub_topic           createdAt  \\\n",
       "24572  bulk-imported 2018-08-30 14:08:04   \n",
       "\n",
       "                                  school_id q_deletedAt        qb_deletedAt  \\\n",
       "24572  6ff9556e-0409-48a2-b834-9f740f56a5e6         NaT 2018-08-30 14:12:56   \n",
       "\n",
       "       school_code mcq_questions_options mcq_questions_answer         qb_name  \n",
       "24572  talentio627                    []                   {}  Capgemini QB 4  "
      ]
     },
     "execution_count": 37,
     "metadata": {},
     "output_type": "execute_result"
    }
   ],
   "source": [
    "#z.head(1)"
   ]
  },
  {
   "cell_type": "code",
   "execution_count": 41,
   "metadata": {},
   "outputs": [
    {
     "data": {
      "text/plain": [
       "72859"
      ]
     },
     "execution_count": 41,
     "metadata": {},
     "output_type": "execute_result"
    }
   ],
   "source": [
    "#z[\"subject\"].isna().sum()"
   ]
  },
  {
   "cell_type": "code",
   "execution_count": 38,
   "metadata": {
    "scrolled": true
   },
   "outputs": [
    {
     "data": {
      "text/plain": [
       "bulk-imported    27\n",
       "Aptitude         20\n",
       "Nandha            2\n",
       "VISTAS            1\n",
       "Name: subject, dtype: int64"
      ]
     },
     "execution_count": 38,
     "metadata": {},
     "output_type": "execute_result"
    }
   ],
   "source": [
    "#z[\"subject\"].value_counts()"
   ]
  },
  {
   "cell_type": "code",
   "execution_count": 40,
   "metadata": {},
   "outputs": [
    {
     "data": {
      "text/plain": [
       "(72909, 20)"
      ]
     },
     "execution_count": 40,
     "metadata": {},
     "output_type": "execute_result"
    }
   ],
   "source": [
    "#z.shape"
   ]
  },
  {
   "cell_type": "code",
   "execution_count": 47,
   "metadata": {},
   "outputs": [],
   "source": [
    "#z.to_excel(\"ques_ans_empty.xlsx\")"
   ]
  },
  {
   "cell_type": "code",
   "execution_count": 14,
   "metadata": {
    "scrolled": true
   },
   "outputs": [
    {
     "data": {
      "text/html": [
       "<div>\n",
       "<style scoped>\n",
       "    .dataframe tbody tr th:only-of-type {\n",
       "        vertical-align: middle;\n",
       "    }\n",
       "\n",
       "    .dataframe tbody tr th {\n",
       "        vertical-align: top;\n",
       "    }\n",
       "\n",
       "    .dataframe thead th {\n",
       "        text-align: right;\n",
       "    }\n",
       "</style>\n",
       "<table border=\"1\" class=\"dataframe\">\n",
       "  <thead>\n",
       "    <tr style=\"text-align: right;\">\n",
       "      <th></th>\n",
       "      <th>qb_id</th>\n",
       "      <th>q_id</th>\n",
       "      <th>question_data</th>\n",
       "      <th>manual_difficulty</th>\n",
       "      <th>question_type</th>\n",
       "      <th>imported</th>\n",
       "      <th>subject_id</th>\n",
       "      <th>topic_id</th>\n",
       "      <th>sub_topic_id</th>\n",
       "      <th>subject</th>\n",
       "      <th>topic</th>\n",
       "      <th>sub_topic</th>\n",
       "      <th>createdAt</th>\n",
       "      <th>school_id</th>\n",
       "      <th>q_deletedAt</th>\n",
       "      <th>qb_deletedAt</th>\n",
       "      <th>school_code</th>\n",
       "      <th>mcq_questions_options</th>\n",
       "      <th>mcq_questions_answer</th>\n",
       "      <th>qb_name</th>\n",
       "    </tr>\n",
       "  </thead>\n",
       "  <tbody>\n",
       "    <tr>\n",
       "      <th>24572</th>\n",
       "      <td>96015345-0e43-48ee-84f7-88fae4aa1040</td>\n",
       "      <td>73470220-9f44-4207-a8e3-fd63bca12f2a</td>\n",
       "      <td>&lt;p&gt;&lt;/p&gt;</td>\n",
       "      <td>Medium</td>\n",
       "      <td>mcq_single_correct</td>\n",
       "      <td>original_question</td>\n",
       "      <td>fc9d8672-4f7a-4800-8f05-294dc460feda</td>\n",
       "      <td>b7425c21-2670-4bcd-ada4-24847c8c9408</td>\n",
       "      <td>55021f2e-e729-4ade-99d1-f8d14879e041</td>\n",
       "      <td>bulk-imported</td>\n",
       "      <td>bulk-imported</td>\n",
       "      <td>bulk-imported</td>\n",
       "      <td>2018-08-30 14:08:04</td>\n",
       "      <td>6ff9556e-0409-48a2-b834-9f740f56a5e6</td>\n",
       "      <td>NaT</td>\n",
       "      <td>2018-08-30 14:12:56</td>\n",
       "      <td>talentio627</td>\n",
       "      <td>[]</td>\n",
       "      <td>{}</td>\n",
       "      <td>Capgemini QB 4</td>\n",
       "    </tr>\n",
       "    <tr>\n",
       "      <th>118766</th>\n",
       "      <td>dd0f3e0f-801b-44e8-8c1f-904aacf7ab28</td>\n",
       "      <td>8206727b-2f4b-4281-9847-d9b553be3c7b</td>\n",
       "      <td>&lt;p&gt;&lt;/p&gt;</td>\n",
       "      <td>Medium</td>\n",
       "      <td>mcq_single_correct</td>\n",
       "      <td>original_question</td>\n",
       "      <td>fc9d8672-4f7a-4800-8f05-294dc460feda</td>\n",
       "      <td>b7425c21-2670-4bcd-ada4-24847c8c9408</td>\n",
       "      <td>55021f2e-e729-4ade-99d1-f8d14879e041</td>\n",
       "      <td>bulk-imported</td>\n",
       "      <td>bulk-imported</td>\n",
       "      <td>bulk-imported</td>\n",
       "      <td>2018-08-31 13:49:17</td>\n",
       "      <td>6ff9556e-0409-48a2-b834-9f740f56a5e6</td>\n",
       "      <td>2018-09-04 09:04:21</td>\n",
       "      <td>NaT</td>\n",
       "      <td>talentio627</td>\n",
       "      <td>[]</td>\n",
       "      <td>{}</td>\n",
       "      <td>TAL-INF-M2-VA</td>\n",
       "    </tr>\n",
       "    <tr>\n",
       "      <th>128900</th>\n",
       "      <td>a31cdadf-0836-4112-91d8-04db08865ad0</td>\n",
       "      <td>184675e2-eaa8-4d39-8381-b4db5d911040</td>\n",
       "      <td>&lt;p&gt;&lt;/p&gt;</td>\n",
       "      <td>Medium</td>\n",
       "      <td>mcq_single_correct</td>\n",
       "      <td>original_question</td>\n",
       "      <td>a7411341-d28a-497e-b268-6ed9b949fffc</td>\n",
       "      <td>593ffd06-c76c-420d-913e-60ba2a30975f</td>\n",
       "      <td>4fa2a45a-8409-45ee-a5ac-af7da4e83aae</td>\n",
       "      <td>Nandha</td>\n",
       "      <td>End Semester</td>\n",
       "      <td>Unit_3</td>\n",
       "      <td>2020-12-18 03:55:42</td>\n",
       "      <td>6d8ac624-a6f3-4f1c-98cf-1259e6c1191b</td>\n",
       "      <td>2020-12-18 03:56:02</td>\n",
       "      <td>NaT</td>\n",
       "      <td>nandha416</td>\n",
       "      <td>[]</td>\n",
       "      <td>{}</td>\n",
       "      <td>Test bank 75q</td>\n",
       "    </tr>\n",
       "    <tr>\n",
       "      <th>134086</th>\n",
       "      <td>dd0f3e0f-801b-44e8-8c1f-904aacf7ab28</td>\n",
       "      <td>1390e91f-8246-4f0a-9d5a-61544fda07ca</td>\n",
       "      <td>&lt;p&gt;&lt;/p&gt;</td>\n",
       "      <td>Medium</td>\n",
       "      <td>mcq_single_correct</td>\n",
       "      <td>original_question</td>\n",
       "      <td>fc9d8672-4f7a-4800-8f05-294dc460feda</td>\n",
       "      <td>b7425c21-2670-4bcd-ada4-24847c8c9408</td>\n",
       "      <td>55021f2e-e729-4ade-99d1-f8d14879e041</td>\n",
       "      <td>bulk-imported</td>\n",
       "      <td>bulk-imported</td>\n",
       "      <td>bulk-imported</td>\n",
       "      <td>2018-08-31 13:49:17</td>\n",
       "      <td>6ff9556e-0409-48a2-b834-9f740f56a5e6</td>\n",
       "      <td>2018-09-04 09:03:12</td>\n",
       "      <td>NaT</td>\n",
       "      <td>talentio627</td>\n",
       "      <td>[]</td>\n",
       "      <td>{}</td>\n",
       "      <td>TAL-INF-M2-VA</td>\n",
       "    </tr>\n",
       "    <tr>\n",
       "      <th>160796</th>\n",
       "      <td>a31cdadf-0836-4112-91d8-04db08865ad0</td>\n",
       "      <td>87de919c-3a1f-41db-a81c-94f0b537e11c</td>\n",
       "      <td>&lt;p&gt;&lt;/p&gt;</td>\n",
       "      <td>Medium</td>\n",
       "      <td>mcq_single_correct</td>\n",
       "      <td>original_question</td>\n",
       "      <td>a7411341-d28a-497e-b268-6ed9b949fffc</td>\n",
       "      <td>593ffd06-c76c-420d-913e-60ba2a30975f</td>\n",
       "      <td>006c6627-6089-4ce7-8824-171974ea03d3</td>\n",
       "      <td>Nandha</td>\n",
       "      <td>End Semester</td>\n",
       "      <td>Unit_2</td>\n",
       "      <td>2020-12-18 03:55:42</td>\n",
       "      <td>6d8ac624-a6f3-4f1c-98cf-1259e6c1191b</td>\n",
       "      <td>2020-12-18 03:56:02</td>\n",
       "      <td>NaT</td>\n",
       "      <td>nandha416</td>\n",
       "      <td>[]</td>\n",
       "      <td>{}</td>\n",
       "      <td>Test bank 75q</td>\n",
       "    </tr>\n",
       "    <tr>\n",
       "      <th>...</th>\n",
       "      <td>...</td>\n",
       "      <td>...</td>\n",
       "      <td>...</td>\n",
       "      <td>...</td>\n",
       "      <td>...</td>\n",
       "      <td>...</td>\n",
       "      <td>...</td>\n",
       "      <td>...</td>\n",
       "      <td>...</td>\n",
       "      <td>...</td>\n",
       "      <td>...</td>\n",
       "      <td>...</td>\n",
       "      <td>...</td>\n",
       "      <td>...</td>\n",
       "      <td>...</td>\n",
       "      <td>...</td>\n",
       "      <td>...</td>\n",
       "      <td>...</td>\n",
       "      <td>...</td>\n",
       "      <td>...</td>\n",
       "    </tr>\n",
       "    <tr>\n",
       "      <th>8371567</th>\n",
       "      <td>82ed0a92-bb3f-4080-b0b7-2b70cd468fe0</td>\n",
       "      <td>d07e98d4-d61d-498f-9f2a-f3b7790312ee</td>\n",
       "      <td>&lt;p&gt;&lt;/p&gt;</td>\n",
       "      <td>Medium</td>\n",
       "      <td>mcq_single_correct</td>\n",
       "      <td>original_question</td>\n",
       "      <td>e8a9b71a-8bdd-4208-a074-a3d62ab446c2</td>\n",
       "      <td>b05650e9-988e-4d43-ade1-5a0bad4489ae</td>\n",
       "      <td>03a71094-137d-4987-8d96-3ecd10a21346</td>\n",
       "      <td>VISTAS</td>\n",
       "      <td>SemExam</td>\n",
       "      <td>Unit 4</td>\n",
       "      <td>2020-12-12 13:24:19</td>\n",
       "      <td>77a55a51-0698-4d26-9396-08c05d689274</td>\n",
       "      <td>2020-12-12 13:44:28</td>\n",
       "      <td>NaT</td>\n",
       "      <td>vistas296</td>\n",
       "      <td>[{\"text\":\"&lt;p&gt;programmable&lt;/p&gt;\",\"media\":\"\"},{\"t...</td>\n",
       "      <td>{\"args\":[\"&lt;p&gt;programmable&lt;/p&gt;\"],\"partial\":[]}</td>\n",
       "      <td>ESODD2020_18AMRO31_MANAGEMENT INFORMATION SYST...</td>\n",
       "    </tr>\n",
       "    <tr>\n",
       "      <th>8383738</th>\n",
       "      <td>82ed0a92-bb3f-4080-b0b7-2b70cd468fe0</td>\n",
       "      <td>ebb8bd43-bc38-4e32-90eb-09aabc3d613b</td>\n",
       "      <td>&lt;p&gt;&lt;/p&gt;</td>\n",
       "      <td>Medium</td>\n",
       "      <td>mcq_single_correct</td>\n",
       "      <td>original_question</td>\n",
       "      <td>e8a9b71a-8bdd-4208-a074-a3d62ab446c2</td>\n",
       "      <td>b05650e9-988e-4d43-ade1-5a0bad4489ae</td>\n",
       "      <td>03a71094-137d-4987-8d96-3ecd10a21346</td>\n",
       "      <td>VISTAS</td>\n",
       "      <td>SemExam</td>\n",
       "      <td>Unit 4</td>\n",
       "      <td>2020-12-12 13:15:12</td>\n",
       "      <td>77a55a51-0698-4d26-9396-08c05d689274</td>\n",
       "      <td>2020-12-12 13:23:56</td>\n",
       "      <td>NaT</td>\n",
       "      <td>vistas296</td>\n",
       "      <td>[{\"text\":\"&lt;p&gt;material flow&lt;/p&gt;\",\"media\":\"\"},{\"...</td>\n",
       "      <td>{\"args\":[\"&lt;p&gt;All of the above&lt;/p&gt;\"],\"partial\":[]}</td>\n",
       "      <td>ESODD2020_18AMRO31_MANAGEMENT INFORMATION SYST...</td>\n",
       "    </tr>\n",
       "    <tr>\n",
       "      <th>8386600</th>\n",
       "      <td>82ed0a92-bb3f-4080-b0b7-2b70cd468fe0</td>\n",
       "      <td>f6937637-2b71-47f5-915a-f6b3130f2944</td>\n",
       "      <td>&lt;p&gt;&lt;/p&gt;</td>\n",
       "      <td>Medium</td>\n",
       "      <td>mcq_single_correct</td>\n",
       "      <td>original_question</td>\n",
       "      <td>e8a9b71a-8bdd-4208-a074-a3d62ab446c2</td>\n",
       "      <td>b05650e9-988e-4d43-ade1-5a0bad4489ae</td>\n",
       "      <td>03a71094-137d-4987-8d96-3ecd10a21346</td>\n",
       "      <td>VISTAS</td>\n",
       "      <td>SemExam</td>\n",
       "      <td>Unit 4</td>\n",
       "      <td>2020-12-12 13:15:11</td>\n",
       "      <td>77a55a51-0698-4d26-9396-08c05d689274</td>\n",
       "      <td>2020-12-12 13:23:56</td>\n",
       "      <td>NaT</td>\n",
       "      <td>vistas296</td>\n",
       "      <td>[{\"text\":\"&lt;p&gt;higher returns on short-term inve...</td>\n",
       "      <td>{\"args\":[\"&lt;p&gt;All of the above&lt;/p&gt;\"],\"partial\":[]}</td>\n",
       "      <td>ESODD2020_18AMRO31_MANAGEMENT INFORMATION SYST...</td>\n",
       "    </tr>\n",
       "    <tr>\n",
       "      <th>8392488</th>\n",
       "      <td>82ed0a92-bb3f-4080-b0b7-2b70cd468fe0</td>\n",
       "      <td>25623eeb-3779-4a2f-bb14-fe1b05d0923f</td>\n",
       "      <td>&lt;p&gt;&lt;/p&gt;</td>\n",
       "      <td>Medium</td>\n",
       "      <td>mcq_single_correct</td>\n",
       "      <td>original_question</td>\n",
       "      <td>e8a9b71a-8bdd-4208-a074-a3d62ab446c2</td>\n",
       "      <td>b05650e9-988e-4d43-ade1-5a0bad4489ae</td>\n",
       "      <td>8978d579-ea95-4811-b9c9-936f99315d4b</td>\n",
       "      <td>VISTAS</td>\n",
       "      <td>SemExam</td>\n",
       "      <td>Unit 5</td>\n",
       "      <td>2020-12-12 13:24:19</td>\n",
       "      <td>77a55a51-0698-4d26-9396-08c05d689274</td>\n",
       "      <td>2020-12-12 13:44:28</td>\n",
       "      <td>NaT</td>\n",
       "      <td>vistas296</td>\n",
       "      <td>[{\"text\":\"&lt;p&gt;an operations research expert&lt;/p&gt;...</td>\n",
       "      <td>{\"args\":[\"&lt;p&gt;a computing system user&lt;/p&gt;\"],\"pa...</td>\n",
       "      <td>ESODD2020_18AMRO31_MANAGEMENT INFORMATION SYST...</td>\n",
       "    </tr>\n",
       "    <tr>\n",
       "      <th>8441624</th>\n",
       "      <td>82ed0a92-bb3f-4080-b0b7-2b70cd468fe0</td>\n",
       "      <td>26d6c553-5c3e-4804-ae0b-74d9ca394b35</td>\n",
       "      <td>&lt;p&gt;&lt;/p&gt;</td>\n",
       "      <td>Medium</td>\n",
       "      <td>mcq_single_correct</td>\n",
       "      <td>original_question</td>\n",
       "      <td>e8a9b71a-8bdd-4208-a074-a3d62ab446c2</td>\n",
       "      <td>b05650e9-988e-4d43-ade1-5a0bad4489ae</td>\n",
       "      <td>03a71094-137d-4987-8d96-3ecd10a21346</td>\n",
       "      <td>VISTAS</td>\n",
       "      <td>SemExam</td>\n",
       "      <td>Unit 4</td>\n",
       "      <td>2020-12-12 13:24:18</td>\n",
       "      <td>77a55a51-0698-4d26-9396-08c05d689274</td>\n",
       "      <td>2020-12-12 13:44:28</td>\n",
       "      <td>NaT</td>\n",
       "      <td>vistas296</td>\n",
       "      <td>[{\"text\":\"&lt;p&gt;Artificial intelligence&lt;/p&gt;\",\"med...</td>\n",
       "      <td>{\"args\":[\"&lt;p&gt;Computer assisted experimenting&lt;/...</td>\n",
       "      <td>ESODD2020_18AMRO31_MANAGEMENT INFORMATION SYST...</td>\n",
       "    </tr>\n",
       "  </tbody>\n",
       "</table>\n",
       "<p>73140 rows × 20 columns</p>\n",
       "</div>"
      ],
      "text/plain": [
       "                                        qb_id  \\\n",
       "24572    96015345-0e43-48ee-84f7-88fae4aa1040   \n",
       "118766   dd0f3e0f-801b-44e8-8c1f-904aacf7ab28   \n",
       "128900   a31cdadf-0836-4112-91d8-04db08865ad0   \n",
       "134086   dd0f3e0f-801b-44e8-8c1f-904aacf7ab28   \n",
       "160796   a31cdadf-0836-4112-91d8-04db08865ad0   \n",
       "...                                       ...   \n",
       "8371567  82ed0a92-bb3f-4080-b0b7-2b70cd468fe0   \n",
       "8383738  82ed0a92-bb3f-4080-b0b7-2b70cd468fe0   \n",
       "8386600  82ed0a92-bb3f-4080-b0b7-2b70cd468fe0   \n",
       "8392488  82ed0a92-bb3f-4080-b0b7-2b70cd468fe0   \n",
       "8441624  82ed0a92-bb3f-4080-b0b7-2b70cd468fe0   \n",
       "\n",
       "                                         q_id question_data manual_difficulty  \\\n",
       "24572    73470220-9f44-4207-a8e3-fd63bca12f2a       <p></p>            Medium   \n",
       "118766   8206727b-2f4b-4281-9847-d9b553be3c7b       <p></p>            Medium   \n",
       "128900   184675e2-eaa8-4d39-8381-b4db5d911040       <p></p>            Medium   \n",
       "134086   1390e91f-8246-4f0a-9d5a-61544fda07ca       <p></p>            Medium   \n",
       "160796   87de919c-3a1f-41db-a81c-94f0b537e11c       <p></p>            Medium   \n",
       "...                                       ...           ...               ...   \n",
       "8371567  d07e98d4-d61d-498f-9f2a-f3b7790312ee       <p></p>            Medium   \n",
       "8383738  ebb8bd43-bc38-4e32-90eb-09aabc3d613b       <p></p>            Medium   \n",
       "8386600  f6937637-2b71-47f5-915a-f6b3130f2944       <p></p>            Medium   \n",
       "8392488  25623eeb-3779-4a2f-bb14-fe1b05d0923f       <p></p>            Medium   \n",
       "8441624  26d6c553-5c3e-4804-ae0b-74d9ca394b35       <p></p>            Medium   \n",
       "\n",
       "              question_type           imported  \\\n",
       "24572    mcq_single_correct  original_question   \n",
       "118766   mcq_single_correct  original_question   \n",
       "128900   mcq_single_correct  original_question   \n",
       "134086   mcq_single_correct  original_question   \n",
       "160796   mcq_single_correct  original_question   \n",
       "...                     ...                ...   \n",
       "8371567  mcq_single_correct  original_question   \n",
       "8383738  mcq_single_correct  original_question   \n",
       "8386600  mcq_single_correct  original_question   \n",
       "8392488  mcq_single_correct  original_question   \n",
       "8441624  mcq_single_correct  original_question   \n",
       "\n",
       "                                   subject_id  \\\n",
       "24572    fc9d8672-4f7a-4800-8f05-294dc460feda   \n",
       "118766   fc9d8672-4f7a-4800-8f05-294dc460feda   \n",
       "128900   a7411341-d28a-497e-b268-6ed9b949fffc   \n",
       "134086   fc9d8672-4f7a-4800-8f05-294dc460feda   \n",
       "160796   a7411341-d28a-497e-b268-6ed9b949fffc   \n",
       "...                                       ...   \n",
       "8371567  e8a9b71a-8bdd-4208-a074-a3d62ab446c2   \n",
       "8383738  e8a9b71a-8bdd-4208-a074-a3d62ab446c2   \n",
       "8386600  e8a9b71a-8bdd-4208-a074-a3d62ab446c2   \n",
       "8392488  e8a9b71a-8bdd-4208-a074-a3d62ab446c2   \n",
       "8441624  e8a9b71a-8bdd-4208-a074-a3d62ab446c2   \n",
       "\n",
       "                                     topic_id  \\\n",
       "24572    b7425c21-2670-4bcd-ada4-24847c8c9408   \n",
       "118766   b7425c21-2670-4bcd-ada4-24847c8c9408   \n",
       "128900   593ffd06-c76c-420d-913e-60ba2a30975f   \n",
       "134086   b7425c21-2670-4bcd-ada4-24847c8c9408   \n",
       "160796   593ffd06-c76c-420d-913e-60ba2a30975f   \n",
       "...                                       ...   \n",
       "8371567  b05650e9-988e-4d43-ade1-5a0bad4489ae   \n",
       "8383738  b05650e9-988e-4d43-ade1-5a0bad4489ae   \n",
       "8386600  b05650e9-988e-4d43-ade1-5a0bad4489ae   \n",
       "8392488  b05650e9-988e-4d43-ade1-5a0bad4489ae   \n",
       "8441624  b05650e9-988e-4d43-ade1-5a0bad4489ae   \n",
       "\n",
       "                                 sub_topic_id        subject          topic  \\\n",
       "24572    55021f2e-e729-4ade-99d1-f8d14879e041  bulk-imported  bulk-imported   \n",
       "118766   55021f2e-e729-4ade-99d1-f8d14879e041  bulk-imported  bulk-imported   \n",
       "128900   4fa2a45a-8409-45ee-a5ac-af7da4e83aae         Nandha   End Semester   \n",
       "134086   55021f2e-e729-4ade-99d1-f8d14879e041  bulk-imported  bulk-imported   \n",
       "160796   006c6627-6089-4ce7-8824-171974ea03d3         Nandha   End Semester   \n",
       "...                                       ...            ...            ...   \n",
       "8371567  03a71094-137d-4987-8d96-3ecd10a21346         VISTAS        SemExam   \n",
       "8383738  03a71094-137d-4987-8d96-3ecd10a21346         VISTAS        SemExam   \n",
       "8386600  03a71094-137d-4987-8d96-3ecd10a21346         VISTAS        SemExam   \n",
       "8392488  8978d579-ea95-4811-b9c9-936f99315d4b         VISTAS        SemExam   \n",
       "8441624  03a71094-137d-4987-8d96-3ecd10a21346         VISTAS        SemExam   \n",
       "\n",
       "             sub_topic           createdAt  \\\n",
       "24572    bulk-imported 2018-08-30 14:08:04   \n",
       "118766   bulk-imported 2018-08-31 13:49:17   \n",
       "128900          Unit_3 2020-12-18 03:55:42   \n",
       "134086   bulk-imported 2018-08-31 13:49:17   \n",
       "160796          Unit_2 2020-12-18 03:55:42   \n",
       "...                ...                 ...   \n",
       "8371567         Unit 4 2020-12-12 13:24:19   \n",
       "8383738         Unit 4 2020-12-12 13:15:12   \n",
       "8386600         Unit 4 2020-12-12 13:15:11   \n",
       "8392488         Unit 5 2020-12-12 13:24:19   \n",
       "8441624         Unit 4 2020-12-12 13:24:18   \n",
       "\n",
       "                                    school_id         q_deletedAt  \\\n",
       "24572    6ff9556e-0409-48a2-b834-9f740f56a5e6                 NaT   \n",
       "118766   6ff9556e-0409-48a2-b834-9f740f56a5e6 2018-09-04 09:04:21   \n",
       "128900   6d8ac624-a6f3-4f1c-98cf-1259e6c1191b 2020-12-18 03:56:02   \n",
       "134086   6ff9556e-0409-48a2-b834-9f740f56a5e6 2018-09-04 09:03:12   \n",
       "160796   6d8ac624-a6f3-4f1c-98cf-1259e6c1191b 2020-12-18 03:56:02   \n",
       "...                                       ...                 ...   \n",
       "8371567  77a55a51-0698-4d26-9396-08c05d689274 2020-12-12 13:44:28   \n",
       "8383738  77a55a51-0698-4d26-9396-08c05d689274 2020-12-12 13:23:56   \n",
       "8386600  77a55a51-0698-4d26-9396-08c05d689274 2020-12-12 13:23:56   \n",
       "8392488  77a55a51-0698-4d26-9396-08c05d689274 2020-12-12 13:44:28   \n",
       "8441624  77a55a51-0698-4d26-9396-08c05d689274 2020-12-12 13:44:28   \n",
       "\n",
       "               qb_deletedAt  school_code  \\\n",
       "24572   2018-08-30 14:12:56  talentio627   \n",
       "118766                  NaT  talentio627   \n",
       "128900                  NaT    nandha416   \n",
       "134086                  NaT  talentio627   \n",
       "160796                  NaT    nandha416   \n",
       "...                     ...          ...   \n",
       "8371567                 NaT    vistas296   \n",
       "8383738                 NaT    vistas296   \n",
       "8386600                 NaT    vistas296   \n",
       "8392488                 NaT    vistas296   \n",
       "8441624                 NaT    vistas296   \n",
       "\n",
       "                                     mcq_questions_options  \\\n",
       "24572                                                   []   \n",
       "118766                                                  []   \n",
       "128900                                                  []   \n",
       "134086                                                  []   \n",
       "160796                                                  []   \n",
       "...                                                    ...   \n",
       "8371567  [{\"text\":\"<p>programmable</p>\",\"media\":\"\"},{\"t...   \n",
       "8383738  [{\"text\":\"<p>material flow</p>\",\"media\":\"\"},{\"...   \n",
       "8386600  [{\"text\":\"<p>higher returns on short-term inve...   \n",
       "8392488  [{\"text\":\"<p>an operations research expert</p>...   \n",
       "8441624  [{\"text\":\"<p>Artificial intelligence</p>\",\"med...   \n",
       "\n",
       "                                      mcq_questions_answer  \\\n",
       "24572                                                   {}   \n",
       "118766                                                  {}   \n",
       "128900                                                  {}   \n",
       "134086                                                  {}   \n",
       "160796                                                  {}   \n",
       "...                                                    ...   \n",
       "8371567      {\"args\":[\"<p>programmable</p>\"],\"partial\":[]}   \n",
       "8383738  {\"args\":[\"<p>All of the above</p>\"],\"partial\":[]}   \n",
       "8386600  {\"args\":[\"<p>All of the above</p>\"],\"partial\":[]}   \n",
       "8392488  {\"args\":[\"<p>a computing system user</p>\"],\"pa...   \n",
       "8441624  {\"args\":[\"<p>Computer assisted experimenting</...   \n",
       "\n",
       "                                                   qb_name  \n",
       "24572                                       Capgemini QB 4  \n",
       "118766                                       TAL-INF-M2-VA  \n",
       "128900                                       Test bank 75q  \n",
       "134086                                       TAL-INF-M2-VA  \n",
       "160796                                       Test bank 75q  \n",
       "...                                                    ...  \n",
       "8371567  ESODD2020_18AMRO31_MANAGEMENT INFORMATION SYST...  \n",
       "8383738  ESODD2020_18AMRO31_MANAGEMENT INFORMATION SYST...  \n",
       "8386600  ESODD2020_18AMRO31_MANAGEMENT INFORMATION SYST...  \n",
       "8392488  ESODD2020_18AMRO31_MANAGEMENT INFORMATION SYST...  \n",
       "8441624  ESODD2020_18AMRO31_MANAGEMENT INFORMATION SYST...  \n",
       "\n",
       "[73140 rows x 20 columns]"
      ]
     },
     "execution_count": 14,
     "metadata": {},
     "output_type": "execute_result"
    }
   ],
   "source": [
    "#mcq_single_correct_data.iloc[np.where(mcq_single_correct_data[\"question_data\"] == '<p></p>')]"
   ]
  },
  {
   "cell_type": "markdown",
   "metadata": {},
   "source": [
    "## Taking the mcq_single_correct as whole data1 :"
   ]
  },
  {
   "cell_type": "code",
   "execution_count": 49,
   "metadata": {
    "scrolled": true
   },
   "outputs": [],
   "source": [
    "whole_data1 = mcq_single_correct_data"
   ]
  },
  {
   "cell_type": "code",
   "execution_count": 50,
   "metadata": {},
   "outputs": [
    {
     "data": {
      "text/plain": [
       "8493058"
      ]
     },
     "execution_count": 50,
     "metadata": {},
     "output_type": "execute_result"
    }
   ],
   "source": [
    "whole_data1.shape[0]"
   ]
  },
  {
   "cell_type": "code",
   "execution_count": 53,
   "metadata": {},
   "outputs": [],
   "source": [
    "#whole_data_sample = whole_data1[::10]"
   ]
  },
  {
   "cell_type": "code",
   "execution_count": 57,
   "metadata": {
    "scrolled": true
   },
   "outputs": [],
   "source": [
    "del(whole_data_sample)"
   ]
  },
  {
   "cell_type": "code",
   "execution_count": 45,
   "metadata": {},
   "outputs": [
    {
     "data": {
      "text/html": [
       "<div>\n",
       "<style scoped>\n",
       "    .dataframe tbody tr th:only-of-type {\n",
       "        vertical-align: middle;\n",
       "    }\n",
       "\n",
       "    .dataframe tbody tr th {\n",
       "        vertical-align: top;\n",
       "    }\n",
       "\n",
       "    .dataframe thead th {\n",
       "        text-align: right;\n",
       "    }\n",
       "</style>\n",
       "<table border=\"1\" class=\"dataframe\">\n",
       "  <thead>\n",
       "    <tr style=\"text-align: right;\">\n",
       "      <th></th>\n",
       "      <th>qb_id</th>\n",
       "      <th>q_id</th>\n",
       "      <th>question_data</th>\n",
       "      <th>manual_difficulty</th>\n",
       "      <th>question_type</th>\n",
       "      <th>imported</th>\n",
       "      <th>subject_id</th>\n",
       "      <th>topic_id</th>\n",
       "      <th>sub_topic_id</th>\n",
       "      <th>subject</th>\n",
       "      <th>topic</th>\n",
       "      <th>sub_topic</th>\n",
       "      <th>createdAt</th>\n",
       "      <th>school_id</th>\n",
       "      <th>q_deletedAt</th>\n",
       "      <th>qb_deletedAt</th>\n",
       "      <th>school_code</th>\n",
       "      <th>mcq_questions_options</th>\n",
       "      <th>mcq_questions_answer</th>\n",
       "      <th>qb_name</th>\n",
       "    </tr>\n",
       "  </thead>\n",
       "  <tbody>\n",
       "    <tr>\n",
       "      <th>0</th>\n",
       "      <td>bb56eb34-a6c5-4732-8eaa-5b8a1b9f5051</td>\n",
       "      <td>9aba1952-e8c7-40af-ab2c-1d8486585550</td>\n",
       "      <td>&lt;p&gt;Each class can inherit the base class _____...</td>\n",
       "      <td>Medium</td>\n",
       "      <td>mcq_single_correct</td>\n",
       "      <td>unlimited_purchase</td>\n",
       "      <td>9f91343b-be0e-4336-b199-30d823a58046</td>\n",
       "      <td>ddd3424f-0d3e-442e-9577-7a85e37c868c</td>\n",
       "      <td>f8c7d21b-28fd-4ff0-b1c9-ecdfc2abf51f</td>\n",
       "      <td>MCQ</td>\n",
       "      <td>Core JAVA</td>\n",
       "      <td>OOPS - Inheritance</td>\n",
       "      <td>2021-06-25 02:48:02</td>\n",
       "      <td>726462db-6397-4906-8793-df0406b5133a</td>\n",
       "      <td>NaT</td>\n",
       "      <td>NaT</td>\n",
       "      <td>neohire</td>\n",
       "      <td>[{\"text\":\"&lt;p&gt;a) Independently using any inheri...</td>\n",
       "      <td>{\"args\":[\"&lt;p&gt;a) Independently using any inheri...</td>\n",
       "      <td>PREP_Java_PT_MCQ_Inheritance</td>\n",
       "    </tr>\n",
       "  </tbody>\n",
       "</table>\n",
       "</div>"
      ],
      "text/plain": [
       "                                  qb_id                                  q_id  \\\n",
       "0  bb56eb34-a6c5-4732-8eaa-5b8a1b9f5051  9aba1952-e8c7-40af-ab2c-1d8486585550   \n",
       "\n",
       "                                       question_data manual_difficulty  \\\n",
       "0  <p>Each class can inherit the base class _____...            Medium   \n",
       "\n",
       "        question_type            imported  \\\n",
       "0  mcq_single_correct  unlimited_purchase   \n",
       "\n",
       "                             subject_id                              topic_id  \\\n",
       "0  9f91343b-be0e-4336-b199-30d823a58046  ddd3424f-0d3e-442e-9577-7a85e37c868c   \n",
       "\n",
       "                           sub_topic_id subject      topic  \\\n",
       "0  f8c7d21b-28fd-4ff0-b1c9-ecdfc2abf51f     MCQ  Core JAVA   \n",
       "\n",
       "            sub_topic           createdAt  \\\n",
       "0  OOPS - Inheritance 2021-06-25 02:48:02   \n",
       "\n",
       "                              school_id q_deletedAt qb_deletedAt school_code  \\\n",
       "0  726462db-6397-4906-8793-df0406b5133a         NaT          NaT     neohire   \n",
       "\n",
       "                               mcq_questions_options  \\\n",
       "0  [{\"text\":\"<p>a) Independently using any inheri...   \n",
       "\n",
       "                                mcq_questions_answer  \\\n",
       "0  {\"args\":[\"<p>a) Independently using any inheri...   \n",
       "\n",
       "                        qb_name  \n",
       "0  PREP_Java_PT_MCQ_Inheritance  "
      ]
     },
     "execution_count": 45,
     "metadata": {},
     "output_type": "execute_result"
    }
   ],
   "source": [
    "whole_data1.head(1)"
   ]
  },
  {
   "cell_type": "code",
   "execution_count": 55,
   "metadata": {},
   "outputs": [
    {
     "data": {
      "text/plain": [
       "215"
      ]
     },
     "execution_count": 55,
     "metadata": {},
     "output_type": "execute_result"
    }
   ],
   "source": [
    "# number of schools\n",
    "whole_data_sample[\"school_code\"].nunique()"
   ]
  },
  {
   "cell_type": "markdown",
   "metadata": {},
   "source": [
    "#### Data Details:\n",
    "Coumns:\n",
    "\n",
    "|'qb_id'| 'q_id'| 'question_data'| 'manual_difficulty'| 'question_type'|'imported'| 'subject_id'| 'topic_id'| \n",
    "\n",
    "'sub_topic_id'|'subject'|'topic'| 'sub_topic'| 'createdAt'| 'school_id'| 'q_deletedAt'|'qb_deletedAt'| 'school_code'|"
   ]
  },
  {
   "cell_type": "markdown",
   "metadata": {},
   "source": [
    "#### A coustoum class to perform cleaning, transformation, find duplicate questions and to show its variations"
   ]
  },
  {
   "cell_type": "code",
   "execution_count": 56,
   "metadata": {},
   "outputs": [],
   "source": [
    "class duplicate_v1:\n",
    "    def __init__(self,raw_data):\n",
    "        self.data = raw_data\n",
    "        \n",
    "    def raw_data(self):\n",
    "        raw_data = self.data\n",
    "        return raw_data\n",
    "    def col_to_drop(self,columns:list):\n",
    "        return self.data.drop(columns,axis=1)\n",
    "    def clean_data(self,data):\n",
    "        data[\"question_data\"] = data[\"question_data\"].replace(r\"<p></p>\",np.NaN,regex=True)\n",
    "        if not \"clean_question_data\" in data.columns:\n",
    "            data.insert(loc=3,column=\"clean_question_data\",value=data[\"question_data\"].str.replace(r'<[^<>]*>','',regex=True).replace('&amp','').replace('&nbsp',''))\n",
    "        #data[\"clean_question_data\"] = data[\"question_data\"].str.replace(r'<[^<>]*>','',regex=True)\n",
    "        return data\n",
    "    def clean_nan(self,data):\n",
    "        data = data.drop(index=list(np.where(data[\"clean_question_data\"] == \"nan\")[0]))\n",
    "        return data\n",
    "    def transform_data(self,cleaned_data):\n",
    "        data_new = cleaned_data\n",
    "        data_new[\"clean_question_data\"] = [str(data_new[\"clean_question_data\"].iloc[i]).strip().lower() for i in range(len(data_new[\"clean_question_data\"]))]\n",
    "        return data_new\n",
    "    def filter_duplicate(self,transformed_data):\n",
    "        data = transformed_data\n",
    "        data[\"duplicate\"] = data[\"clean_question_data\"].duplicated()\n",
    "        duplicated = data.iloc[np.where(data[\"duplicate\"] == True)]\n",
    "        return duplicated.reset_index()\n",
    "    def find_dup_idx(self,data,scentence:str) -> list:\n",
    "        return list(np.where(scentence == data[\"clean_question_data\"][::1])[0])\n",
    "    # to show the variations:\n",
    "    def variations(self,filtered_data,idx:list):\n",
    "        if len(filtered_data.iloc[idx].index)>1:\n",
    "            print(f\"filtered_data :: {len(filtered_data.iloc[idx].index)}\")\n",
    "            q_type = int(len(filtered_data[\"question_type\"].iloc[idx]))\n",
    "            if q_type > 2:\n",
    "                print(f\"q_type :: {q_type}\")\n",
    "                q_sub = int(len(filtered_data[\"subject\"].iloc[idx]))\n",
    "                if q_sub > 2:\n",
    "                    print(f\"q_sub :: {q_sub}\")\n",
    "                    q_topic = int(len(filtered_data[\"topic\"].iloc[idx]))\n",
    "                    if q_topic > 2:\n",
    "                        print(f\"q_topic :: {q_topic}\")\n",
    "                        q_sub_topic = int(len(filtered_data[\"sub_topic\"].iloc[idx]))\n",
    "                        if q_sub_topic > 2:\n",
    "                            print(f\"q_sub_topic :: {q_sub_topic}\")\n",
    "                            return filtered_data.iloc[idx]\n",
    "        else:\n",
    "            print(\"No variations found...\")"
   ]
  },
  {
   "cell_type": "markdown",
   "metadata": {},
   "source": [
    "#### Dropping the rows with empty questions..."
   ]
  },
  {
   "cell_type": "code",
   "execution_count": 58,
   "metadata": {},
   "outputs": [
    {
     "name": "stdout",
     "output_type": "stream",
     "text": [
      "Number of questions in actual data :: 8493058\n",
      "Number of rows containing empty question :: 0\n"
     ]
    },
    {
     "data": {
      "text/html": [
       "<div>\n",
       "<style scoped>\n",
       "    .dataframe tbody tr th:only-of-type {\n",
       "        vertical-align: middle;\n",
       "    }\n",
       "\n",
       "    .dataframe tbody tr th {\n",
       "        vertical-align: top;\n",
       "    }\n",
       "\n",
       "    .dataframe thead th {\n",
       "        text-align: right;\n",
       "    }\n",
       "</style>\n",
       "<table border=\"1\" class=\"dataframe\">\n",
       "  <thead>\n",
       "    <tr style=\"text-align: right;\">\n",
       "      <th></th>\n",
       "      <th>qb_id</th>\n",
       "      <th>q_id</th>\n",
       "      <th>question_data</th>\n",
       "      <th>manual_difficulty</th>\n",
       "      <th>question_type</th>\n",
       "      <th>imported</th>\n",
       "      <th>subject_id</th>\n",
       "      <th>topic_id</th>\n",
       "      <th>sub_topic_id</th>\n",
       "      <th>subject</th>\n",
       "      <th>topic</th>\n",
       "      <th>sub_topic</th>\n",
       "      <th>createdAt</th>\n",
       "      <th>school_id</th>\n",
       "      <th>q_deletedAt</th>\n",
       "      <th>qb_deletedAt</th>\n",
       "      <th>school_code</th>\n",
       "      <th>mcq_questions_options</th>\n",
       "      <th>mcq_questions_answer</th>\n",
       "      <th>qb_name</th>\n",
       "    </tr>\n",
       "  </thead>\n",
       "  <tbody>\n",
       "  </tbody>\n",
       "</table>\n",
       "</div>"
      ],
      "text/plain": [
       "Empty DataFrame\n",
       "Columns: [qb_id, q_id, question_data, manual_difficulty, question_type, imported, subject_id, topic_id, sub_topic_id, subject, topic, sub_topic, createdAt, school_id, q_deletedAt, qb_deletedAt, school_code, mcq_questions_options, mcq_questions_answer, qb_name]\n",
       "Index: []"
      ]
     },
     "execution_count": 58,
     "metadata": {},
     "output_type": "execute_result"
    }
   ],
   "source": [
    "# Empty question data rows\n",
    "print(f\"Number of questions in actual data :: {whole_data1.shape[0]}\")\n",
    "no_ques_data = whole_data1.iloc[np.where(whole_data1['question_data'] == \"<p></p>\")]\n",
    "print(f\"Number of rows containing empty question :: {no_ques_data.shape[0]}\")\n",
    "no_ques_data.head(2)"
   ]
  },
  {
   "cell_type": "code",
   "execution_count": 59,
   "metadata": {},
   "outputs": [
    {
     "data": {
      "text/plain": [
       "(8493058, 20)"
      ]
     },
     "execution_count": 59,
     "metadata": {},
     "output_type": "execute_result"
    }
   ],
   "source": [
    "whole_data1.shape"
   ]
  },
  {
   "cell_type": "code",
   "execution_count": 52,
   "metadata": {},
   "outputs": [],
   "source": [
    "# removed the rows with empty question data\n",
    "\n",
    "cleaned_data1 = whole_data1.drop(index=no_ques_data.index,axis=0)"
   ]
  },
  {
   "cell_type": "code",
   "execution_count": 53,
   "metadata": {},
   "outputs": [],
   "source": [
    "# sorting the index while storing the actual index values..\n",
    "cleaned_data1 = cleaned_data1.reset_index()"
   ]
  },
  {
   "cell_type": "code",
   "execution_count": 54,
   "metadata": {},
   "outputs": [
    {
     "data": {
      "text/plain": [
       "(8494372, 21)"
      ]
     },
     "execution_count": 54,
     "metadata": {},
     "output_type": "execute_result"
    }
   ],
   "source": [
    "cleaned_data1.shape"
   ]
  },
  {
   "cell_type": "code",
   "execution_count": 55,
   "metadata": {},
   "outputs": [],
   "source": [
    "# Carrying the actual data to processing:\n",
    "\n",
    "duplicate = duplicate_v1(raw_data=cleaned_data1)"
   ]
  },
  {
   "cell_type": "code",
   "execution_count": 56,
   "metadata": {},
   "outputs": [],
   "source": [
    "# removing the html tags from the data\n",
    "cleaned_data2 = duplicate.clean_data(cleaned_data1)"
   ]
  },
  {
   "cell_type": "code",
   "execution_count": 57,
   "metadata": {},
   "outputs": [
    {
     "data": {
      "text/plain": [
       "(8494372, 22)"
      ]
     },
     "execution_count": 57,
     "metadata": {},
     "output_type": "execute_result"
    }
   ],
   "source": [
    "cleaned_data2.shape"
   ]
  },
  {
   "cell_type": "code",
   "execution_count": 58,
   "metadata": {},
   "outputs": [
    {
     "data": {
      "text/html": [
       "<div>\n",
       "<style scoped>\n",
       "    .dataframe tbody tr th:only-of-type {\n",
       "        vertical-align: middle;\n",
       "    }\n",
       "\n",
       "    .dataframe tbody tr th {\n",
       "        vertical-align: top;\n",
       "    }\n",
       "\n",
       "    .dataframe thead th {\n",
       "        text-align: right;\n",
       "    }\n",
       "</style>\n",
       "<table border=\"1\" class=\"dataframe\">\n",
       "  <thead>\n",
       "    <tr style=\"text-align: right;\">\n",
       "      <th></th>\n",
       "      <th>index</th>\n",
       "      <th>qb_id</th>\n",
       "      <th>q_id</th>\n",
       "      <th>clean_question_data</th>\n",
       "      <th>question_data</th>\n",
       "      <th>manual_difficulty</th>\n",
       "      <th>question_type</th>\n",
       "      <th>imported</th>\n",
       "      <th>subject_id</th>\n",
       "      <th>topic_id</th>\n",
       "      <th>...</th>\n",
       "      <th>topic</th>\n",
       "      <th>sub_topic</th>\n",
       "      <th>createdAt</th>\n",
       "      <th>school_id</th>\n",
       "      <th>q_deletedAt</th>\n",
       "      <th>qb_deletedAt</th>\n",
       "      <th>school_code</th>\n",
       "      <th>mcq_questions_options</th>\n",
       "      <th>mcq_questions_answer</th>\n",
       "      <th>qb_name</th>\n",
       "    </tr>\n",
       "  </thead>\n",
       "  <tbody>\n",
       "    <tr>\n",
       "      <th>0</th>\n",
       "      <td>0</td>\n",
       "      <td>bb56eb34-a6c5-4732-8eaa-5b8a1b9f5051</td>\n",
       "      <td>9aba1952-e8c7-40af-ab2c-1d8486585550</td>\n",
       "      <td>Each class can inherit the base class ________...</td>\n",
       "      <td>&lt;p&gt;Each class can inherit the base class _____...</td>\n",
       "      <td>Medium</td>\n",
       "      <td>mcq_single_correct</td>\n",
       "      <td>unlimited_purchase</td>\n",
       "      <td>9f91343b-be0e-4336-b199-30d823a58046</td>\n",
       "      <td>ddd3424f-0d3e-442e-9577-7a85e37c868c</td>\n",
       "      <td>...</td>\n",
       "      <td>Core JAVA</td>\n",
       "      <td>OOPS - Inheritance</td>\n",
       "      <td>2021-06-25 02:48:02</td>\n",
       "      <td>726462db-6397-4906-8793-df0406b5133a</td>\n",
       "      <td>NaT</td>\n",
       "      <td>NaT</td>\n",
       "      <td>neohire</td>\n",
       "      <td>[{\"text\":\"&lt;p&gt;a) Independently using any inheri...</td>\n",
       "      <td>{\"args\":[\"&lt;p&gt;a) Independently using any inheri...</td>\n",
       "      <td>PREP_Java_PT_MCQ_Inheritance</td>\n",
       "    </tr>\n",
       "    <tr>\n",
       "      <th>1</th>\n",
       "      <td>1</td>\n",
       "      <td>851c2fdc-4723-43c1-993b-90b3f3d54ab7</td>\n",
       "      <td>1711c72e-5d12-4afd-964c-be91aa050573</td>\n",
       "      <td>Select a process sequence, for machining the c...</td>\n",
       "      <td>&lt;p&gt;&lt;span style=\"color: rgb(0, 0, 10);\"&gt;Select ...</td>\n",
       "      <td>Hard</td>\n",
       "      <td>mcq_single_correct</td>\n",
       "      <td>original_question</td>\n",
       "      <td>6ed7b6f1-be79-494b-b488-bbc4a2156f95</td>\n",
       "      <td>03c113f6-ec06-424d-8d53-96be34075412</td>\n",
       "      <td>...</td>\n",
       "      <td>UNIT3</td>\n",
       "      <td>CO3</td>\n",
       "      <td>2021-10-26 11:18:45</td>\n",
       "      <td>c7bde760-cc4a-4d2d-a91d-0fe6031a8ff1</td>\n",
       "      <td>NaT</td>\n",
       "      <td>NaT</td>\n",
       "      <td>psgtech850</td>\n",
       "      <td>[{\"text\":\"&lt;p&gt;&lt;span style=\\\"color: rgb(0, 0, 10...</td>\n",
       "      <td>{\"args\":[\"&lt;p&gt;&lt;span style=\\\"color: rgb(0, 0, 10...</td>\n",
       "      <td>NOV 21_19P501_COMPUTER NUMERICAL CONTROL MACHINES</td>\n",
       "    </tr>\n",
       "    <tr>\n",
       "      <th>2</th>\n",
       "      <td>3</td>\n",
       "      <td>e009bf4b-aa5b-43e5-804b-34272d1dbc0a</td>\n",
       "      <td>2fb0e331-abee-4b05-8509-08d11cd341e2</td>\n",
       "      <td>What will be the output of the given code?$$$e...</td>\n",
       "      <td>&lt;p&gt;What will be the output of the given code?&lt;...</td>\n",
       "      <td>Easy</td>\n",
       "      <td>mcq_single_correct</td>\n",
       "      <td>unlimited_purchase</td>\n",
       "      <td>9f91343b-be0e-4336-b199-30d823a58046</td>\n",
       "      <td>1f66d012-a996-4d00-8f70-3a65ec3a634f</td>\n",
       "      <td>...</td>\n",
       "      <td>C Programming</td>\n",
       "      <td>Functions</td>\n",
       "      <td>2020-07-15 07:04:16</td>\n",
       "      <td>a334a0f7-2fce-465b-8216-1bb456f571f3</td>\n",
       "      <td>NaT</td>\n",
       "      <td>NaT</td>\n",
       "      <td>skct892</td>\n",
       "      <td>[{\"text\":\"&lt;p&gt;2 3&lt;/p&gt;\",\"media\":\"\"},{\"text\":\"&lt;p&gt;...</td>\n",
       "      <td>{\"args\":[\"&lt;p&gt;2 3&lt;/p&gt;\"],\"partial\":[]}</td>\n",
       "      <td>Accenture Technical Practice Test</td>\n",
       "    </tr>\n",
       "    <tr>\n",
       "      <th>3</th>\n",
       "      <td>4</td>\n",
       "      <td>32b25449-0e3e-4af4-b7a5-3ef0d25cb1f2</td>\n",
       "      <td>da4ecc6f-2393-4a07-b09f-71e139c65237</td>\n",
       "      <td>The range extended electric vehicle (REVs) con...</td>\n",
       "      <td>&lt;p&gt;&lt;span style=\"color: rgb(0, 0, 10);\"&gt;The ran...</td>\n",
       "      <td>Easy</td>\n",
       "      <td>mcq_single_correct</td>\n",
       "      <td>original_question</td>\n",
       "      <td>6ed7b6f1-be79-494b-b488-bbc4a2156f95</td>\n",
       "      <td>4f7eb276-bbfa-446c-bcbc-d340a5559958</td>\n",
       "      <td>...</td>\n",
       "      <td>UNIT2</td>\n",
       "      <td>CO2</td>\n",
       "      <td>2021-10-21 08:34:12</td>\n",
       "      <td>c7bde760-cc4a-4d2d-a91d-0fe6031a8ff1</td>\n",
       "      <td>NaT</td>\n",
       "      <td>2021-10-21 11:32:13</td>\n",
       "      <td>psgtech850</td>\n",
       "      <td>[{\"text\":\"&lt;p&gt;&lt;span style=\\\"color: rgb(0, 0, 10...</td>\n",
       "      <td>{\"args\":[\"&lt;p&gt;&lt;span style=\\\"color: rgb(0, 0, 10...</td>\n",
       "      <td>NOV21_19A505_ALTERNATE POWER  TRAIN</td>\n",
       "    </tr>\n",
       "    <tr>\n",
       "      <th>4</th>\n",
       "      <td>5</td>\n",
       "      <td>a0dc8f1a-8a34-4b41-aaad-73b4f22c0582</td>\n",
       "      <td>e354f4c6-0c7d-4aa2-ae0f-25b39a65c59f</td>\n",
       "      <td>...</td>\n",
       "      <td>&lt;p&gt;&lt;span style=\"color: rgb(0, 0, 10);\"&gt;       ...</td>\n",
       "      <td>Easy</td>\n",
       "      <td>mcq_single_correct</td>\n",
       "      <td>original_question</td>\n",
       "      <td>6ed7b6f1-be79-494b-b488-bbc4a2156f95</td>\n",
       "      <td>43de6b0e-c7fe-45ca-9e42-f5cc9120b15f</td>\n",
       "      <td>...</td>\n",
       "      <td>UNIT1</td>\n",
       "      <td>CO1</td>\n",
       "      <td>2021-11-01 08:55:15</td>\n",
       "      <td>c7bde760-cc4a-4d2d-a91d-0fe6031a8ff1</td>\n",
       "      <td>NaT</td>\n",
       "      <td>NaT</td>\n",
       "      <td>psgtech850</td>\n",
       "      <td>[{\"text\":\"&lt;p&gt;&lt;span style=\\\"color: rgb(0, 0, 10...</td>\n",
       "      <td>{\"args\":[\"&lt;p&gt;&lt;span style=\\\"color: rgb(0, 0, 10...</td>\n",
       "      <td>QB_20SA71_GAME THEORY_NOV 21</td>\n",
       "    </tr>\n",
       "  </tbody>\n",
       "</table>\n",
       "<p>5 rows × 22 columns</p>\n",
       "</div>"
      ],
      "text/plain": [
       "   index                                 qb_id  \\\n",
       "0      0  bb56eb34-a6c5-4732-8eaa-5b8a1b9f5051   \n",
       "1      1  851c2fdc-4723-43c1-993b-90b3f3d54ab7   \n",
       "2      3  e009bf4b-aa5b-43e5-804b-34272d1dbc0a   \n",
       "3      4  32b25449-0e3e-4af4-b7a5-3ef0d25cb1f2   \n",
       "4      5  a0dc8f1a-8a34-4b41-aaad-73b4f22c0582   \n",
       "\n",
       "                                   q_id  \\\n",
       "0  9aba1952-e8c7-40af-ab2c-1d8486585550   \n",
       "1  1711c72e-5d12-4afd-964c-be91aa050573   \n",
       "2  2fb0e331-abee-4b05-8509-08d11cd341e2   \n",
       "3  da4ecc6f-2393-4a07-b09f-71e139c65237   \n",
       "4  e354f4c6-0c7d-4aa2-ae0f-25b39a65c59f   \n",
       "\n",
       "                                 clean_question_data  \\\n",
       "0  Each class can inherit the base class ________...   \n",
       "1  Select a process sequence, for machining the c...   \n",
       "2  What will be the output of the given code?$$$e...   \n",
       "3  The range extended electric vehicle (REVs) con...   \n",
       "4                                                ...   \n",
       "\n",
       "                                       question_data manual_difficulty  \\\n",
       "0  <p>Each class can inherit the base class _____...            Medium   \n",
       "1  <p><span style=\"color: rgb(0, 0, 10);\">Select ...              Hard   \n",
       "2  <p>What will be the output of the given code?<...              Easy   \n",
       "3  <p><span style=\"color: rgb(0, 0, 10);\">The ran...              Easy   \n",
       "4  <p><span style=\"color: rgb(0, 0, 10);\">       ...              Easy   \n",
       "\n",
       "        question_type            imported  \\\n",
       "0  mcq_single_correct  unlimited_purchase   \n",
       "1  mcq_single_correct   original_question   \n",
       "2  mcq_single_correct  unlimited_purchase   \n",
       "3  mcq_single_correct   original_question   \n",
       "4  mcq_single_correct   original_question   \n",
       "\n",
       "                             subject_id                              topic_id  \\\n",
       "0  9f91343b-be0e-4336-b199-30d823a58046  ddd3424f-0d3e-442e-9577-7a85e37c868c   \n",
       "1  6ed7b6f1-be79-494b-b488-bbc4a2156f95  03c113f6-ec06-424d-8d53-96be34075412   \n",
       "2  9f91343b-be0e-4336-b199-30d823a58046  1f66d012-a996-4d00-8f70-3a65ec3a634f   \n",
       "3  6ed7b6f1-be79-494b-b488-bbc4a2156f95  4f7eb276-bbfa-446c-bcbc-d340a5559958   \n",
       "4  6ed7b6f1-be79-494b-b488-bbc4a2156f95  43de6b0e-c7fe-45ca-9e42-f5cc9120b15f   \n",
       "\n",
       "   ...          topic           sub_topic           createdAt  \\\n",
       "0  ...      Core JAVA  OOPS - Inheritance 2021-06-25 02:48:02   \n",
       "1  ...          UNIT3                 CO3 2021-10-26 11:18:45   \n",
       "2  ...  C Programming           Functions 2020-07-15 07:04:16   \n",
       "3  ...          UNIT2                 CO2 2021-10-21 08:34:12   \n",
       "4  ...          UNIT1                 CO1 2021-11-01 08:55:15   \n",
       "\n",
       "                              school_id q_deletedAt        qb_deletedAt  \\\n",
       "0  726462db-6397-4906-8793-df0406b5133a         NaT                 NaT   \n",
       "1  c7bde760-cc4a-4d2d-a91d-0fe6031a8ff1         NaT                 NaT   \n",
       "2  a334a0f7-2fce-465b-8216-1bb456f571f3         NaT                 NaT   \n",
       "3  c7bde760-cc4a-4d2d-a91d-0fe6031a8ff1         NaT 2021-10-21 11:32:13   \n",
       "4  c7bde760-cc4a-4d2d-a91d-0fe6031a8ff1         NaT                 NaT   \n",
       "\n",
       "  school_code                              mcq_questions_options  \\\n",
       "0     neohire  [{\"text\":\"<p>a) Independently using any inheri...   \n",
       "1  psgtech850  [{\"text\":\"<p><span style=\\\"color: rgb(0, 0, 10...   \n",
       "2     skct892  [{\"text\":\"<p>2 3</p>\",\"media\":\"\"},{\"text\":\"<p>...   \n",
       "3  psgtech850  [{\"text\":\"<p><span style=\\\"color: rgb(0, 0, 10...   \n",
       "4  psgtech850  [{\"text\":\"<p><span style=\\\"color: rgb(0, 0, 10...   \n",
       "\n",
       "                                mcq_questions_answer  \\\n",
       "0  {\"args\":[\"<p>a) Independently using any inheri...   \n",
       "1  {\"args\":[\"<p><span style=\\\"color: rgb(0, 0, 10...   \n",
       "2               {\"args\":[\"<p>2 3</p>\"],\"partial\":[]}   \n",
       "3  {\"args\":[\"<p><span style=\\\"color: rgb(0, 0, 10...   \n",
       "4  {\"args\":[\"<p><span style=\\\"color: rgb(0, 0, 10...   \n",
       "\n",
       "                                             qb_name  \n",
       "0                       PREP_Java_PT_MCQ_Inheritance  \n",
       "1  NOV 21_19P501_COMPUTER NUMERICAL CONTROL MACHINES  \n",
       "2                  Accenture Technical Practice Test  \n",
       "3                NOV21_19A505_ALTERNATE POWER  TRAIN  \n",
       "4                       QB_20SA71_GAME THEORY_NOV 21  \n",
       "\n",
       "[5 rows x 22 columns]"
      ]
     },
     "execution_count": 58,
     "metadata": {},
     "output_type": "execute_result"
    }
   ],
   "source": [
    "cleaned_data2.head()"
   ]
  },
  {
   "cell_type": "code",
   "execution_count": 59,
   "metadata": {},
   "outputs": [
    {
     "data": {
      "text/plain": [
       "(8494372, 22)"
      ]
     },
     "execution_count": 59,
     "metadata": {},
     "output_type": "execute_result"
    }
   ],
   "source": [
    "# remove the nan created while removing the html tags\n",
    "cleaned_data3 = duplicate.clean_nan(cleaned_data2)\n",
    "cleaned_data3.shape"
   ]
  },
  {
   "cell_type": "markdown",
   "metadata": {},
   "source": [
    "# Sampling the data"
   ]
  },
  {
   "cell_type": "code",
   "execution_count": 64,
   "metadata": {},
   "outputs": [],
   "source": [
    "cleaned_data3_1st_sample = cleaned_data3[:8494372//3]"
   ]
  },
  {
   "cell_type": "code",
   "execution_count": 65,
   "metadata": {},
   "outputs": [
    {
     "data": {
      "text/plain": [
       "(2831457, 22)"
      ]
     },
     "execution_count": 65,
     "metadata": {},
     "output_type": "execute_result"
    }
   ],
   "source": [
    "cleaned_data3_1st_sample.shape"
   ]
  },
  {
   "cell_type": "code",
   "execution_count": 62,
   "metadata": {},
   "outputs": [
    {
     "data": {
      "text/plain": [
       "2831457"
      ]
     },
     "execution_count": 62,
     "metadata": {},
     "output_type": "execute_result"
    }
   ],
   "source": [
    "8494372//3"
   ]
  },
  {
   "cell_type": "code",
   "execution_count": 66,
   "metadata": {},
   "outputs": [
    {
     "data": {
      "text/plain": [
       "(2831457, 22)"
      ]
     },
     "execution_count": 66,
     "metadata": {},
     "output_type": "execute_result"
    }
   ],
   "source": [
    "cleaned_data3_2nd_sample = cleaned_data3[2831457:(2831457*2)]\n",
    "cleaned_data3_2nd_sample.shape"
   ]
  },
  {
   "cell_type": "code",
   "execution_count": 67,
   "metadata": {},
   "outputs": [
    {
     "data": {
      "text/plain": [
       "(2831458, 22)"
      ]
     },
     "execution_count": 67,
     "metadata": {},
     "output_type": "execute_result"
    }
   ],
   "source": [
    "cleaned_data3_3rd_sample = cleaned_data3[(2831457*2):]\n",
    "cleaned_data3_3rd_sample.shape"
   ]
  },
  {
   "cell_type": "markdown",
   "metadata": {},
   "source": [
    "##"
   ]
  },
  {
   "cell_type": "code",
   "execution_count": 60,
   "metadata": {},
   "outputs": [
    {
     "ename": "MemoryError",
     "evalue": "",
     "output_type": "error",
     "traceback": [
      "\u001b[1;31m---------------------------------------------------------------------------\u001b[0m",
      "\u001b[1;31mMemoryError\u001b[0m                               Traceback (most recent call last)",
      "Input \u001b[1;32mIn [60]\u001b[0m, in \u001b[0;36m<cell line: 3>\u001b[1;34m()\u001b[0m\n\u001b[0;32m      1\u001b[0m \u001b[38;5;66;03m# Transforming data contains removing of unwanted spaces and converting the texts into lowercase to maintain uniformity in \u001b[39;00m\n\u001b[0;32m      2\u001b[0m \u001b[38;5;66;03m# comparison\u001b[39;00m\n\u001b[1;32m----> 3\u001b[0m transformed_data \u001b[38;5;241m=\u001b[39m \u001b[43mduplicate\u001b[49m\u001b[38;5;241;43m.\u001b[39;49m\u001b[43mtransform_data\u001b[49m\u001b[43m(\u001b[49m\u001b[43mcleaned_data3\u001b[49m\u001b[43m)\u001b[49m\n",
      "Input \u001b[1;32mIn [49]\u001b[0m, in \u001b[0;36mduplicate_v1.transform_data\u001b[1;34m(self, cleaned_data)\u001b[0m\n\u001b[0;32m     19\u001b[0m \u001b[38;5;28;01mdef\u001b[39;00m \u001b[38;5;21mtransform_data\u001b[39m(\u001b[38;5;28mself\u001b[39m,cleaned_data):\n\u001b[0;32m     20\u001b[0m     data_new \u001b[38;5;241m=\u001b[39m cleaned_data\n\u001b[1;32m---> 21\u001b[0m     data_new[\u001b[38;5;124m\"\u001b[39m\u001b[38;5;124mclean_question_data\u001b[39m\u001b[38;5;124m\"\u001b[39m] \u001b[38;5;241m=\u001b[39m [\u001b[38;5;28mstr\u001b[39m(data_new[\u001b[38;5;124m\"\u001b[39m\u001b[38;5;124mclean_question_data\u001b[39m\u001b[38;5;124m\"\u001b[39m]\u001b[38;5;241m.\u001b[39miloc[i])\u001b[38;5;241m.\u001b[39mstrip()\u001b[38;5;241m.\u001b[39mlower() \u001b[38;5;28;01mfor\u001b[39;00m i \u001b[38;5;129;01min\u001b[39;00m \u001b[38;5;28mrange\u001b[39m(\u001b[38;5;28mlen\u001b[39m(data_new[\u001b[38;5;124m\"\u001b[39m\u001b[38;5;124mclean_question_data\u001b[39m\u001b[38;5;124m\"\u001b[39m]))]\n\u001b[0;32m     22\u001b[0m     \u001b[38;5;28;01mreturn\u001b[39;00m data_new\n",
      "File \u001b[1;32m~\\anaconda3\\lib\\site-packages\\pandas\\core\\frame.py:3612\u001b[0m, in \u001b[0;36mDataFrame.__setitem__\u001b[1;34m(self, key, value)\u001b[0m\n\u001b[0;32m   3609\u001b[0m     \u001b[38;5;28mself\u001b[39m\u001b[38;5;241m.\u001b[39m_setitem_array([key], value)\n\u001b[0;32m   3610\u001b[0m \u001b[38;5;28;01melse\u001b[39;00m:\n\u001b[0;32m   3611\u001b[0m     \u001b[38;5;66;03m# set column\u001b[39;00m\n\u001b[1;32m-> 3612\u001b[0m     \u001b[38;5;28;43mself\u001b[39;49m\u001b[38;5;241;43m.\u001b[39;49m\u001b[43m_set_item\u001b[49m\u001b[43m(\u001b[49m\u001b[43mkey\u001b[49m\u001b[43m,\u001b[49m\u001b[43m \u001b[49m\u001b[43mvalue\u001b[49m\u001b[43m)\u001b[49m\n",
      "File \u001b[1;32m~\\anaconda3\\lib\\site-packages\\pandas\\core\\frame.py:3784\u001b[0m, in \u001b[0;36mDataFrame._set_item\u001b[1;34m(self, key, value)\u001b[0m\n\u001b[0;32m   3774\u001b[0m \u001b[38;5;28;01mdef\u001b[39;00m \u001b[38;5;21m_set_item\u001b[39m(\u001b[38;5;28mself\u001b[39m, key, value) \u001b[38;5;241m-\u001b[39m\u001b[38;5;241m>\u001b[39m \u001b[38;5;28;01mNone\u001b[39;00m:\n\u001b[0;32m   3775\u001b[0m     \u001b[38;5;124;03m\"\"\"\u001b[39;00m\n\u001b[0;32m   3776\u001b[0m \u001b[38;5;124;03m    Add series to DataFrame in specified column.\u001b[39;00m\n\u001b[0;32m   3777\u001b[0m \n\u001b[1;32m   (...)\u001b[0m\n\u001b[0;32m   3782\u001b[0m \u001b[38;5;124;03m    ensure homogeneity.\u001b[39;00m\n\u001b[0;32m   3783\u001b[0m \u001b[38;5;124;03m    \"\"\"\u001b[39;00m\n\u001b[1;32m-> 3784\u001b[0m     value \u001b[38;5;241m=\u001b[39m \u001b[38;5;28;43mself\u001b[39;49m\u001b[38;5;241;43m.\u001b[39;49m\u001b[43m_sanitize_column\u001b[49m\u001b[43m(\u001b[49m\u001b[43mvalue\u001b[49m\u001b[43m)\u001b[49m\n\u001b[0;32m   3786\u001b[0m     \u001b[38;5;28;01mif\u001b[39;00m (\n\u001b[0;32m   3787\u001b[0m         key \u001b[38;5;129;01min\u001b[39;00m \u001b[38;5;28mself\u001b[39m\u001b[38;5;241m.\u001b[39mcolumns\n\u001b[0;32m   3788\u001b[0m         \u001b[38;5;129;01mand\u001b[39;00m value\u001b[38;5;241m.\u001b[39mndim \u001b[38;5;241m==\u001b[39m \u001b[38;5;241m1\u001b[39m\n\u001b[0;32m   3789\u001b[0m         \u001b[38;5;129;01mand\u001b[39;00m \u001b[38;5;129;01mnot\u001b[39;00m is_extension_array_dtype(value)\n\u001b[0;32m   3790\u001b[0m     ):\n\u001b[0;32m   3791\u001b[0m         \u001b[38;5;66;03m# broadcast across multiple columns if necessary\u001b[39;00m\n\u001b[0;32m   3792\u001b[0m         \u001b[38;5;28;01mif\u001b[39;00m \u001b[38;5;129;01mnot\u001b[39;00m \u001b[38;5;28mself\u001b[39m\u001b[38;5;241m.\u001b[39mcolumns\u001b[38;5;241m.\u001b[39mis_unique \u001b[38;5;129;01mor\u001b[39;00m \u001b[38;5;28misinstance\u001b[39m(\u001b[38;5;28mself\u001b[39m\u001b[38;5;241m.\u001b[39mcolumns, MultiIndex):\n",
      "File \u001b[1;32m~\\anaconda3\\lib\\site-packages\\pandas\\core\\frame.py:4510\u001b[0m, in \u001b[0;36mDataFrame._sanitize_column\u001b[1;34m(self, value)\u001b[0m\n\u001b[0;32m   4508\u001b[0m \u001b[38;5;28;01mif\u001b[39;00m is_list_like(value):\n\u001b[0;32m   4509\u001b[0m     com\u001b[38;5;241m.\u001b[39mrequire_length_match(value, \u001b[38;5;28mself\u001b[39m\u001b[38;5;241m.\u001b[39mindex)\n\u001b[1;32m-> 4510\u001b[0m \u001b[38;5;28;01mreturn\u001b[39;00m \u001b[43msanitize_array\u001b[49m\u001b[43m(\u001b[49m\u001b[43mvalue\u001b[49m\u001b[43m,\u001b[49m\u001b[43m \u001b[49m\u001b[38;5;28;43mself\u001b[39;49m\u001b[38;5;241;43m.\u001b[39;49m\u001b[43mindex\u001b[49m\u001b[43m,\u001b[49m\u001b[43m \u001b[49m\u001b[43mcopy\u001b[49m\u001b[38;5;241;43m=\u001b[39;49m\u001b[38;5;28;43;01mTrue\u001b[39;49;00m\u001b[43m,\u001b[49m\u001b[43m \u001b[49m\u001b[43mallow_2d\u001b[49m\u001b[38;5;241;43m=\u001b[39;49m\u001b[38;5;28;43;01mTrue\u001b[39;49;00m\u001b[43m)\u001b[49m\n",
      "File \u001b[1;32m~\\anaconda3\\lib\\site-packages\\pandas\\core\\construction.py:566\u001b[0m, in \u001b[0;36msanitize_array\u001b[1;34m(data, index, dtype, copy, raise_cast_failure, allow_2d)\u001b[0m\n\u001b[0;32m    564\u001b[0m     data \u001b[38;5;241m=\u001b[39m np\u001b[38;5;241m.\u001b[39masarray(data)\n\u001b[0;32m    565\u001b[0m \u001b[38;5;28;01melse\u001b[39;00m:\n\u001b[1;32m--> 566\u001b[0m     data \u001b[38;5;241m=\u001b[39m \u001b[38;5;28;43mlist\u001b[39;49m\u001b[43m(\u001b[49m\u001b[43mdata\u001b[49m\u001b[43m)\u001b[49m\n\u001b[0;32m    568\u001b[0m \u001b[38;5;28;01mif\u001b[39;00m dtype \u001b[38;5;129;01mis\u001b[39;00m \u001b[38;5;129;01mnot\u001b[39;00m \u001b[38;5;28;01mNone\u001b[39;00m \u001b[38;5;129;01mor\u001b[39;00m \u001b[38;5;28mlen\u001b[39m(data) \u001b[38;5;241m==\u001b[39m \u001b[38;5;241m0\u001b[39m:\n\u001b[0;32m    569\u001b[0m     subarr \u001b[38;5;241m=\u001b[39m _try_cast(data, dtype, copy, raise_cast_failure)\n",
      "\u001b[1;31mMemoryError\u001b[0m: "
     ]
    }
   ],
   "source": [
    "# Transforming data contains removing of unwanted spaces and converting the texts into lowercase to maintain uniformity in \n",
    "# comparison\n",
    "transformed_data = duplicate.transform_data(cleaned_data3)"
   ]
  },
  {
   "cell_type": "code",
   "execution_count": 25,
   "metadata": {},
   "outputs": [],
   "source": [
    "transformed_data.to_csv(\"TransformedData.csv\")"
   ]
  },
  {
   "cell_type": "code",
   "execution_count": 27,
   "metadata": {},
   "outputs": [
    {
     "ename": "MemoryError",
     "evalue": "Unable to allocate 158. MiB for an array with shape (18, 9205964) and data type bool",
     "output_type": "error",
     "traceback": [
      "\u001b[1;31m---------------------------------------------------------------------------\u001b[0m",
      "\u001b[1;31mMemoryError\u001b[0m                               Traceback (most recent call last)",
      "Input \u001b[1;32mIn [27]\u001b[0m, in \u001b[0;36m<cell line: 1>\u001b[1;34m()\u001b[0m\n\u001b[1;32m----> 1\u001b[0m \u001b[43mtransformed_data\u001b[49m\u001b[38;5;241;43m.\u001b[39;49m\u001b[43misna\u001b[49m\u001b[43m(\u001b[49m\u001b[43m)\u001b[49m\u001b[38;5;241m.\u001b[39msum()\n",
      "File \u001b[1;32m~\\anaconda3\\lib\\site-packages\\pandas\\core\\frame.py:5812\u001b[0m, in \u001b[0;36mDataFrame.isna\u001b[1;34m(self)\u001b[0m\n\u001b[0;32m   5810\u001b[0m \u001b[38;5;129m@doc\u001b[39m(NDFrame\u001b[38;5;241m.\u001b[39misna, klass\u001b[38;5;241m=\u001b[39m_shared_doc_kwargs[\u001b[38;5;124m\"\u001b[39m\u001b[38;5;124mklass\u001b[39m\u001b[38;5;124m\"\u001b[39m])\n\u001b[0;32m   5811\u001b[0m \u001b[38;5;28;01mdef\u001b[39;00m \u001b[38;5;21misna\u001b[39m(\u001b[38;5;28mself\u001b[39m) \u001b[38;5;241m-\u001b[39m\u001b[38;5;241m>\u001b[39m DataFrame:\n\u001b[1;32m-> 5812\u001b[0m     result \u001b[38;5;241m=\u001b[39m \u001b[38;5;28mself\u001b[39m\u001b[38;5;241m.\u001b[39m_constructor(\u001b[38;5;28;43mself\u001b[39;49m\u001b[38;5;241;43m.\u001b[39;49m\u001b[43m_mgr\u001b[49m\u001b[38;5;241;43m.\u001b[39;49m\u001b[43misna\u001b[49m\u001b[43m(\u001b[49m\u001b[43mfunc\u001b[49m\u001b[38;5;241;43m=\u001b[39;49m\u001b[43misna\u001b[49m\u001b[43m)\u001b[49m)\n\u001b[0;32m   5813\u001b[0m     \u001b[38;5;28;01mreturn\u001b[39;00m result\u001b[38;5;241m.\u001b[39m__finalize__(\u001b[38;5;28mself\u001b[39m, method\u001b[38;5;241m=\u001b[39m\u001b[38;5;124m\"\u001b[39m\u001b[38;5;124misna\u001b[39m\u001b[38;5;124m\"\u001b[39m)\n",
      "File \u001b[1;32m~\\anaconda3\\lib\\site-packages\\pandas\\core\\internals\\base.py:131\u001b[0m, in \u001b[0;36mDataManager.isna\u001b[1;34m(self, func)\u001b[0m\n\u001b[0;32m    130\u001b[0m \u001b[38;5;28;01mdef\u001b[39;00m \u001b[38;5;21misna\u001b[39m(\u001b[38;5;28mself\u001b[39m: T, func) \u001b[38;5;241m-\u001b[39m\u001b[38;5;241m>\u001b[39m T:\n\u001b[1;32m--> 131\u001b[0m     \u001b[38;5;28;01mreturn\u001b[39;00m \u001b[38;5;28;43mself\u001b[39;49m\u001b[38;5;241;43m.\u001b[39;49m\u001b[43mapply\u001b[49m\u001b[43m(\u001b[49m\u001b[38;5;124;43m\"\u001b[39;49m\u001b[38;5;124;43mapply\u001b[39;49m\u001b[38;5;124;43m\"\u001b[39;49m\u001b[43m,\u001b[49m\u001b[43m \u001b[49m\u001b[43mfunc\u001b[49m\u001b[38;5;241;43m=\u001b[39;49m\u001b[43mfunc\u001b[49m\u001b[43m)\u001b[49m\n",
      "File \u001b[1;32m~\\anaconda3\\lib\\site-packages\\pandas\\core\\internals\\managers.py:327\u001b[0m, in \u001b[0;36mBaseBlockManager.apply\u001b[1;34m(self, f, align_keys, ignore_failures, **kwargs)\u001b[0m\n\u001b[0;32m    325\u001b[0m         applied \u001b[38;5;241m=\u001b[39m b\u001b[38;5;241m.\u001b[39mapply(f, \u001b[38;5;241m*\u001b[39m\u001b[38;5;241m*\u001b[39mkwargs)\n\u001b[0;32m    326\u001b[0m     \u001b[38;5;28;01melse\u001b[39;00m:\n\u001b[1;32m--> 327\u001b[0m         applied \u001b[38;5;241m=\u001b[39m \u001b[38;5;28;43mgetattr\u001b[39;49m\u001b[43m(\u001b[49m\u001b[43mb\u001b[49m\u001b[43m,\u001b[49m\u001b[43m \u001b[49m\u001b[43mf\u001b[49m\u001b[43m)\u001b[49m\u001b[43m(\u001b[49m\u001b[38;5;241;43m*\u001b[39;49m\u001b[38;5;241;43m*\u001b[39;49m\u001b[43mkwargs\u001b[49m\u001b[43m)\u001b[49m\n\u001b[0;32m    328\u001b[0m \u001b[38;5;28;01mexcept\u001b[39;00m (\u001b[38;5;167;01mTypeError\u001b[39;00m, \u001b[38;5;167;01mNotImplementedError\u001b[39;00m):\n\u001b[0;32m    329\u001b[0m     \u001b[38;5;28;01mif\u001b[39;00m \u001b[38;5;129;01mnot\u001b[39;00m ignore_failures:\n",
      "File \u001b[1;32m~\\anaconda3\\lib\\site-packages\\pandas\\core\\internals\\blocks.py:381\u001b[0m, in \u001b[0;36mBlock.apply\u001b[1;34m(self, func, **kwargs)\u001b[0m\n\u001b[0;32m    376\u001b[0m \u001b[38;5;124;03m\"\"\"\u001b[39;00m\n\u001b[0;32m    377\u001b[0m \u001b[38;5;124;03mapply the function to my values; return a block if we are not\u001b[39;00m\n\u001b[0;32m    378\u001b[0m \u001b[38;5;124;03mone\u001b[39;00m\n\u001b[0;32m    379\u001b[0m \u001b[38;5;124;03m\"\"\"\u001b[39;00m\n\u001b[0;32m    380\u001b[0m \u001b[38;5;28;01mwith\u001b[39;00m np\u001b[38;5;241m.\u001b[39merrstate(\u001b[38;5;28mall\u001b[39m\u001b[38;5;241m=\u001b[39m\u001b[38;5;124m\"\u001b[39m\u001b[38;5;124mignore\u001b[39m\u001b[38;5;124m\"\u001b[39m):\n\u001b[1;32m--> 381\u001b[0m     result \u001b[38;5;241m=\u001b[39m \u001b[43mfunc\u001b[49m\u001b[43m(\u001b[49m\u001b[38;5;28;43mself\u001b[39;49m\u001b[38;5;241;43m.\u001b[39;49m\u001b[43mvalues\u001b[49m\u001b[43m,\u001b[49m\u001b[43m \u001b[49m\u001b[38;5;241;43m*\u001b[39;49m\u001b[38;5;241;43m*\u001b[39;49m\u001b[43mkwargs\u001b[49m\u001b[43m)\u001b[49m\n\u001b[0;32m    383\u001b[0m \u001b[38;5;28;01mreturn\u001b[39;00m \u001b[38;5;28mself\u001b[39m\u001b[38;5;241m.\u001b[39m_split_op_result(result)\n",
      "File \u001b[1;32m~\\anaconda3\\lib\\site-packages\\pandas\\core\\dtypes\\missing.py:138\u001b[0m, in \u001b[0;36misna\u001b[1;34m(obj)\u001b[0m\n\u001b[0;32m     61\u001b[0m \u001b[38;5;28;01mdef\u001b[39;00m \u001b[38;5;21misna\u001b[39m(obj):\n\u001b[0;32m     62\u001b[0m     \u001b[38;5;124;03m\"\"\"\u001b[39;00m\n\u001b[0;32m     63\u001b[0m \u001b[38;5;124;03m    Detect missing values for an array-like object.\u001b[39;00m\n\u001b[0;32m     64\u001b[0m \n\u001b[1;32m   (...)\u001b[0m\n\u001b[0;32m    136\u001b[0m \u001b[38;5;124;03m    Name: 1, dtype: bool\u001b[39;00m\n\u001b[0;32m    137\u001b[0m \u001b[38;5;124;03m    \"\"\"\u001b[39;00m\n\u001b[1;32m--> 138\u001b[0m     \u001b[38;5;28;01mreturn\u001b[39;00m \u001b[43m_isna\u001b[49m\u001b[43m(\u001b[49m\u001b[43mobj\u001b[49m\u001b[43m)\u001b[49m\n",
      "File \u001b[1;32m~\\anaconda3\\lib\\site-packages\\pandas\\core\\dtypes\\missing.py:171\u001b[0m, in \u001b[0;36m_isna\u001b[1;34m(obj, inf_as_na)\u001b[0m\n\u001b[0;32m    169\u001b[0m     \u001b[38;5;28;01mreturn\u001b[39;00m \u001b[38;5;28;01mFalse\u001b[39;00m\n\u001b[0;32m    170\u001b[0m \u001b[38;5;28;01melif\u001b[39;00m \u001b[38;5;28misinstance\u001b[39m(obj, (np\u001b[38;5;241m.\u001b[39mndarray, ABCExtensionArray)):\n\u001b[1;32m--> 171\u001b[0m     \u001b[38;5;28;01mreturn\u001b[39;00m \u001b[43m_isna_array\u001b[49m\u001b[43m(\u001b[49m\u001b[43mobj\u001b[49m\u001b[43m,\u001b[49m\u001b[43m \u001b[49m\u001b[43minf_as_na\u001b[49m\u001b[38;5;241;43m=\u001b[39;49m\u001b[43minf_as_na\u001b[49m\u001b[43m)\u001b[49m\n\u001b[0;32m    172\u001b[0m \u001b[38;5;28;01melif\u001b[39;00m \u001b[38;5;28misinstance\u001b[39m(obj, (ABCSeries, ABCIndex)):\n\u001b[0;32m    173\u001b[0m     result \u001b[38;5;241m=\u001b[39m _isna_array(obj\u001b[38;5;241m.\u001b[39m_values, inf_as_na\u001b[38;5;241m=\u001b[39minf_as_na)\n",
      "File \u001b[1;32m~\\anaconda3\\lib\\site-packages\\pandas\\core\\dtypes\\missing.py:246\u001b[0m, in \u001b[0;36m_isna_array\u001b[1;34m(values, inf_as_na)\u001b[0m\n\u001b[0;32m    244\u001b[0m         result \u001b[38;5;241m=\u001b[39m values\u001b[38;5;241m.\u001b[39misna()\n\u001b[0;32m    245\u001b[0m \u001b[38;5;28;01melif\u001b[39;00m is_string_dtype(dtype):\n\u001b[1;32m--> 246\u001b[0m     result \u001b[38;5;241m=\u001b[39m \u001b[43m_isna_string_dtype\u001b[49m\u001b[43m(\u001b[49m\u001b[43mvalues\u001b[49m\u001b[43m,\u001b[49m\u001b[43m \u001b[49m\u001b[43minf_as_na\u001b[49m\u001b[38;5;241;43m=\u001b[39;49m\u001b[43minf_as_na\u001b[49m\u001b[43m)\u001b[49m\n\u001b[0;32m    247\u001b[0m \u001b[38;5;28;01melif\u001b[39;00m needs_i8_conversion(dtype):\n\u001b[0;32m    248\u001b[0m     \u001b[38;5;66;03m# this is the NaT pattern\u001b[39;00m\n\u001b[0;32m    249\u001b[0m     result \u001b[38;5;241m=\u001b[39m values\u001b[38;5;241m.\u001b[39mview(\u001b[38;5;124m\"\u001b[39m\u001b[38;5;124mi8\u001b[39m\u001b[38;5;124m\"\u001b[39m) \u001b[38;5;241m==\u001b[39m iNaT\n",
      "File \u001b[1;32m~\\anaconda3\\lib\\site-packages\\pandas\\core\\dtypes\\missing.py:267\u001b[0m, in \u001b[0;36m_isna_string_dtype\u001b[1;34m(values, inf_as_na)\u001b[0m\n\u001b[0;32m    265\u001b[0m     result \u001b[38;5;241m=\u001b[39m np\u001b[38;5;241m.\u001b[39mzeros(values\u001b[38;5;241m.\u001b[39mshape, dtype\u001b[38;5;241m=\u001b[39m\u001b[38;5;28mbool\u001b[39m)\n\u001b[0;32m    266\u001b[0m \u001b[38;5;28;01melse\u001b[39;00m:\n\u001b[1;32m--> 267\u001b[0m     result \u001b[38;5;241m=\u001b[39m \u001b[43mnp\u001b[49m\u001b[38;5;241;43m.\u001b[39;49m\u001b[43mempty\u001b[49m\u001b[43m(\u001b[49m\u001b[43mshape\u001b[49m\u001b[43m,\u001b[49m\u001b[43m \u001b[49m\u001b[43mdtype\u001b[49m\u001b[38;5;241;43m=\u001b[39;49m\u001b[38;5;28;43mbool\u001b[39;49m\u001b[43m)\u001b[49m\n\u001b[0;32m    268\u001b[0m     \u001b[38;5;28;01mif\u001b[39;00m inf_as_na:\n\u001b[0;32m    269\u001b[0m         vec \u001b[38;5;241m=\u001b[39m libmissing\u001b[38;5;241m.\u001b[39misnaobj_old(values\u001b[38;5;241m.\u001b[39mravel())\n",
      "\u001b[1;31mMemoryError\u001b[0m: Unable to allocate 158. MiB for an array with shape (18, 9205964) and data type bool"
     ]
    }
   ],
   "source": [
    "transformed_data.isna().sum()"
   ]
  },
  {
   "cell_type": "raw",
   "metadata": {},
   "source": []
  },
  {
   "cell_type": "code",
   "execution_count": 22,
   "metadata": {},
   "outputs": [
    {
     "ename": "MemoryError",
     "evalue": "Unable to allocate 1021. MiB for an array with shape (18, 7436948) and data type object",
     "output_type": "error",
     "traceback": [
      "\u001b[1;31m---------------------------------------------------------------------------\u001b[0m",
      "\u001b[1;31mMemoryError\u001b[0m                               Traceback (most recent call last)",
      "Input \u001b[1;32mIn [22]\u001b[0m, in \u001b[0;36m<cell line: 2>\u001b[1;34m()\u001b[0m\n\u001b[0;32m      1\u001b[0m \u001b[38;5;66;03m# Filtering the questions whose duplicates exists in the entire data\u001b[39;00m\n\u001b[1;32m----> 2\u001b[0m filtered_data \u001b[38;5;241m=\u001b[39m \u001b[43mduplicate\u001b[49m\u001b[38;5;241;43m.\u001b[39;49m\u001b[43mfilter_duplicate\u001b[49m\u001b[43m(\u001b[49m\u001b[43mtransformed_data\u001b[49m\u001b[43m)\u001b[49m\n\u001b[0;32m      3\u001b[0m \u001b[38;5;28mprint\u001b[39m(\u001b[38;5;124mf\u001b[39m\u001b[38;5;124m\"\u001b[39m\u001b[38;5;124mNumber of questions whose duplicates exists :: \u001b[39m\u001b[38;5;132;01m{\u001b[39;00mfiltered_data\u001b[38;5;241m.\u001b[39mshape[\u001b[38;5;241m0\u001b[39m]\u001b[38;5;132;01m}\u001b[39;00m\u001b[38;5;124m\"\u001b[39m)\n",
      "Input \u001b[1;32mIn [10]\u001b[0m, in \u001b[0;36mduplicate_v1.filter_duplicate\u001b[1;34m(self, transformed_data)\u001b[0m\n\u001b[0;32m     24\u001b[0m data \u001b[38;5;241m=\u001b[39m transformed_data\n\u001b[0;32m     25\u001b[0m data[\u001b[38;5;124m\"\u001b[39m\u001b[38;5;124mduplicate\u001b[39m\u001b[38;5;124m\"\u001b[39m] \u001b[38;5;241m=\u001b[39m data[\u001b[38;5;124m\"\u001b[39m\u001b[38;5;124mclean_question_data\u001b[39m\u001b[38;5;124m\"\u001b[39m]\u001b[38;5;241m.\u001b[39mduplicated()\n\u001b[1;32m---> 26\u001b[0m duplicated \u001b[38;5;241m=\u001b[39m \u001b[43mdata\u001b[49m\u001b[38;5;241;43m.\u001b[39;49m\u001b[43miloc\u001b[49m\u001b[43m[\u001b[49m\u001b[43mnp\u001b[49m\u001b[38;5;241;43m.\u001b[39;49m\u001b[43mwhere\u001b[49m\u001b[43m(\u001b[49m\u001b[43mdata\u001b[49m\u001b[43m[\u001b[49m\u001b[38;5;124;43m\"\u001b[39;49m\u001b[38;5;124;43mduplicate\u001b[39;49m\u001b[38;5;124;43m\"\u001b[39;49m\u001b[43m]\u001b[49m\u001b[43m \u001b[49m\u001b[38;5;241;43m==\u001b[39;49m\u001b[43m \u001b[49m\u001b[38;5;28;43;01mTrue\u001b[39;49;00m\u001b[43m)\u001b[49m\u001b[43m]\u001b[49m\n\u001b[0;32m     27\u001b[0m \u001b[38;5;28;01mreturn\u001b[39;00m duplicated\u001b[38;5;241m.\u001b[39mreset_index()\n",
      "File \u001b[1;32m~\\anaconda3\\lib\\site-packages\\pandas\\core\\indexing.py:925\u001b[0m, in \u001b[0;36m_LocationIndexer.__getitem__\u001b[1;34m(self, key)\u001b[0m\n\u001b[0;32m    923\u001b[0m         \u001b[38;5;28;01mwith\u001b[39;00m suppress(\u001b[38;5;167;01mKeyError\u001b[39;00m, \u001b[38;5;167;01mIndexError\u001b[39;00m):\n\u001b[0;32m    924\u001b[0m             \u001b[38;5;28;01mreturn\u001b[39;00m \u001b[38;5;28mself\u001b[39m\u001b[38;5;241m.\u001b[39mobj\u001b[38;5;241m.\u001b[39m_get_value(\u001b[38;5;241m*\u001b[39mkey, takeable\u001b[38;5;241m=\u001b[39m\u001b[38;5;28mself\u001b[39m\u001b[38;5;241m.\u001b[39m_takeable)\n\u001b[1;32m--> 925\u001b[0m     \u001b[38;5;28;01mreturn\u001b[39;00m \u001b[38;5;28;43mself\u001b[39;49m\u001b[38;5;241;43m.\u001b[39;49m\u001b[43m_getitem_tuple\u001b[49m\u001b[43m(\u001b[49m\u001b[43mkey\u001b[49m\u001b[43m)\u001b[49m\n\u001b[0;32m    926\u001b[0m \u001b[38;5;28;01melse\u001b[39;00m:\n\u001b[0;32m    927\u001b[0m     \u001b[38;5;66;03m# we by definition only have the 0th axis\u001b[39;00m\n\u001b[0;32m    928\u001b[0m     axis \u001b[38;5;241m=\u001b[39m \u001b[38;5;28mself\u001b[39m\u001b[38;5;241m.\u001b[39maxis \u001b[38;5;129;01mor\u001b[39;00m \u001b[38;5;241m0\u001b[39m\n",
      "File \u001b[1;32m~\\anaconda3\\lib\\site-packages\\pandas\\core\\indexing.py:1510\u001b[0m, in \u001b[0;36m_iLocIndexer._getitem_tuple\u001b[1;34m(self, tup)\u001b[0m\n\u001b[0;32m   1507\u001b[0m \u001b[38;5;28;01mwith\u001b[39;00m suppress(IndexingError):\n\u001b[0;32m   1508\u001b[0m     \u001b[38;5;28;01mreturn\u001b[39;00m \u001b[38;5;28mself\u001b[39m\u001b[38;5;241m.\u001b[39m_getitem_lowerdim(tup)\n\u001b[1;32m-> 1510\u001b[0m \u001b[38;5;28;01mreturn\u001b[39;00m \u001b[38;5;28;43mself\u001b[39;49m\u001b[38;5;241;43m.\u001b[39;49m\u001b[43m_getitem_tuple_same_dim\u001b[49m\u001b[43m(\u001b[49m\u001b[43mtup\u001b[49m\u001b[43m)\u001b[49m\n",
      "File \u001b[1;32m~\\anaconda3\\lib\\site-packages\\pandas\\core\\indexing.py:806\u001b[0m, in \u001b[0;36m_LocationIndexer._getitem_tuple_same_dim\u001b[1;34m(self, tup)\u001b[0m\n\u001b[0;32m    803\u001b[0m \u001b[38;5;28;01mif\u001b[39;00m com\u001b[38;5;241m.\u001b[39mis_null_slice(key):\n\u001b[0;32m    804\u001b[0m     \u001b[38;5;28;01mcontinue\u001b[39;00m\n\u001b[1;32m--> 806\u001b[0m retval \u001b[38;5;241m=\u001b[39m \u001b[38;5;28;43mgetattr\u001b[39;49m\u001b[43m(\u001b[49m\u001b[43mretval\u001b[49m\u001b[43m,\u001b[49m\u001b[43m \u001b[49m\u001b[38;5;28;43mself\u001b[39;49m\u001b[38;5;241;43m.\u001b[39;49m\u001b[43mname\u001b[49m\u001b[43m)\u001b[49m\u001b[38;5;241;43m.\u001b[39;49m\u001b[43m_getitem_axis\u001b[49m\u001b[43m(\u001b[49m\u001b[43mkey\u001b[49m\u001b[43m,\u001b[49m\u001b[43m \u001b[49m\u001b[43maxis\u001b[49m\u001b[38;5;241;43m=\u001b[39;49m\u001b[43mi\u001b[49m\u001b[43m)\u001b[49m\n\u001b[0;32m    807\u001b[0m \u001b[38;5;66;03m# We should never have retval.ndim < self.ndim, as that should\u001b[39;00m\n\u001b[0;32m    808\u001b[0m \u001b[38;5;66;03m#  be handled by the _getitem_lowerdim call above.\u001b[39;00m\n\u001b[0;32m    809\u001b[0m \u001b[38;5;28;01massert\u001b[39;00m retval\u001b[38;5;241m.\u001b[39mndim \u001b[38;5;241m==\u001b[39m \u001b[38;5;28mself\u001b[39m\u001b[38;5;241m.\u001b[39mndim\n",
      "File \u001b[1;32m~\\anaconda3\\lib\\site-packages\\pandas\\core\\indexing.py:1557\u001b[0m, in \u001b[0;36m_iLocIndexer._getitem_axis\u001b[1;34m(self, key, axis)\u001b[0m\n\u001b[0;32m   1555\u001b[0m \u001b[38;5;66;03m# a list of integers\u001b[39;00m\n\u001b[0;32m   1556\u001b[0m \u001b[38;5;28;01melif\u001b[39;00m is_list_like_indexer(key):\n\u001b[1;32m-> 1557\u001b[0m     \u001b[38;5;28;01mreturn\u001b[39;00m \u001b[38;5;28;43mself\u001b[39;49m\u001b[38;5;241;43m.\u001b[39;49m\u001b[43m_get_list_axis\u001b[49m\u001b[43m(\u001b[49m\u001b[43mkey\u001b[49m\u001b[43m,\u001b[49m\u001b[43m \u001b[49m\u001b[43maxis\u001b[49m\u001b[38;5;241;43m=\u001b[39;49m\u001b[43maxis\u001b[49m\u001b[43m)\u001b[49m\n\u001b[0;32m   1559\u001b[0m \u001b[38;5;66;03m# a single integer\u001b[39;00m\n\u001b[0;32m   1560\u001b[0m \u001b[38;5;28;01melse\u001b[39;00m:\n\u001b[0;32m   1561\u001b[0m     key \u001b[38;5;241m=\u001b[39m item_from_zerodim(key)\n",
      "File \u001b[1;32m~\\anaconda3\\lib\\site-packages\\pandas\\core\\indexing.py:1530\u001b[0m, in \u001b[0;36m_iLocIndexer._get_list_axis\u001b[1;34m(self, key, axis)\u001b[0m\n\u001b[0;32m   1513\u001b[0m \u001b[38;5;124;03m\"\"\"\u001b[39;00m\n\u001b[0;32m   1514\u001b[0m \u001b[38;5;124;03mReturn Series values by list or array of integers.\u001b[39;00m\n\u001b[0;32m   1515\u001b[0m \n\u001b[1;32m   (...)\u001b[0m\n\u001b[0;32m   1527\u001b[0m \u001b[38;5;124;03m`axis` can only be zero.\u001b[39;00m\n\u001b[0;32m   1528\u001b[0m \u001b[38;5;124;03m\"\"\"\u001b[39;00m\n\u001b[0;32m   1529\u001b[0m \u001b[38;5;28;01mtry\u001b[39;00m:\n\u001b[1;32m-> 1530\u001b[0m     \u001b[38;5;28;01mreturn\u001b[39;00m \u001b[38;5;28;43mself\u001b[39;49m\u001b[38;5;241;43m.\u001b[39;49m\u001b[43mobj\u001b[49m\u001b[38;5;241;43m.\u001b[39;49m\u001b[43m_take_with_is_copy\u001b[49m\u001b[43m(\u001b[49m\u001b[43mkey\u001b[49m\u001b[43m,\u001b[49m\u001b[43m \u001b[49m\u001b[43maxis\u001b[49m\u001b[38;5;241;43m=\u001b[39;49m\u001b[43maxis\u001b[49m\u001b[43m)\u001b[49m\n\u001b[0;32m   1531\u001b[0m \u001b[38;5;28;01mexcept\u001b[39;00m \u001b[38;5;167;01mIndexError\u001b[39;00m \u001b[38;5;28;01mas\u001b[39;00m err:\n\u001b[0;32m   1532\u001b[0m     \u001b[38;5;66;03m# re-raise with different error message\u001b[39;00m\n\u001b[0;32m   1533\u001b[0m     \u001b[38;5;28;01mraise\u001b[39;00m \u001b[38;5;167;01mIndexError\u001b[39;00m(\u001b[38;5;124m\"\u001b[39m\u001b[38;5;124mpositional indexers are out-of-bounds\u001b[39m\u001b[38;5;124m\"\u001b[39m) \u001b[38;5;28;01mfrom\u001b[39;00m \u001b[38;5;21;01merr\u001b[39;00m\n",
      "File \u001b[1;32m~\\anaconda3\\lib\\site-packages\\pandas\\core\\generic.py:3628\u001b[0m, in \u001b[0;36mNDFrame._take_with_is_copy\u001b[1;34m(self, indices, axis)\u001b[0m\n\u001b[0;32m   3620\u001b[0m \u001b[38;5;28;01mdef\u001b[39;00m \u001b[38;5;21m_take_with_is_copy\u001b[39m(\u001b[38;5;28mself\u001b[39m: FrameOrSeries, indices, axis\u001b[38;5;241m=\u001b[39m\u001b[38;5;241m0\u001b[39m) \u001b[38;5;241m-\u001b[39m\u001b[38;5;241m>\u001b[39m FrameOrSeries:\n\u001b[0;32m   3621\u001b[0m     \u001b[38;5;124;03m\"\"\"\u001b[39;00m\n\u001b[0;32m   3622\u001b[0m \u001b[38;5;124;03m    Internal version of the `take` method that sets the `_is_copy`\u001b[39;00m\n\u001b[0;32m   3623\u001b[0m \u001b[38;5;124;03m    attribute to keep track of the parent dataframe (using in indexing\u001b[39;00m\n\u001b[1;32m   (...)\u001b[0m\n\u001b[0;32m   3626\u001b[0m \u001b[38;5;124;03m    See the docstring of `take` for full explanation of the parameters.\u001b[39;00m\n\u001b[0;32m   3627\u001b[0m \u001b[38;5;124;03m    \"\"\"\u001b[39;00m\n\u001b[1;32m-> 3628\u001b[0m     result \u001b[38;5;241m=\u001b[39m \u001b[38;5;28;43mself\u001b[39;49m\u001b[38;5;241;43m.\u001b[39;49m\u001b[43mtake\u001b[49m\u001b[43m(\u001b[49m\u001b[43mindices\u001b[49m\u001b[38;5;241;43m=\u001b[39;49m\u001b[43mindices\u001b[49m\u001b[43m,\u001b[49m\u001b[43m \u001b[49m\u001b[43maxis\u001b[49m\u001b[38;5;241;43m=\u001b[39;49m\u001b[43maxis\u001b[49m\u001b[43m)\u001b[49m\n\u001b[0;32m   3629\u001b[0m     \u001b[38;5;66;03m# Maybe set copy if we didn't actually change the index.\u001b[39;00m\n\u001b[0;32m   3630\u001b[0m     \u001b[38;5;28;01mif\u001b[39;00m \u001b[38;5;129;01mnot\u001b[39;00m result\u001b[38;5;241m.\u001b[39m_get_axis(axis)\u001b[38;5;241m.\u001b[39mequals(\u001b[38;5;28mself\u001b[39m\u001b[38;5;241m.\u001b[39m_get_axis(axis)):\n",
      "File \u001b[1;32m~\\anaconda3\\lib\\site-packages\\pandas\\core\\generic.py:3615\u001b[0m, in \u001b[0;36mNDFrame.take\u001b[1;34m(self, indices, axis, is_copy, **kwargs)\u001b[0m\n\u001b[0;32m   3611\u001b[0m nv\u001b[38;5;241m.\u001b[39mvalidate_take((), kwargs)\n\u001b[0;32m   3613\u001b[0m \u001b[38;5;28mself\u001b[39m\u001b[38;5;241m.\u001b[39m_consolidate_inplace()\n\u001b[1;32m-> 3615\u001b[0m new_data \u001b[38;5;241m=\u001b[39m \u001b[38;5;28;43mself\u001b[39;49m\u001b[38;5;241;43m.\u001b[39;49m\u001b[43m_mgr\u001b[49m\u001b[38;5;241;43m.\u001b[39;49m\u001b[43mtake\u001b[49m\u001b[43m(\u001b[49m\n\u001b[0;32m   3616\u001b[0m \u001b[43m    \u001b[49m\u001b[43mindices\u001b[49m\u001b[43m,\u001b[49m\u001b[43m \u001b[49m\u001b[43maxis\u001b[49m\u001b[38;5;241;43m=\u001b[39;49m\u001b[38;5;28;43mself\u001b[39;49m\u001b[38;5;241;43m.\u001b[39;49m\u001b[43m_get_block_manager_axis\u001b[49m\u001b[43m(\u001b[49m\u001b[43maxis\u001b[49m\u001b[43m)\u001b[49m\u001b[43m,\u001b[49m\u001b[43m \u001b[49m\u001b[43mverify\u001b[49m\u001b[38;5;241;43m=\u001b[39;49m\u001b[38;5;28;43;01mTrue\u001b[39;49;00m\n\u001b[0;32m   3617\u001b[0m \u001b[43m\u001b[49m\u001b[43m)\u001b[49m\n\u001b[0;32m   3618\u001b[0m \u001b[38;5;28;01mreturn\u001b[39;00m \u001b[38;5;28mself\u001b[39m\u001b[38;5;241m.\u001b[39m_constructor(new_data)\u001b[38;5;241m.\u001b[39m__finalize__(\u001b[38;5;28mself\u001b[39m, method\u001b[38;5;241m=\u001b[39m\u001b[38;5;124m\"\u001b[39m\u001b[38;5;124mtake\u001b[39m\u001b[38;5;124m\"\u001b[39m)\n",
      "File \u001b[1;32m~\\anaconda3\\lib\\site-packages\\pandas\\core\\internals\\managers.py:865\u001b[0m, in \u001b[0;36mBaseBlockManager.take\u001b[1;34m(self, indexer, axis, verify)\u001b[0m\n\u001b[0;32m    862\u001b[0m indexer \u001b[38;5;241m=\u001b[39m maybe_convert_indices(indexer, n, verify\u001b[38;5;241m=\u001b[39mverify)\n\u001b[0;32m    864\u001b[0m new_labels \u001b[38;5;241m=\u001b[39m \u001b[38;5;28mself\u001b[39m\u001b[38;5;241m.\u001b[39maxes[axis]\u001b[38;5;241m.\u001b[39mtake(indexer)\n\u001b[1;32m--> 865\u001b[0m \u001b[38;5;28;01mreturn\u001b[39;00m \u001b[38;5;28;43mself\u001b[39;49m\u001b[38;5;241;43m.\u001b[39;49m\u001b[43mreindex_indexer\u001b[49m\u001b[43m(\u001b[49m\n\u001b[0;32m    866\u001b[0m \u001b[43m    \u001b[49m\u001b[43mnew_axis\u001b[49m\u001b[38;5;241;43m=\u001b[39;49m\u001b[43mnew_labels\u001b[49m\u001b[43m,\u001b[49m\n\u001b[0;32m    867\u001b[0m \u001b[43m    \u001b[49m\u001b[43mindexer\u001b[49m\u001b[38;5;241;43m=\u001b[39;49m\u001b[43mindexer\u001b[49m\u001b[43m,\u001b[49m\n\u001b[0;32m    868\u001b[0m \u001b[43m    \u001b[49m\u001b[43maxis\u001b[49m\u001b[38;5;241;43m=\u001b[39;49m\u001b[43maxis\u001b[49m\u001b[43m,\u001b[49m\n\u001b[0;32m    869\u001b[0m \u001b[43m    \u001b[49m\u001b[43mallow_dups\u001b[49m\u001b[38;5;241;43m=\u001b[39;49m\u001b[38;5;28;43;01mTrue\u001b[39;49;00m\u001b[43m,\u001b[49m\n\u001b[0;32m    870\u001b[0m \u001b[43m    \u001b[49m\u001b[43mconsolidate\u001b[49m\u001b[38;5;241;43m=\u001b[39;49m\u001b[38;5;28;43;01mFalse\u001b[39;49;00m\u001b[43m,\u001b[49m\n\u001b[0;32m    871\u001b[0m \u001b[43m\u001b[49m\u001b[43m)\u001b[49m\n",
      "File \u001b[1;32m~\\anaconda3\\lib\\site-packages\\pandas\\core\\internals\\managers.py:680\u001b[0m, in \u001b[0;36mBaseBlockManager.reindex_indexer\u001b[1;34m(self, new_axis, indexer, axis, fill_value, allow_dups, copy, consolidate, only_slice)\u001b[0m\n\u001b[0;32m    676\u001b[0m     new_blocks \u001b[38;5;241m=\u001b[39m \u001b[38;5;28mself\u001b[39m\u001b[38;5;241m.\u001b[39m_slice_take_blocks_ax0(\n\u001b[0;32m    677\u001b[0m         indexer, fill_value\u001b[38;5;241m=\u001b[39mfill_value, only_slice\u001b[38;5;241m=\u001b[39monly_slice\n\u001b[0;32m    678\u001b[0m     )\n\u001b[0;32m    679\u001b[0m \u001b[38;5;28;01melse\u001b[39;00m:\n\u001b[1;32m--> 680\u001b[0m     new_blocks \u001b[38;5;241m=\u001b[39m [\n\u001b[0;32m    681\u001b[0m         blk\u001b[38;5;241m.\u001b[39mtake_nd(\n\u001b[0;32m    682\u001b[0m             indexer,\n\u001b[0;32m    683\u001b[0m             axis\u001b[38;5;241m=\u001b[39m\u001b[38;5;241m1\u001b[39m,\n\u001b[0;32m    684\u001b[0m             fill_value\u001b[38;5;241m=\u001b[39m(\n\u001b[0;32m    685\u001b[0m                 fill_value \u001b[38;5;28;01mif\u001b[39;00m fill_value \u001b[38;5;129;01mis\u001b[39;00m \u001b[38;5;129;01mnot\u001b[39;00m \u001b[38;5;28;01mNone\u001b[39;00m \u001b[38;5;28;01melse\u001b[39;00m blk\u001b[38;5;241m.\u001b[39mfill_value\n\u001b[0;32m    686\u001b[0m             ),\n\u001b[0;32m    687\u001b[0m         )\n\u001b[0;32m    688\u001b[0m         \u001b[38;5;28;01mfor\u001b[39;00m blk \u001b[38;5;129;01min\u001b[39;00m \u001b[38;5;28mself\u001b[39m\u001b[38;5;241m.\u001b[39mblocks\n\u001b[0;32m    689\u001b[0m     ]\n\u001b[0;32m    691\u001b[0m new_axes \u001b[38;5;241m=\u001b[39m \u001b[38;5;28mlist\u001b[39m(\u001b[38;5;28mself\u001b[39m\u001b[38;5;241m.\u001b[39maxes)\n\u001b[0;32m    692\u001b[0m new_axes[axis] \u001b[38;5;241m=\u001b[39m new_axis\n",
      "File \u001b[1;32m~\\anaconda3\\lib\\site-packages\\pandas\\core\\internals\\managers.py:681\u001b[0m, in \u001b[0;36m<listcomp>\u001b[1;34m(.0)\u001b[0m\n\u001b[0;32m    676\u001b[0m     new_blocks \u001b[38;5;241m=\u001b[39m \u001b[38;5;28mself\u001b[39m\u001b[38;5;241m.\u001b[39m_slice_take_blocks_ax0(\n\u001b[0;32m    677\u001b[0m         indexer, fill_value\u001b[38;5;241m=\u001b[39mfill_value, only_slice\u001b[38;5;241m=\u001b[39monly_slice\n\u001b[0;32m    678\u001b[0m     )\n\u001b[0;32m    679\u001b[0m \u001b[38;5;28;01melse\u001b[39;00m:\n\u001b[0;32m    680\u001b[0m     new_blocks \u001b[38;5;241m=\u001b[39m [\n\u001b[1;32m--> 681\u001b[0m         \u001b[43mblk\u001b[49m\u001b[38;5;241;43m.\u001b[39;49m\u001b[43mtake_nd\u001b[49m\u001b[43m(\u001b[49m\n\u001b[0;32m    682\u001b[0m \u001b[43m            \u001b[49m\u001b[43mindexer\u001b[49m\u001b[43m,\u001b[49m\n\u001b[0;32m    683\u001b[0m \u001b[43m            \u001b[49m\u001b[43maxis\u001b[49m\u001b[38;5;241;43m=\u001b[39;49m\u001b[38;5;241;43m1\u001b[39;49m\u001b[43m,\u001b[49m\n\u001b[0;32m    684\u001b[0m \u001b[43m            \u001b[49m\u001b[43mfill_value\u001b[49m\u001b[38;5;241;43m=\u001b[39;49m\u001b[43m(\u001b[49m\n\u001b[0;32m    685\u001b[0m \u001b[43m                \u001b[49m\u001b[43mfill_value\u001b[49m\u001b[43m \u001b[49m\u001b[38;5;28;43;01mif\u001b[39;49;00m\u001b[43m \u001b[49m\u001b[43mfill_value\u001b[49m\u001b[43m \u001b[49m\u001b[38;5;129;43;01mis\u001b[39;49;00m\u001b[43m \u001b[49m\u001b[38;5;129;43;01mnot\u001b[39;49;00m\u001b[43m \u001b[49m\u001b[38;5;28;43;01mNone\u001b[39;49;00m\u001b[43m \u001b[49m\u001b[38;5;28;43;01melse\u001b[39;49;00m\u001b[43m \u001b[49m\u001b[43mblk\u001b[49m\u001b[38;5;241;43m.\u001b[39;49m\u001b[43mfill_value\u001b[49m\n\u001b[0;32m    686\u001b[0m \u001b[43m            \u001b[49m\u001b[43m)\u001b[49m\u001b[43m,\u001b[49m\n\u001b[0;32m    687\u001b[0m \u001b[43m        \u001b[49m\u001b[43m)\u001b[49m\n\u001b[0;32m    688\u001b[0m         \u001b[38;5;28;01mfor\u001b[39;00m blk \u001b[38;5;129;01min\u001b[39;00m \u001b[38;5;28mself\u001b[39m\u001b[38;5;241m.\u001b[39mblocks\n\u001b[0;32m    689\u001b[0m     ]\n\u001b[0;32m    691\u001b[0m new_axes \u001b[38;5;241m=\u001b[39m \u001b[38;5;28mlist\u001b[39m(\u001b[38;5;28mself\u001b[39m\u001b[38;5;241m.\u001b[39maxes)\n\u001b[0;32m    692\u001b[0m new_axes[axis] \u001b[38;5;241m=\u001b[39m new_axis\n",
      "File \u001b[1;32m~\\anaconda3\\lib\\site-packages\\pandas\\core\\internals\\blocks.py:1144\u001b[0m, in \u001b[0;36mBlock.take_nd\u001b[1;34m(self, indexer, axis, new_mgr_locs, fill_value)\u001b[0m\n\u001b[0;32m   1141\u001b[0m \u001b[38;5;28;01melse\u001b[39;00m:\n\u001b[0;32m   1142\u001b[0m     allow_fill \u001b[38;5;241m=\u001b[39m \u001b[38;5;28;01mTrue\u001b[39;00m\n\u001b[1;32m-> 1144\u001b[0m new_values \u001b[38;5;241m=\u001b[39m \u001b[43malgos\u001b[49m\u001b[38;5;241;43m.\u001b[39;49m\u001b[43mtake_nd\u001b[49m\u001b[43m(\u001b[49m\n\u001b[0;32m   1145\u001b[0m \u001b[43m    \u001b[49m\u001b[43mvalues\u001b[49m\u001b[43m,\u001b[49m\u001b[43m \u001b[49m\u001b[43mindexer\u001b[49m\u001b[43m,\u001b[49m\u001b[43m \u001b[49m\u001b[43maxis\u001b[49m\u001b[38;5;241;43m=\u001b[39;49m\u001b[43maxis\u001b[49m\u001b[43m,\u001b[49m\u001b[43m \u001b[49m\u001b[43mallow_fill\u001b[49m\u001b[38;5;241;43m=\u001b[39;49m\u001b[43mallow_fill\u001b[49m\u001b[43m,\u001b[49m\u001b[43m \u001b[49m\u001b[43mfill_value\u001b[49m\u001b[38;5;241;43m=\u001b[39;49m\u001b[43mfill_value\u001b[49m\n\u001b[0;32m   1146\u001b[0m \u001b[43m\u001b[49m\u001b[43m)\u001b[49m\n\u001b[0;32m   1148\u001b[0m \u001b[38;5;66;03m# Called from three places in managers, all of which satisfy\u001b[39;00m\n\u001b[0;32m   1149\u001b[0m \u001b[38;5;66;03m#  this assertion\u001b[39;00m\n\u001b[0;32m   1150\u001b[0m \u001b[38;5;28;01massert\u001b[39;00m \u001b[38;5;129;01mnot\u001b[39;00m (axis \u001b[38;5;241m==\u001b[39m \u001b[38;5;241m0\u001b[39m \u001b[38;5;129;01mand\u001b[39;00m new_mgr_locs \u001b[38;5;129;01mis\u001b[39;00m \u001b[38;5;28;01mNone\u001b[39;00m)\n",
      "File \u001b[1;32m~\\anaconda3\\lib\\site-packages\\pandas\\core\\array_algos\\take.py:108\u001b[0m, in \u001b[0;36mtake_nd\u001b[1;34m(arr, indexer, axis, fill_value, allow_fill)\u001b[0m\n\u001b[0;32m    105\u001b[0m     \u001b[38;5;28;01mreturn\u001b[39;00m arr\u001b[38;5;241m.\u001b[39mtake(indexer, fill_value\u001b[38;5;241m=\u001b[39mfill_value, allow_fill\u001b[38;5;241m=\u001b[39mallow_fill)\n\u001b[0;32m    107\u001b[0m arr \u001b[38;5;241m=\u001b[39m np\u001b[38;5;241m.\u001b[39masarray(arr)\n\u001b[1;32m--> 108\u001b[0m \u001b[38;5;28;01mreturn\u001b[39;00m \u001b[43m_take_nd_ndarray\u001b[49m\u001b[43m(\u001b[49m\u001b[43marr\u001b[49m\u001b[43m,\u001b[49m\u001b[43m \u001b[49m\u001b[43mindexer\u001b[49m\u001b[43m,\u001b[49m\u001b[43m \u001b[49m\u001b[43maxis\u001b[49m\u001b[43m,\u001b[49m\u001b[43m \u001b[49m\u001b[43mfill_value\u001b[49m\u001b[43m,\u001b[49m\u001b[43m \u001b[49m\u001b[43mallow_fill\u001b[49m\u001b[43m)\u001b[49m\n",
      "File \u001b[1;32m~\\anaconda3\\lib\\site-packages\\pandas\\core\\array_algos\\take.py:149\u001b[0m, in \u001b[0;36m_take_nd_ndarray\u001b[1;34m(arr, indexer, axis, fill_value, allow_fill)\u001b[0m\n\u001b[0;32m    147\u001b[0m     out \u001b[38;5;241m=\u001b[39m np\u001b[38;5;241m.\u001b[39mempty(out_shape, dtype\u001b[38;5;241m=\u001b[39mdtype, order\u001b[38;5;241m=\u001b[39m\u001b[38;5;124m\"\u001b[39m\u001b[38;5;124mF\u001b[39m\u001b[38;5;124m\"\u001b[39m)\n\u001b[0;32m    148\u001b[0m \u001b[38;5;28;01melse\u001b[39;00m:\n\u001b[1;32m--> 149\u001b[0m     out \u001b[38;5;241m=\u001b[39m \u001b[43mnp\u001b[49m\u001b[38;5;241;43m.\u001b[39;49m\u001b[43mempty\u001b[49m\u001b[43m(\u001b[49m\u001b[43mout_shape\u001b[49m\u001b[43m,\u001b[49m\u001b[43m \u001b[49m\u001b[43mdtype\u001b[49m\u001b[38;5;241;43m=\u001b[39;49m\u001b[43mdtype\u001b[49m\u001b[43m)\u001b[49m\n\u001b[0;32m    151\u001b[0m func \u001b[38;5;241m=\u001b[39m _get_take_nd_function(\n\u001b[0;32m    152\u001b[0m     arr\u001b[38;5;241m.\u001b[39mndim, arr\u001b[38;5;241m.\u001b[39mdtype, out\u001b[38;5;241m.\u001b[39mdtype, axis\u001b[38;5;241m=\u001b[39maxis, mask_info\u001b[38;5;241m=\u001b[39mmask_info\n\u001b[0;32m    153\u001b[0m )\n\u001b[0;32m    154\u001b[0m func(arr, indexer, out, fill_value)\n",
      "\u001b[1;31mMemoryError\u001b[0m: Unable to allocate 1021. MiB for an array with shape (18, 7436948) and data type object"
     ]
    }
   ],
   "source": [
    "# Filtering the questions whose duplicates exists in the entire data\n",
    "filtered_data = duplicate.filter_duplicate(transformed_data)\n",
    "print(f\"Number of questions whose duplicates exists :: {filtered_data.shape[0]}\")"
   ]
  },
  {
   "cell_type": "code",
   "execution_count": null,
   "metadata": {},
   "outputs": [],
   "source": [
    "# collecting the index of duplicates of a random single question\n",
    "num = 41\n",
    "idx = duplicate.find_dup_idx(filtered_data,cleaned_data3[\"clean_question_data\"].iloc[num])\n",
    "print(f\"\"\"Number of duplicate for question :: {cleaned_data3[\"clean_question_data\"].iloc[num]}\\n is {len(idx)}\"\"\")"
   ]
  },
  {
   "cell_type": "code",
   "execution_count": null,
   "metadata": {},
   "outputs": [],
   "source": [
    "# fetching the variations of the above question\n",
    "duplicate.variations(filtered_data=filtered_data,idx=idx)"
   ]
  },
  {
   "cell_type": "code",
   "execution_count": null,
   "metadata": {},
   "outputs": [],
   "source": [
    "result = duplicate.variations(filtered_data=filtered_data,idx=idx)\n",
    "result.to_excel(\"check.xlsx\")"
   ]
  },
  {
   "cell_type": "code",
   "execution_count": null,
   "metadata": {
    "scrolled": true
   },
   "outputs": [],
   "source": [
    "duplicate.variations(filtered_data=filtered_data,idx=idx)[\"mcq_questions_options\"].iloc[1]"
   ]
  },
  {
   "cell_type": "code",
   "execution_count": null,
   "metadata": {},
   "outputs": [],
   "source": [
    "data = [{\"text\":\"<p>5</p>\",\"media\":\"\"},{\"text\":\"<p>10</p>\",\"media\":\"\"},{\"text\":\"<p>Error</p>\",\"media\":\"\"},{\"text\":\"<p>1</p>\",\"media\":\"\"}]"
   ]
  },
  {
   "cell_type": "code",
   "execution_count": null,
   "metadata": {},
   "outputs": [],
   "source": [
    "d=data[3]"
   ]
  },
  {
   "cell_type": "code",
   "execution_count": null,
   "metadata": {},
   "outputs": [],
   "source": [
    "list(d.values())[0].replace(\"<p>\",\"\").replace(\"</p>\",\"\")"
   ]
  },
  {
   "cell_type": "code",
   "execution_count": null,
   "metadata": {},
   "outputs": [],
   "source": [
    "ans = []\n",
    "for i in range(len(data)):\n",
    "    d=data[i]\n",
    "    ans.append(list(d.values())[0].replace(\"<p>\",\"\").replace(\"</p>\",\"\"))"
   ]
  },
  {
   "cell_type": "code",
   "execution_count": null,
   "metadata": {},
   "outputs": [],
   "source": [
    "ans"
   ]
  },
  {
   "cell_type": "code",
   "execution_count": null,
   "metadata": {},
   "outputs": [],
   "source": [
    "ops_null_mcq_s_c = transformed_data.iloc[np.where(transformed_data[\"mcq_questions_options\"].iloc[np.where(transformed_data[\"question_type\"] == \"mcq_single_correct\")].isnull() == True)]"
   ]
  },
  {
   "cell_type": "code",
   "execution_count": null,
   "metadata": {},
   "outputs": [],
   "source": [
    "ops_null_mcq_s_c = ops_null_mcq_s_c.iloc[np.where(ops_null_mcq_s_c[\"mcq_questions_options\"].isnull() == True)]"
   ]
  },
  {
   "cell_type": "code",
   "execution_count": null,
   "metadata": {},
   "outputs": [],
   "source": [
    "ops_null_mcq_s_c.shape"
   ]
  },
  {
   "cell_type": "code",
   "execution_count": null,
   "metadata": {},
   "outputs": [],
   "source": [
    "ops_null_mcq_s_c.columns"
   ]
  },
  {
   "cell_type": "code",
   "execution_count": null,
   "metadata": {},
   "outputs": [],
   "source": [
    "ops_null_mcq_s_c.to_excel(\"noneData_mcq_s_c_1.xlsx\",columns=['qb_id','q_id','clean_question_data','question_type','createdAt','school_id','mcq_questions_options', 'mcq_questions_answer','school_code','qb_name'])"
   ]
  },
  {
   "cell_type": "code",
   "execution_count": null,
   "metadata": {},
   "outputs": [],
   "source": [
    "# from the sample data which school has the maximum number of empty option rows.  \n",
    "\n",
    "ops_null_mcq_s_c[\"school_code\"].value_counts()"
   ]
  },
  {
   "cell_type": "code",
   "execution_count": null,
   "metadata": {},
   "outputs": [],
   "source": [
    "pd.DataFrame(ops_null_mcq_s_c[\"school_code\"].value_counts()).plot(kind='pie',subplots=True)"
   ]
  },
  {
   "cell_type": "code",
   "execution_count": null,
   "metadata": {},
   "outputs": [],
   "source": [
    "import seaborn as sns"
   ]
  },
  {
   "cell_type": "code",
   "execution_count": null,
   "metadata": {},
   "outputs": [],
   "source": [
    "import matplotlib.pyplot as plt\n",
    "%matplotlib inline"
   ]
  },
  {
   "cell_type": "code",
   "execution_count": null,
   "metadata": {},
   "outputs": [],
   "source": [
    "palette_color = sns.color_palette('bright')\n",
    "plt.pie(pd.DataFrame(ops_null_mcq_s_c[\"school_code\"].value_counts()), labels=pd.DataFrame(ops_null_mcq_s_c[\"school_code\"].values), colors=palette_color, autopct='%.0f%%')\n",
    "plt.show()"
   ]
  },
  {
   "cell_type": "code",
   "execution_count": null,
   "metadata": {},
   "outputs": [],
   "source": []
  },
  {
   "cell_type": "code",
   "execution_count": null,
   "metadata": {},
   "outputs": [],
   "source": []
  },
  {
   "cell_type": "code",
   "execution_count": null,
   "metadata": {},
   "outputs": [],
   "source": []
  },
  {
   "cell_type": "code",
   "execution_count": null,
   "metadata": {},
   "outputs": [],
   "source": [
    "\n",
    "\n",
    "\n",
    "\n",
    "\n",
    "\n",
    "\n",
    "\n",
    "\n",
    "\n",
    "\n",
    "\n",
    "\n",
    "\n",
    "\n",
    "\n",
    "\n",
    "\n",
    "\n",
    "\n",
    "\n",
    "\n",
    "\n",
    "\n",
    "\n",
    "\n",
    "\n",
    "\n",
    "\n",
    "\n",
    "\n",
    "\n",
    "\n",
    "\n",
    "\n",
    "\n",
    "\n",
    "\n",
    "\n",
    "\n",
    "\n",
    "\n",
    "\n",
    "\n",
    "\n",
    "\n",
    "\n",
    "\n",
    "\n",
    "\n",
    "\n",
    "\n",
    "\n",
    "\n",
    "\n",
    "\n",
    "\n",
    "\n",
    "\n",
    "\n",
    "\n",
    "\n",
    "\n",
    "\n"
   ]
  },
  {
   "cell_type": "code",
   "execution_count": null,
   "metadata": {},
   "outputs": [],
   "source": []
  },
  {
   "cell_type": "code",
   "execution_count": null,
   "metadata": {},
   "outputs": [],
   "source": []
  },
  {
   "cell_type": "code",
   "execution_count": null,
   "metadata": {},
   "outputs": [],
   "source": []
  },
  {
   "cell_type": "code",
   "execution_count": null,
   "metadata": {},
   "outputs": [],
   "source": []
  },
  {
   "cell_type": "code",
   "execution_count": null,
   "metadata": {},
   "outputs": [],
   "source": []
  },
  {
   "cell_type": "code",
   "execution_count": null,
   "metadata": {},
   "outputs": [],
   "source": []
  },
  {
   "cell_type": "code",
   "execution_count": null,
   "metadata": {},
   "outputs": [],
   "source": []
  },
  {
   "cell_type": "code",
   "execution_count": null,
   "metadata": {},
   "outputs": [],
   "source": []
  },
  {
   "cell_type": "code",
   "execution_count": null,
   "metadata": {},
   "outputs": [],
   "source": []
  },
  {
   "cell_type": "code",
   "execution_count": null,
   "metadata": {},
   "outputs": [],
   "source": []
  }
 ],
 "metadata": {
  "kernelspec": {
   "display_name": "Python 3 (ipykernel)",
   "language": "python",
   "name": "python3"
  },
  "language_info": {
   "codemirror_mode": {
    "name": "ipython",
    "version": 3
   },
   "file_extension": ".py",
   "mimetype": "text/x-python",
   "name": "python",
   "nbconvert_exporter": "python",
   "pygments_lexer": "ipython3",
   "version": "3.8.5"
  }
 },
 "nbformat": 4,
 "nbformat_minor": 4
}
